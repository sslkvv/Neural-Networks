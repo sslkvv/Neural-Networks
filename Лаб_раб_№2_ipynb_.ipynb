{
  "nbformat": 4,
  "nbformat_minor": 0,
  "metadata": {
    "colab": {
      "provenance": [],
      "collapsed_sections": [
        "HXGYZYpkd_IE",
        "YjCuTwc6vvKh",
        "TR6ua7t7FEzn",
        "Gk_PEXOWfIij",
        "H4WWjjxnF3qn",
        "JKuD4gulfRjQ",
        "Qlxt5EZMLXqy",
        "dsJaeQSy2Bh1",
        "1VqWk4qOhoC3",
        "nqZpzs2nBs63",
        "qLX9aj3eFCPB",
        "t5xY1COTidvK",
        "sXZ6gFy7idvL",
        "GNUea7mn08D6",
        "-USMrfQajCMs",
        "8KrTfhC5310u",
        "lpcKJXHBFh7J",
        "wX02lsWcfeza",
        "BmTr_lXTKNbN",
        "Kz1rjFemTFh6"
      ]
    },
    "kernelspec": {
      "name": "python3",
      "display_name": "Python 3"
    },
    "language_info": {
      "name": "python"
    }
  },
  "cells": [
    {
      "cell_type": "markdown",
      "source": [
        "# 1. ОЧЕНЬ ЛЕГКО"
      ],
      "metadata": {
        "id": "HXGYZYpkd_IE"
      }
    },
    {
      "cell_type": "markdown",
      "source": [
        "## 1. Подготовка"
      ],
      "metadata": {
        "id": "YjCuTwc6vvKh"
      }
    },
    {
      "cell_type": "code",
      "source": [
        "from tensorflow.keras.datasets import mnist #Библиотека с базой Mnist\n",
        "from tensorflow.keras.models import Sequential # Подлючаем класс создания модели Sequential\n",
        "from tensorflow.keras.layers import Dense # Подключаем класс Dense - полносвязный слой\n",
        "from tensorflow.keras.optimizers import Adam # Подключаем оптимизатор Adam\n",
        "from tensorflow.keras import utils #Утилиты для to_categorical\n",
        "from tensorflow.keras.preprocessing import image #Для отрисовки изображения\n",
        "import numpy as np # Подключаем библиотеку numpy\n",
        "import pylab # Модуль для построения графиков\n",
        "from mpl_toolkits.mplot3d import Axes3D # Модуль для трехмерной графики\n",
        "from google.colab import files #Для загрузки своей картинки\n",
        "import matplotlib.pyplot as plt #Отрисовка изображений\n",
        "from sklearn.preprocessing import LabelEncoder, StandardScaler # Функции для нормализации данных\n",
        "from sklearn import preprocessing # Пакет предварительной обработки данных\n",
        "from PIL import Image #Отрисовка изображений\n",
        "#Отрисовывать изображения в ноутбуке, а не в консоль или файл\n",
        "%matplotlib inline "
      ],
      "metadata": {
        "id": "ikye-iL-vl1W"
      },
      "execution_count": null,
      "outputs": []
    },
    {
      "cell_type": "code",
      "source": [
        "(x_train_org, y_train_org), (x_test_org, y_test_org) = mnist.load_data() #Загрузка данных Mnist"
      ],
      "metadata": {
        "id": "mQy4PKcavpB8"
      },
      "execution_count": null,
      "outputs": []
    },
    {
      "cell_type": "code",
      "source": [
        "#Меняем формат входных картинок с 28х28 на 784х1\n",
        "x_train = x_train_org.reshape(60000, 784)\n",
        "x_test = x_test_org.reshape(10000, 784)\n",
        "print(x_train_org.shape)\n",
        "print(x_train.shape)"
      ],
      "metadata": {
        "colab": {
          "base_uri": "https://localhost:8080/"
        },
        "id": "3O5rVaUrv2Q3",
        "outputId": "dd55905a-3e8e-49df-9190-8177b552556d"
      },
      "execution_count": null,
      "outputs": [
        {
          "output_type": "stream",
          "name": "stdout",
          "text": [
            "(60000, 28, 28)\n",
            "(60000, 784)\n"
          ]
        }
      ]
    },
    {
      "cell_type": "code",
      "source": [
        "#Нормализуем входные картинки\n",
        "x_train = x_train.astype('float32') # преобразовываем x_train в тип float (цифры с плавающей точкой)\n",
        "x_train = x_train / 255 # делим на 255, чтобы диапазон был от 0 до 1\n",
        "x_test = x_test.astype('float32') # преобразовываем x_test в тип float (цифры с плавающей точкой)\n",
        "x_test = x_test / 255 # делим на 255, чтобы диапазон был от 0 до 1"
      ],
      "metadata": {
        "id": "2i9ZyqG9v3Lg"
      },
      "execution_count": null,
      "outputs": []
    },
    {
      "cell_type": "code",
      "source": [
        "# Преобразуем ответы в формат one_hot_encoding\n",
        "y_train = utils.to_categorical(y_train_org, 10)\n",
        "y_test = utils.to_categorical(y_test_org, 10)"
      ],
      "metadata": {
        "id": "TKi5mfTpv53Z"
      },
      "execution_count": null,
      "outputs": []
    },
    {
      "cell_type": "code",
      "source": [
        "print(\"кол-во обучающих данных:\", x_train.shape, \"кол-во тестовых данных:\", x_test.shape, sep=\"\\n\")"
      ],
      "metadata": {
        "colab": {
          "base_uri": "https://localhost:8080/"
        },
        "id": "2CEVqcaNW9aO",
        "outputId": "d158c190-8d97-4012-d89d-7441bf8b5e23"
      },
      "execution_count": null,
      "outputs": [
        {
          "output_type": "stream",
          "name": "stdout",
          "text": [
            "кол-во обучающих данных:\n",
            "(60000, 784)\n",
            "кол-во тестовых данных:\n",
            "(10000, 784)\n"
          ]
        }
      ]
    },
    {
      "cell_type": "markdown",
      "metadata": {
        "id": "TR6ua7t7FEzn"
      },
      "source": [
        "## Создание нейронной сети\n",
        "\n"
      ]
    },
    {
      "cell_type": "code",
      "source": [
        "# Создаем сеть\n",
        "model = Sequential()\n",
        "\n",
        "  # Добавляем слои\n",
        "model.add(Dense(800, input_dim=60, activation='relu'))\n",
        "model.add(Dense(400,  activation='relu'))\n",
        "model.add(Dense(10, activation='softmax'))\n",
        "\n",
        "  # Компилируем сеть\n",
        "model.compile(loss='binary_crossentropy', optimizer=Adam(lr=0.001), metrics=['accuracy'])\n"
      ],
      "metadata": {
        "id": "LYr0O7sZBwEX",
        "colab": {
          "base_uri": "https://localhost:8080/"
        },
        "outputId": "8cbd8c02-e631-49d2-8138-0a2a442465b8"
      },
      "execution_count": null,
      "outputs": [
        {
          "output_type": "stream",
          "name": "stderr",
          "text": [
            "WARNING:absl:`lr` is deprecated, please use `learning_rate` instead, or use the legacy optimizer, e.g.,tf.keras.optimizers.legacy.Adam.\n"
          ]
        }
      ]
    },
    {
      "cell_type": "code",
      "metadata": {
        "id": "odi8yVyxE-w5"
      },
      "source": [
        "model = Sequential() # Создаём сеть прямого распространения\n",
        "model.add(Dense(800, input_dim=784, activation=\"relu\")) # Добавляем полносвязный слой на 800 нейронов с relu-активацией  #dim - сколько признаков идет на вход\n",
        "model.add(Dense(400, activation=\"relu\")) # Добавляем полносвязный слой на 400 нейронов с relu-активацией\n",
        "model.add(Dense(10, activation=\"softmax\")) # Добавляем полносвязный слой на 10 нейронов с softmax-активацией"
      ],
      "execution_count": null,
      "outputs": []
    },
    {
      "cell_type": "code",
      "metadata": {
        "id": "6EMUkxTqFkc1",
        "colab": {
          "base_uri": "https://localhost:8080/"
        },
        "outputId": "d4a05f3f-4549-4c44-eb32-a1aff28c87b9"
      },
      "source": [
        "model.compile(loss=\"categorical_crossentropy\", optimizer=\"adam\", metrics=[\"accuracy\"]) # Компилируем модель\n",
        "print(model.summary()) #Вывод структуры модели"
      ],
      "execution_count": null,
      "outputs": [
        {
          "output_type": "stream",
          "name": "stdout",
          "text": [
            "Model: \"sequential_3\"\n",
            "_________________________________________________________________\n",
            " Layer (type)                Output Shape              Param #   \n",
            "=================================================================\n",
            " dense_9 (Dense)             (None, 800)               628000    \n",
            "                                                                 \n",
            " dense_10 (Dense)            (None, 400)               320400    \n",
            "                                                                 \n",
            " dense_11 (Dense)            (None, 10)                4010      \n",
            "                                                                 \n",
            "=================================================================\n",
            "Total params: 952,410\n",
            "Trainable params: 952,410\n",
            "Non-trainable params: 0\n",
            "_________________________________________________________________\n",
            "None\n"
          ]
        }
      ]
    },
    {
      "cell_type": "markdown",
      "source": [
        "## Деление на обучающую и проверочную выборку"
      ],
      "metadata": {
        "id": "Gk_PEXOWfIij"
      }
    },
    {
      "cell_type": "code",
      "source": [
        "from sklearn.model_selection import train_test_split\n",
        "\n",
        "# Разбиваем датасет на тренировочный и тестовый при помощи функции train_test_split\n",
        "# x_train_new - новые обучающие данные x\n",
        "# x_val - новые обучающие данные y\n",
        "# y_train_new - проверочные данные x\n",
        "# y_val - проверочные данные y\n",
        "# test_size=0.2 - 20% на проверочную выборку\n",
        "x_train_new, x_val, y_train_new, y_val = train_test_split(x_train,\n",
        "                                                          y_train,\n",
        "                                                          test_size=0.5)\n",
        "\n",
        "# Выводим размеры полученных выборок\n",
        "print(x_train_new.shape)\n",
        "print(x_val.shape)\n",
        "print(y_train_new.shape)\n",
        "print(y_val.shape)\n",
        "\n",
        "# Обучаем сеть\n",
        "model.fit(x_train_new, \n",
        "          y_train_new, \n",
        "          batch_size=128, \n",
        "          epochs=15,\n",
        "          validation_data=(x_val, y_val), # Указываем проверочную выборку\n",
        "          verbose=1)"
      ],
      "metadata": {
        "colab": {
          "base_uri": "https://localhost:8080/"
        },
        "id": "Jt_SWzT7ekaS",
        "outputId": "35ed8b17-6d56-4c8f-8956-cf88ebbcd0e6"
      },
      "execution_count": null,
      "outputs": [
        {
          "output_type": "stream",
          "name": "stdout",
          "text": [
            "(24000, 784)\n",
            "(24000, 784)\n",
            "(24000, 10)\n",
            "(24000, 10)\n",
            "Epoch 1/15\n",
            "188/188 [==============================] - 8s 45ms/step - loss: 0.0181 - accuracy: 0.9950 - val_loss: 0.0171 - val_accuracy: 0.9958\n",
            "Epoch 2/15\n",
            "188/188 [==============================] - 8s 44ms/step - loss: 0.0086 - accuracy: 0.9981 - val_loss: 0.0130 - val_accuracy: 0.9971\n",
            "Epoch 3/15\n",
            "188/188 [==============================] - 10s 52ms/step - loss: 0.0040 - accuracy: 0.9994 - val_loss: 0.0133 - val_accuracy: 0.9967\n",
            "Epoch 4/15\n",
            "188/188 [==============================] - 10s 56ms/step - loss: 0.0024 - accuracy: 0.9998 - val_loss: 0.0125 - val_accuracy: 0.9960\n",
            "Epoch 5/15\n",
            "188/188 [==============================] - 10s 53ms/step - loss: 0.0018 - accuracy: 0.9998 - val_loss: 0.0140 - val_accuracy: 0.9956\n",
            "Epoch 6/15\n",
            "188/188 [==============================] - 9s 50ms/step - loss: 0.0013 - accuracy: 0.9999 - val_loss: 0.0127 - val_accuracy: 0.9962\n",
            "Epoch 7/15\n",
            "188/188 [==============================] - 9s 49ms/step - loss: 8.2634e-04 - accuracy: 1.0000 - val_loss: 0.0136 - val_accuracy: 0.9960\n",
            "Epoch 8/15\n",
            "188/188 [==============================] - 10s 55ms/step - loss: 5.7717e-04 - accuracy: 1.0000 - val_loss: 0.0138 - val_accuracy: 0.9962\n",
            "Epoch 9/15\n",
            "188/188 [==============================] - 10s 55ms/step - loss: 3.9143e-04 - accuracy: 1.0000 - val_loss: 0.0146 - val_accuracy: 0.9961\n",
            "Epoch 10/15\n",
            "188/188 [==============================] - 9s 49ms/step - loss: 3.1737e-04 - accuracy: 1.0000 - val_loss: 0.0148 - val_accuracy: 0.9960\n",
            "Epoch 11/15\n",
            "188/188 [==============================] - 7s 38ms/step - loss: 2.5768e-04 - accuracy: 1.0000 - val_loss: 0.0153 - val_accuracy: 0.9960\n",
            "Epoch 12/15\n",
            "188/188 [==============================] - 8s 45ms/step - loss: 2.1369e-04 - accuracy: 1.0000 - val_loss: 0.0156 - val_accuracy: 0.9957\n",
            "Epoch 13/15\n",
            "188/188 [==============================] - 8s 42ms/step - loss: 1.8020e-04 - accuracy: 1.0000 - val_loss: 0.0161 - val_accuracy: 0.9958\n",
            "Epoch 14/15\n",
            "188/188 [==============================] - 10s 51ms/step - loss: 1.5168e-04 - accuracy: 1.0000 - val_loss: 0.0164 - val_accuracy: 0.9959\n",
            "Epoch 15/15\n",
            "188/188 [==============================] - 10s 55ms/step - loss: 1.2826e-04 - accuracy: 1.0000 - val_loss: 0.0166 - val_accuracy: 0.9957\n"
          ]
        },
        {
          "output_type": "execute_result",
          "data": {
            "text/plain": [
              "<keras.callbacks.History at 0x7fd83e5a5940>"
            ]
          },
          "metadata": {},
          "execution_count": 26
        }
      ]
    },
    {
      "cell_type": "markdown",
      "metadata": {
        "id": "H4WWjjxnF3qn"
      },
      "source": [
        "## Обучение нейронной сети\n",
        "\n"
      ]
    },
    {
      "cell_type": "code",
      "metadata": {
        "id": "tzArU3n3F6Lo",
        "colab": {
          "base_uri": "https://localhost:8080/"
        },
        "outputId": "ae2a60a7-c9b7-44c4-966d-1ac83e28135f"
      },
      "source": [
        "#fit - функция обучения нейронки\n",
        "#x_train, y_train - обучающая выборка, входные и выходные данные\n",
        "#batch_size - размер батча, количество примеров, которое обрабатывает нейронка перед одним изменением весов\n",
        "#epochs - количество эпох, когда нейронка обучается на всех примерах выборки\n",
        "#verbose - 0 - не визуализировать ход обучения, 1 - визуализировать\n",
        "history = model.fit(x_train, y_train, batch_size=128, epochs=15, verbose=1)"
      ],
      "execution_count": null,
      "outputs": [
        {
          "output_type": "stream",
          "name": "stdout",
          "text": [
            "Epoch 1/15\n",
            "469/469 [==============================] - 13s 26ms/step - loss: 0.2061 - accuracy: 0.9388\n",
            "Epoch 2/15\n",
            "469/469 [==============================] - 12s 25ms/step - loss: 0.0751 - accuracy: 0.9767\n",
            "Epoch 3/15\n",
            "469/469 [==============================] - 12s 25ms/step - loss: 0.0477 - accuracy: 0.9844\n",
            "Epoch 4/15\n",
            "469/469 [==============================] - 12s 27ms/step - loss: 0.0353 - accuracy: 0.9887\n",
            "Epoch 5/15\n",
            "469/469 [==============================] - 12s 25ms/step - loss: 0.0251 - accuracy: 0.9913\n",
            "Epoch 6/15\n",
            "469/469 [==============================] - 12s 25ms/step - loss: 0.0224 - accuracy: 0.9928\n",
            "Epoch 7/15\n",
            "469/469 [==============================] - 12s 25ms/step - loss: 0.0190 - accuracy: 0.9936\n",
            "Epoch 8/15\n",
            "469/469 [==============================] - 11s 23ms/step - loss: 0.0155 - accuracy: 0.9947\n",
            "Epoch 9/15\n",
            "469/469 [==============================] - 11s 24ms/step - loss: 0.0133 - accuracy: 0.9957\n",
            "Epoch 10/15\n",
            "469/469 [==============================] - 12s 25ms/step - loss: 0.0133 - accuracy: 0.9955\n",
            "Epoch 11/15\n",
            "469/469 [==============================] - 12s 25ms/step - loss: 0.0122 - accuracy: 0.9962\n",
            "Epoch 12/15\n",
            "469/469 [==============================] - 12s 25ms/step - loss: 0.0083 - accuracy: 0.9973\n",
            "Epoch 13/15\n",
            "469/469 [==============================] - 12s 25ms/step - loss: 0.0115 - accuracy: 0.9962\n",
            "Epoch 14/15\n",
            "469/469 [==============================] - 12s 25ms/step - loss: 0.0111 - accuracy: 0.9962\n",
            "Epoch 15/15\n",
            "469/469 [==============================] - 12s 25ms/step - loss: 0.0077 - accuracy: 0.9977\n"
          ]
        }
      ]
    },
    {
      "cell_type": "code",
      "metadata": {
        "id": "nmxH0W_QSOIX"
      },
      "source": [
        "model.save_weights('model.h5')\n",
        "model.load_weights('model.h5')"
      ],
      "execution_count": null,
      "outputs": []
    },
    {
      "cell_type": "markdown",
      "source": [
        "## Проверка на проверочных данных"
      ],
      "metadata": {
        "id": "JKuD4gulfRjQ"
      }
    },
    {
      "cell_type": "markdown",
      "source": [
        "## Проверка на тестовых данных"
      ],
      "metadata": {
        "id": "Qlxt5EZMLXqy"
      }
    },
    {
      "cell_type": "code",
      "source": [
        "scores = test_loss, test_acc=model.evaluate(x_test, y_test)\n",
        "print(\"test_loss\", test_loss)\n",
        "print(\"test_acc\", test_acc)\n",
        "\n"
      ],
      "metadata": {
        "id": "M96ncuMLL7fo",
        "colab": {
          "base_uri": "https://localhost:8080/"
        },
        "outputId": "8b833996-b7a3-42f9-b3e1-9d966b5bb3d5"
      },
      "execution_count": null,
      "outputs": [
        {
          "output_type": "stream",
          "name": "stdout",
          "text": [
            "313/313 [==============================] - 2s 5ms/step - loss: 0.1016 - accuracy: 0.9786\n",
            "test_loss 0.1015537679195404\n",
            "test_acc 0.978600025177002\n"
          ]
        }
      ]
    },
    {
      "cell_type": "code",
      "source": [
        "x_test.shape"
      ],
      "metadata": {
        "colab": {
          "base_uri": "https://localhost:8080/"
        },
        "id": "_PdGKFS4S06B",
        "outputId": "e82acca6-c081-4af9-cc65-ffd93a3283a6"
      },
      "execution_count": null,
      "outputs": [
        {
          "output_type": "execute_result",
          "data": {
            "text/plain": [
              "(10000, 784)"
            ]
          },
          "metadata": {},
          "execution_count": 253
        }
      ]
    },
    {
      "cell_type": "markdown",
      "source": [
        "## Визуализация"
      ],
      "metadata": {
        "id": "dsJaeQSy2Bh1"
      }
    },
    {
      "cell_type": "code",
      "source": [
        "print(history.history.keys())"
      ],
      "metadata": {
        "id": "aOQVv_BR17Do",
        "colab": {
          "base_uri": "https://localhost:8080/"
        },
        "outputId": "fac576a5-5675-4ffa-ff2e-031032dc400b"
      },
      "execution_count": null,
      "outputs": [
        {
          "output_type": "stream",
          "name": "stdout",
          "text": [
            "dict_keys(['loss', 'accuracy'])\n"
          ]
        }
      ]
    },
    {
      "cell_type": "code",
      "source": [
        "# Значения loss на обучающей выборке по эпохам\n",
        "history.history['loss']"
      ],
      "metadata": {
        "id": "_uIVPUak3RLn",
        "colab": {
          "base_uri": "https://localhost:8080/"
        },
        "outputId": "4f338501-9ccb-4a51-ada3-c0775f4d1740"
      },
      "execution_count": null,
      "outputs": [
        {
          "output_type": "execute_result",
          "data": {
            "text/plain": [
              "[0.20605017244815826,\n",
              " 0.07512625306844711,\n",
              " 0.04766233637928963,\n",
              " 0.03529354929924011,\n",
              " 0.02512669935822487,\n",
              " 0.022410403937101364,\n",
              " 0.019021177664399147,\n",
              " 0.015451458282768726,\n",
              " 0.013311445713043213,\n",
              " 0.013295521028339863,\n",
              " 0.012167287059128284,\n",
              " 0.008342014625668526,\n",
              " 0.0114518441259861,\n",
              " 0.011073844507336617,\n",
              " 0.007676232606172562]"
            ]
          },
          "metadata": {},
          "execution_count": 255
        }
      ]
    },
    {
      "cell_type": "code",
      "source": [
        "# Значения точности распознавания на проверочной выборке по эпохам\n",
        "val_acc = history.history['accuracy']\n",
        "for i in range(len(val_acc)):\n",
        "  print(\"Эпоха: \", i, \" точность: \", round(100*val_acc[i], 1), \"%\", sep=\"\")\n",
        "  # round - округление\n",
        "  # sep=\"\" - убрать стандартный разделитель пробел при выводе строки"
      ],
      "metadata": {
        "id": "rxqcGKrn3Ytr",
        "colab": {
          "base_uri": "https://localhost:8080/"
        },
        "outputId": "1a422fa9-5f5e-4a1e-a127-ac5e5818854c"
      },
      "execution_count": null,
      "outputs": [
        {
          "output_type": "stream",
          "name": "stdout",
          "text": [
            "Эпоха: 0 точность: 93.9%\n",
            "Эпоха: 1 точность: 97.7%\n",
            "Эпоха: 2 точность: 98.4%\n",
            "Эпоха: 3 точность: 98.9%\n",
            "Эпоха: 4 точность: 99.1%\n",
            "Эпоха: 5 точность: 99.3%\n",
            "Эпоха: 6 точность: 99.4%\n",
            "Эпоха: 7 точность: 99.5%\n",
            "Эпоха: 8 точность: 99.6%\n",
            "Эпоха: 9 точность: 99.5%\n",
            "Эпоха: 10 точность: 99.6%\n",
            "Эпоха: 11 точность: 99.7%\n",
            "Эпоха: 12 точность: 99.6%\n",
            "Эпоха: 13 точность: 99.6%\n",
            "Эпоха: 14 точность: 99.8%\n"
          ]
        }
      ]
    },
    {
      "cell_type": "code",
      "source": [
        "# Выводим график точности на обучающей выборке\n",
        "# label - имя графика в легенде\n",
        "plt.plot(history.history['accuracy'], \n",
        "         label='Доля верных ответов на обучающем наборе')\n",
        "\n",
        "# Выводим график точности на проверочной выборке\n",
        "plt.plot(history.history['accuracy'], \n",
        "         label='Доля верных ответов на проверочном наборе')\n",
        "\n",
        "# Выводим подписи осей\n",
        "plt.xlabel('Эпоха обучения')\n",
        "plt.ylabel('Доля верных ответов')\n",
        "\n",
        "# Выводим легенду\n",
        "plt.legend()\n",
        "plt.show()"
      ],
      "metadata": {
        "id": "7GNh1EqZ1941",
        "colab": {
          "base_uri": "https://localhost:8080/",
          "height": 281
        },
        "outputId": "696a875b-cc7f-4705-f2ec-2be01f889871"
      },
      "execution_count": null,
      "outputs": [
        {
          "output_type": "display_data",
          "data": {
            "text/plain": [
              "<Figure size 432x288 with 1 Axes>"
            ],
            "image/png": "[encoded data removed]"
          },
          "metadata": {
            "needs_background": "light"
          }
        }
      ]
    },
    {
      "cell_type": "code",
      "source": [
        "# Выводим графики ошибки\n",
        "plt.plot(history.history['loss'], \n",
        "         label='Ошибка на обучающем наборе')\n",
        "plt.plot(history.history['loss'], \n",
        "         label='Ошибка на проверочном наборе')\n",
        "plt.xlabel('Эпоха обучения')\n",
        "plt.ylabel('Ошибка')\n",
        "plt.legend()\n",
        "plt.show()"
      ],
      "metadata": {
        "id": "LDAqZAB01_gu",
        "colab": {
          "base_uri": "https://localhost:8080/",
          "height": 279
        },
        "outputId": "e6b58ff7-c7d2-43ac-f53d-db2673169bbc"
      },
      "execution_count": null,
      "outputs": [
        {
          "output_type": "display_data",
          "data": {
            "text/plain": [
              "<Figure size 432x288 with 1 Axes>"
            ],
            "image/png": "[encoded data removed]"
          },
          "metadata": {
            "needs_background": "light"
          }
        }
      ]
    },
    {
      "cell_type": "markdown",
      "source": [
        "# 2. Легко"
      ],
      "metadata": {
        "id": "1VqWk4qOhoC3"
      }
    },
    {
      "cell_type": "code",
      "source": [
        "x_train = x_train[:5000]\n",
        "print(\"Тренировочная выборка:\", x_train.shape)"
      ],
      "metadata": {
        "id": "uxVH_FSMiCvB"
      },
      "execution_count": null,
      "outputs": []
    },
    {
      "cell_type": "markdown",
      "metadata": {
        "id": "nqZpzs2nBs63"
      },
      "source": [
        "## Распознавание рукописных цифр MNIST"
      ]
    },
    {
      "cell_type": "markdown",
      "metadata": {
        "id": "qLX9aj3eFCPB"
      },
      "source": [
        "## Подготовка данных\n",
        "\n"
      ]
    },
    {
      "cell_type": "code",
      "metadata": {
        "id": "co9Q1s42SciM"
      },
      "source": [
        "from tensorflow.keras.datasets import mnist #Библиотека с базой Mnist\n",
        "from tensorflow.keras.models import Sequential # Подлючаем класс создания модели Sequential\n",
        "from tensorflow.keras.layers import Dense, Activation, Dropout, BatchNormalization # Основные слои\n",
        "from tensorflow.keras.optimizers import Adam # Подключаем оптимизатор Adam\n",
        "from tensorflow.keras import utils #Утилиты для to_categorical\n",
        "from tensorflow.keras.preprocessing import image #Для отрисовки изображения\n",
        "import numpy as np # Подключаем библиотеку numpy\n",
        "import pylab # Модуль для построения графиков\n",
        "from mpl_toolkits.mplot3d import Axes3D # Модуль для трехмерной графики\n",
        "from google.colab import files #Для загрузки своей картинки\n",
        "import matplotlib.pyplot as plt #Отрисовка изображений\n",
        "from PIL import Image #Отрисовка изображений\n",
        "#Отрисовывать изображения в ноутбуке, а не в консоль или файл\n",
        "%matplotlib inline "
      ],
      "execution_count": null,
      "outputs": []
    },
    {
      "cell_type": "code",
      "metadata": {
        "id": "xnYVjcnJC4TY"
      },
      "source": [
        "(x_train_org, y_train_org), (x_test_org, y_test_org) = mnist.load_data() #Загрузка данных Mnist"
      ],
      "execution_count": null,
      "outputs": []
    },
    {
      "cell_type": "code",
      "source": [
        "x_test_org.shape"
      ],
      "metadata": {
        "colab": {
          "base_uri": "https://localhost:8080/"
        },
        "id": "h-jMzP_0NPtJ",
        "outputId": "f45e0c0f-e372-48d3-ed60-ff853afa5e98"
      },
      "execution_count": null,
      "outputs": [
        {
          "output_type": "execute_result",
          "data": {
            "text/plain": [
              "(10000, 28, 28)"
            ]
          },
          "metadata": {},
          "execution_count": 75
        }
      ]
    },
    {
      "cell_type": "code",
      "metadata": {
        "id": "ixb5KVPvdHT7",
        "colab": {
          "base_uri": "https://localhost:8080/"
        },
        "outputId": "372e0374-b683-4a33-e71a-d30bbb782205"
      },
      "source": [
        "x_train_org.shape"
      ],
      "execution_count": null,
      "outputs": [
        {
          "output_type": "execute_result",
          "data": {
            "text/plain": [
              "(60000, 28, 28)"
            ]
          },
          "metadata": {},
          "execution_count": 76
        }
      ]
    },
    {
      "cell_type": "code",
      "metadata": {
        "id": "StxOw0C6EQQd",
        "colab": {
          "base_uri": "https://localhost:8080/"
        },
        "outputId": "81438a66-a57f-4afc-e0bb-2486f3ec0937"
      },
      "source": [
        "#Меняем формат входных картинок с 28х28 на 784х1\n",
        "x_train = x_train_org.reshape(60000, 784)\n",
        "x_test = x_test_org.reshape(10000, 784)\n",
        "print(x_train_org.shape)\n",
        "print(x_train.shape)"
      ],
      "execution_count": null,
      "outputs": [
        {
          "output_type": "stream",
          "name": "stdout",
          "text": [
            "(60000, 28, 28)\n",
            "(60000, 784)\n"
          ]
        }
      ]
    },
    {
      "cell_type": "code",
      "metadata": {
        "id": "R5cW-u8eEXBN"
      },
      "source": [
        "#Нормализуем входные картинки\n",
        "x_train = x_train.astype('float32') # преобразовываем x_train в тип float (цифры с плавающей точкой)\n",
        "x_train = x_train / 255 # делим на 255, чтобы диапазон был от 0 до 1\n",
        "x_test = x_test.astype('float32') # преобразовываем x_test в тип float (цифры с плавающей точкой)\n",
        "x_test = x_test / 255 # делим на 255, чтобы диапазон был от 0 до 1"
      ],
      "execution_count": null,
      "outputs": []
    },
    {
      "cell_type": "code",
      "metadata": {
        "id": "zrxFxFA5EsVU"
      },
      "source": [
        "# Преобразуем ответы в формат one_hot_encoding\n",
        "y_train = utils.to_categorical(y_train_org, 10)\n",
        "y_test = utils.to_categorical(y_test_org, 10)"
      ],
      "execution_count": null,
      "outputs": []
    },
    {
      "cell_type": "markdown",
      "metadata": {
        "id": "t5xY1COTidvK"
      },
      "source": [
        "### Создание нейронной сети\n",
        "\n"
      ]
    },
    {
      "cell_type": "code",
      "source": [
        "# Функция пересоздаёт пустую сеть\n",
        "def createModel():\n",
        "\n",
        "  # Создаем сеть\n",
        "  model = Sequential()\n",
        "\n",
        "  # Добавляем слои\n",
        "  model.add(Dense(800, input_dim=784, activation=\"relu\")) # Добавляем полносвязный слой на 800 нейронов с relu-активацией  #dim - сколько признаков идет на вход\n",
        "  model.add(Dense(400, activation=\"relu\")) # Добавляем полносвязный слой на 400 нейронов с relu-активацией\n",
        "  model.add(Dense(10, activation=\"softmax\")) # Добавляем полносвязный слой на 10 нейронов с softmax-активацией\n",
        "\n",
        "  # Компилируем сеть\n",
        "  model.compile(loss=\"categorical_crossentropy\", optimizer=\"adam\", metrics=[\"accuracy\"])\n",
        "\n",
        "  return model # Возвращаем созданную сеть"
      ],
      "metadata": {
        "id": "HXStRHYZl9-H"
      },
      "execution_count": null,
      "outputs": []
    },
    {
      "cell_type": "code",
      "source": [
        "# Функция пересоздаёт пустую сеть\n",
        "def createModelDrop():\n",
        "\n",
        "  # Создаем сеть\n",
        "  model = Sequential()\n",
        "\n",
        "  # Добавляем слои\n",
        "  model.add(Dense(800, input_dim=784, activation=\"relu\")) # Добавляем полносвязный слой на 800 нейронов с relu-активацией  #dim - сколько признаков идет на вход\n",
        "  model.add(Dropout(0.3, input_shape=(60,)))\n",
        "  model.add(Dense(400, input_dim=784, activation=\"relu\"))\n",
        "  model.add(BatchNormalization(input_shape=(60, )))\n",
        "  model.add(Dropout(0.3))\n",
        "  model.add(Dense(200, activation=\"relu\")) # Добавляем полносвязный слой на 400 нейронов с relu-активацией\n",
        "  model.add(BatchNormalization())\n",
        "  model.add(Dropout(0.3))\n",
        "  model.add(BatchNormalization())\n",
        "  model.add(Dense(10, activation=\"softmax\")) # Добавляем полносвязный слой на 10 нейронов с softmax-активацией\n",
        "\n",
        "  # Компилируем сеть\n",
        "  model.compile(loss=\"categorical_crossentropy\", optimizer=\"adam\", metrics=[\"accuracy\"])\n",
        "\n",
        "  return model # Возвращаем созданную сеть"
      ],
      "metadata": {
        "id": "4_kmMpIZuUHf"
      },
      "execution_count": null,
      "outputs": []
    },
    {
      "cell_type": "markdown",
      "metadata": {
        "id": "sXZ6gFy7idvL"
      },
      "source": [
        "## Обучение нейронной сети\n",
        "\n"
      ]
    },
    {
      "cell_type": "code",
      "metadata": {
        "colab": {
          "base_uri": "https://localhost:8080/"
        },
        "outputId": "ee4c5383-8370-436a-a4cf-e05efa8b25d9",
        "id": "rY9DczE5idvL"
      },
      "source": [
        "#fit - функция обучения нейронки\n",
        "#x_train, y_train - обучающая выборка, входные и выходные данные\n",
        "#batch_size - размер батча, количество примеров, которое обрабатывает нейронка перед одним изменением весов\n",
        "#epochs - количество эпох, когда нейронка обучается на всех примерах выборки\n",
        "#verbose - 0 - не визуализировать ход обучения, 1 - визуализировать\n",
        "model = createModel()\n",
        "history = model.fit(x_train, y_train, batch_size=128, epochs=15, verbose=1)"
      ],
      "execution_count": null,
      "outputs": [
        {
          "output_type": "stream",
          "name": "stdout",
          "text": [
            "Epoch 1/15\n",
            "469/469 [==============================] - 7s 14ms/step - loss: 0.2068 - accuracy: 0.9388\n",
            "Epoch 2/15\n",
            "469/469 [==============================] - 7s 16ms/step - loss: 0.0756 - accuracy: 0.9772\n",
            "Epoch 3/15\n",
            "469/469 [==============================] - 7s 14ms/step - loss: 0.0472 - accuracy: 0.9844\n",
            "Epoch 4/15\n",
            "469/469 [==============================] - 7s 16ms/step - loss: 0.0335 - accuracy: 0.9892\n",
            "Epoch 5/15\n",
            "469/469 [==============================] - 8s 16ms/step - loss: 0.0266 - accuracy: 0.9916\n",
            "Epoch 6/15\n",
            "469/469 [==============================] - 7s 14ms/step - loss: 0.0205 - accuracy: 0.9931\n",
            "Epoch 7/15\n",
            "469/469 [==============================] - 7s 16ms/step - loss: 0.0184 - accuracy: 0.9934\n",
            "Epoch 8/15\n",
            "469/469 [==============================] - 8s 16ms/step - loss: 0.0165 - accuracy: 0.9943\n",
            "Epoch 9/15\n",
            "469/469 [==============================] - 7s 15ms/step - loss: 0.0125 - accuracy: 0.9958\n",
            "Epoch 10/15\n",
            "469/469 [==============================] - 7s 16ms/step - loss: 0.0138 - accuracy: 0.9954\n",
            "Epoch 11/15\n",
            "469/469 [==============================] - 7s 14ms/step - loss: 0.0116 - accuracy: 0.9961\n",
            "Epoch 12/15\n",
            "469/469 [==============================] - 7s 16ms/step - loss: 0.0117 - accuracy: 0.9960\n",
            "Epoch 13/15\n",
            "469/469 [==============================] - 7s 15ms/step - loss: 0.0093 - accuracy: 0.9970\n",
            "Epoch 14/15\n",
            "469/469 [==============================] - 7s 15ms/step - loss: 0.0080 - accuracy: 0.9974\n",
            "Epoch 15/15\n",
            "469/469 [==============================] - 7s 16ms/step - loss: 0.0129 - accuracy: 0.9960\n"
          ]
        }
      ]
    },
    {
      "cell_type": "code",
      "metadata": {
        "id": "RtbXb0ZAidvL"
      },
      "source": [
        "model.save_weights('model.h5')\n",
        "model.load_weights('model.h5')"
      ],
      "execution_count": null,
      "outputs": []
    },
    {
      "cell_type": "code",
      "source": [
        "print(history.history.keys())"
      ],
      "metadata": {
        "colab": {
          "base_uri": "https://localhost:8080/"
        },
        "id": "sm8KZH7z02Xt",
        "outputId": "01c1b742-e2fc-4400-f99b-1ef5aec78df3"
      },
      "execution_count": null,
      "outputs": [
        {
          "output_type": "stream",
          "name": "stdout",
          "text": [
            "dict_keys(['loss', 'accuracy'])\n"
          ]
        }
      ]
    },
    {
      "cell_type": "markdown",
      "source": [
        "## На проверочных данных"
      ],
      "metadata": {
        "id": "GNUea7mn08D6"
      }
    },
    {
      "cell_type": "code",
      "source": [
        "# Создаём пустую сеть\n",
        "\n",
        "\n",
        "# Обучаем сеть\n",
        "history = model.fit(x_train, \n",
        "          y_train,\n",
        "          batch_size=128, \n",
        "          epochs=15,\n",
        "          validation_split=0.2, # Указываем 20% случайных примеров для проверочной выборки\n",
        "          verbose=1)"
      ],
      "metadata": {
        "colab": {
          "base_uri": "https://localhost:8080/"
        },
        "id": "-_6QvvENm7zp",
        "outputId": "c9dadf66-25f0-47ff-bc75-e0aee7fc3679"
      },
      "execution_count": null,
      "outputs": [
        {
          "output_type": "stream",
          "name": "stdout",
          "text": [
            "Epoch 1/15\n",
            "375/375 [==============================] - 6s 16ms/step - loss: 0.0069 - accuracy: 0.9977 - val_loss: 0.0093 - val_accuracy: 0.9961\n",
            "Epoch 2/15\n",
            "375/375 [==============================] - 7s 18ms/step - loss: 0.0057 - accuracy: 0.9980 - val_loss: 0.0048 - val_accuracy: 0.9982\n",
            "Epoch 3/15\n",
            "375/375 [==============================] - 6s 16ms/step - loss: 0.0029 - accuracy: 0.9993 - val_loss: 0.0082 - val_accuracy: 0.9973\n",
            "Epoch 4/15\n",
            "375/375 [==============================] - 7s 18ms/step - loss: 0.0089 - accuracy: 0.9975 - val_loss: 0.0250 - val_accuracy: 0.9937\n",
            "Epoch 5/15\n",
            "375/375 [==============================] - 6s 16ms/step - loss: 0.0124 - accuracy: 0.9960 - val_loss: 0.0182 - val_accuracy: 0.9942\n",
            "Epoch 6/15\n",
            "375/375 [==============================] - 7s 18ms/step - loss: 0.0052 - accuracy: 0.9983 - val_loss: 0.0104 - val_accuracy: 0.9958\n",
            "Epoch 7/15\n",
            "375/375 [==============================] - 6s 16ms/step - loss: 0.0069 - accuracy: 0.9979 - val_loss: 0.0323 - val_accuracy: 0.9912\n",
            "Epoch 8/15\n",
            "375/375 [==============================] - 6s 17ms/step - loss: 0.0090 - accuracy: 0.9971 - val_loss: 0.0306 - val_accuracy: 0.9919\n",
            "Epoch 9/15\n",
            "375/375 [==============================] - 6s 16ms/step - loss: 0.0046 - accuracy: 0.9987 - val_loss: 0.0171 - val_accuracy: 0.9949\n",
            "Epoch 10/15\n",
            "375/375 [==============================] - 7s 18ms/step - loss: 0.0055 - accuracy: 0.9981 - val_loss: 0.0187 - val_accuracy: 0.9951\n",
            "Epoch 11/15\n",
            "375/375 [==============================] - 6s 17ms/step - loss: 0.0042 - accuracy: 0.9989 - val_loss: 0.0181 - val_accuracy: 0.9940\n",
            "Epoch 12/15\n",
            "375/375 [==============================] - 6s 17ms/step - loss: 0.0061 - accuracy: 0.9983 - val_loss: 0.0313 - val_accuracy: 0.9921\n",
            "Epoch 13/15\n",
            "375/375 [==============================] - 6s 17ms/step - loss: 0.0073 - accuracy: 0.9978 - val_loss: 0.0249 - val_accuracy: 0.9924\n",
            "Epoch 14/15\n",
            "375/375 [==============================] - 6s 16ms/step - loss: 0.0034 - accuracy: 0.9991 - val_loss: 0.0259 - val_accuracy: 0.9936\n",
            "Epoch 15/15\n",
            "375/375 [==============================] - 7s 18ms/step - loss: 0.0064 - accuracy: 0.9984 - val_loss: 0.0244 - val_accuracy: 0.9923\n"
          ]
        }
      ]
    },
    {
      "cell_type": "markdown",
      "source": [
        "## Проверка на тестовых данных "
      ],
      "metadata": {
        "id": "-USMrfQajCMs"
      }
    },
    {
      "cell_type": "code",
      "source": [
        "test_loss, test_acc=model.evaluate(x_test, y_test)\n",
        "print(\"test_loss\", test_loss)\n",
        "print(\"test_acc\", test_acc)"
      ],
      "metadata": {
        "colab": {
          "base_uri": "https://localhost:8080/"
        },
        "outputId": "ff716161-605b-4901-a6c5-237cd6a6e164",
        "id": "hGBjsuCGjCMs"
      },
      "execution_count": null,
      "outputs": [
        {
          "output_type": "stream",
          "name": "stdout",
          "text": [
            "313/313 [==============================] - 1s 3ms/step - loss: 0.1037 - accuracy: 0.9827\n",
            "test_loss 0.10374472290277481\n",
            "test_acc 0.982699990272522\n"
          ]
        }
      ]
    },
    {
      "cell_type": "code",
      "source": [
        "print(history.history.keys())"
      ],
      "metadata": {
        "colab": {
          "base_uri": "https://localhost:8080/"
        },
        "id": "cpX0J4-K2WMz",
        "outputId": "6c95dc7c-8876-4910-c35b-3b375f03b810"
      },
      "execution_count": null,
      "outputs": [
        {
          "output_type": "stream",
          "name": "stdout",
          "text": [
            "dict_keys(['loss', 'accuracy', 'val_loss', 'val_accuracy'])\n"
          ]
        }
      ]
    },
    {
      "cell_type": "markdown",
      "source": [
        "## Визуализация"
      ],
      "metadata": {
        "id": "8KrTfhC5310u"
      }
    },
    {
      "cell_type": "code",
      "source": [
        "# Выводим график точности на обучающей выборке\n",
        "# label - имя графика в легенде\n",
        "plt.plot(history.history['accuracy'], \n",
        "         label='Доля верных ответов на обучающем наборе')\n",
        "\n",
        "# Выводим график точности на проверочной выборке\n",
        "plt.plot(history.history['val_accuracy'], \n",
        "         label='Доля верных ответов на проверочном наборе')\n",
        "\n",
        "# Выводим подписи осей\n",
        "plt.xlabel('Эпоха обучения')\n",
        "plt.ylabel('Доля верных ответов')\n",
        "\n",
        "# Выводим легенду\n",
        "plt.legend()\n",
        "plt.show()"
      ],
      "metadata": {
        "colab": {
          "base_uri": "https://localhost:8080/"
        },
        "id": "2DmKVgkI34wY",
        "outputId": "ff545588-5cd9-48a7-a60b-aca7a8dacb7a"
      },
      "execution_count": null,
      "outputs": [
        {
          "output_type": "display_data",
          "data": {
            "text/plain": [
              "<Figure size 432x288 with 1 Axes>"
            ],
            "image/png": "[encoded data removed]"
          },
          "metadata": {
            "needs_background": "light"
          }
        }
      ]
    },
    {
      "cell_type": "code",
      "source": [
        "# Выводим графики ошибки\n",
        "plt.plot(history.history['loss'], \n",
        "         label='Ошибка на обучающем наборе')\n",
        "plt.plot(history.history['val_loss'], \n",
        "         label='Ошибка на проверочном наборе')\n",
        "plt.xlabel('Эпоха обучения')\n",
        "plt.ylabel('Ошибка')\n",
        "plt.legend()\n",
        "plt.show()"
      ],
      "metadata": {
        "colab": {
          "base_uri": "https://localhost:8080/"
        },
        "id": "XtEUwn8T39y6",
        "outputId": "9aab92b4-b533-4fd9-b2b9-07465a806fe5"
      },
      "execution_count": null,
      "outputs": [
        {
          "output_type": "display_data",
          "data": {
            "text/plain": [
              "<Figure size 432x288 with 1 Axes>"
            ],
            "image/png": "[encoded data removed]"
          },
          "metadata": {
            "needs_background": "light"
          }
        }
      ]
    },
    {
      "cell_type": "markdown",
      "source": [
        "# 3. Нормально"
      ],
      "metadata": {
        "id": "lpcKJXHBFh7J"
      }
    },
    {
      "cell_type": "code",
      "metadata": {
        "id": "qrfd6FzSLrE2"
      },
      "source": [
        "from tensorflow.keras.models import Sequential # НС прямого распространения\n",
        "from tensorflow.keras.layers import Dense, Activation, Dropout, BatchNormalization # Основные слои\n",
        "from tensorflow.keras import utils # Утилиты для to_categorical\n",
        "from tensorflow.keras.preprocessing import image # Для отрисовки изображения\n",
        "from tensorflow.keras.optimizers import Adam, Adadelta # Алгоритмы оптимизации, для настройки скорости обучения\n",
        "import numpy as np # Библиотека работы с массивами\n",
        "import matplotlib.pyplot as plt # Отрисовка изображений\n",
        "from PIL import Image # Отрисовка изображений\n",
        "import pandas as pd # Библиотека pandas\n",
        "from google.colab import files # Импорт файлов\n",
        "from sklearn.preprocessing import LabelEncoder, StandardScaler # Функции для нормализации данных\n",
        "from sklearn import preprocessing # Пакет предварительной обработки данных\n",
        "\n",
        "# Отрисовывать изображения в ноутбуке, а не в консоль или файл\n",
        "%matplotlib inline\n"
      ],
      "execution_count": null,
      "outputs": []
    },
    {
      "cell_type": "markdown",
      "metadata": {
        "id": "5RtenOlDiUMl"
      },
      "source": [
        "##Загрузка файла\n",
        "\n"
      ]
    },
    {
      "cell_type": "code",
      "metadata": {
        "id": "5OpTfgGWiSzT",
        "colab": {
          "base_uri": "https://localhost:8080/"
        },
        "outputId": "bde48545-7cf4-4465-e074-73ff0db28114"
      },
      "source": [
        "# Загружаем файлы\n",
        "files.upload()\n",
        "!ls # Выводим содержимое корневой папки"
      ],
      "execution_count": null,
      "outputs": [
        {
          "output_type": "display_data",
          "data": {
            "text/plain": [
              "<IPython.core.display.HTML object>"
            ],
            "text/html": [
              "\n",
              "     <input type=\"file\" id=\"files-ed4b6e9d-4404-4407-a1b8-b1494809a44c\" name=\"files[]\" multiple disabled\n",
              "        style=\"border:none\" />\n",
              "     <output id=\"result-ed4b6e9d-4404-4407-a1b8-b1494809a44c\">\n",
              "      Upload widget is only available when the cell has been executed in the\n",
              "      current browser session. Please rerun this cell to enable.\n",
              "      </output>\n",
              "      <script>// Copyright 2017 Google LLC\n",
              "//\n",
              "// Licensed under the Apache License, Version 2.0 (the \"License\");\n",
              "// you may not use this file except in compliance with the License.\n",
              "// You may obtain a copy of the License at\n",
              "//\n",
              "//      http://www.apache.org/licenses/LICENSE-2.0\n",
              "//\n",
              "// Unless required by applicable law or agreed to in writing, software\n",
              "// distributed under the License is distributed on an \"AS IS\" BASIS,\n",
              "// WITHOUT WARRANTIES OR CONDITIONS OF ANY KIND, either express or implied.\n",
              "// See the License for the specific language governing permissions and\n",
              "// limitations under the License.\n",
              "\n",
              "/**\n",
              " * @fileoverview Helpers for google.colab Python module.\n",
              " */\n",
              "(function(scope) {\n",
              "function span(text, styleAttributes = {}) {\n",
              "  const element = document.createElement('span');\n",
              "  element.textContent = text;\n",
              "  for (const key of Object.keys(styleAttributes)) {\n",
              "    element.style[key] = styleAttributes[key];\n",
              "  }\n",
              "  return element;\n",
              "}\n",
              "\n",
              "// Max number of bytes which will be uploaded at a time.\n",
              "const MAX_PAYLOAD_SIZE = 100 * 1024;\n",
              "\n",
              "function _uploadFiles(inputId, outputId) {\n",
              "  const steps = uploadFilesStep(inputId, outputId);\n",
              "  const outputElement = document.getElementById(outputId);\n",
              "  // Cache steps on the outputElement to make it available for the next call\n",
              "  // to uploadFilesContinue from Python.\n",
              "  outputElement.steps = steps;\n",
              "\n",
              "  return _uploadFilesContinue(outputId);\n",
              "}\n",
              "\n",
              "// This is roughly an async generator (not supported in the browser yet),\n",
              "// where there are multiple asynchronous steps and the Python side is going\n",
              "// to poll for completion of each step.\n",
              "// This uses a Promise to block the python side on completion of each step,\n",
              "// then passes the result of the previous step as the input to the next step.\n",
              "function _uploadFilesContinue(outputId) {\n",
              "  const outputElement = document.getElementById(outputId);\n",
              "  const steps = outputElement.steps;\n",
              "\n",
              "  const next = steps.next(outputElement.lastPromiseValue);\n",
              "  return Promise.resolve(next.value.promise).then((value) => {\n",
              "    // Cache the last promise value to make it available to the next\n",
              "    // step of the generator.\n",
              "    outputElement.lastPromiseValue = value;\n",
              "    return next.value.response;\n",
              "  });\n",
              "}\n",
              "\n",
              "/**\n",
              " * Generator function which is called between each async step of the upload\n",
              " * process.\n",
              " * @param {string} inputId Element ID of the input file picker element.\n",
              " * @param {string} outputId Element ID of the output display.\n",
              " * @return {!Iterable<!Object>} Iterable of next steps.\n",
              " */\n",
              "function* uploadFilesStep(inputId, outputId) {\n",
              "  const inputElement = document.getElementById(inputId);\n",
              "  inputElement.disabled = false;\n",
              "\n",
              "  const outputElement = document.getElementById(outputId);\n",
              "  outputElement.innerHTML = '';\n",
              "\n",
              "  const pickedPromise = new Promise((resolve) => {\n",
              "    inputElement.addEventListener('change', (e) => {\n",
              "      resolve(e.target.files);\n",
              "    });\n",
              "  });\n",
              "\n",
              "  const cancel = document.createElement('button');\n",
              "  inputElement.parentElement.appendChild(cancel);\n",
              "  cancel.textContent = 'Cancel upload';\n",
              "  const cancelPromise = new Promise((resolve) => {\n",
              "    cancel.onclick = () => {\n",
              "      resolve(null);\n",
              "    };\n",
              "  });\n",
              "\n",
              "  // Wait for the user to pick the files.\n",
              "  const files = yield {\n",
              "    promise: Promise.race([pickedPromise, cancelPromise]),\n",
              "    response: {\n",
              "      action: 'starting',\n",
              "    }\n",
              "  };\n",
              "\n",
              "  cancel.remove();\n",
              "\n",
              "  // Disable the input element since further picks are not allowed.\n",
              "  inputElement.disabled = true;\n",
              "\n",
              "  if (!files) {\n",
              "    return {\n",
              "      response: {\n",
              "        action: 'complete',\n",
              "      }\n",
              "    };\n",
              "  }\n",
              "\n",
              "  for (const file of files) {\n",
              "    const li = document.createElement('li');\n",
              "    li.append(span(file.name, {fontWeight: 'bold'}));\n",
              "    li.append(span(\n",
              "        `(${file.type || 'n/a'}) - ${file.size} bytes, ` +\n",
              "        `last modified: ${\n",
              "            file.lastModifiedDate ? file.lastModifiedDate.toLocaleDateString() :\n",
              "                                    'n/a'} - `));\n",
              "    const percent = span('0% done');\n",
              "    li.appendChild(percent);\n",
              "\n",
              "    outputElement.appendChild(li);\n",
              "\n",
              "    const fileDataPromise = new Promise((resolve) => {\n",
              "      const reader = new FileReader();\n",
              "      reader.onload = (e) => {\n",
              "        resolve(e.target.result);\n",
              "      };\n",
              "      reader.readAsArrayBuffer(file);\n",
              "    });\n",
              "    // Wait for the data to be ready.\n",
              "    let fileData = yield {\n",
              "      promise: fileDataPromise,\n",
              "      response: {\n",
              "        action: 'continue',\n",
              "      }\n",
              "    };\n",
              "\n",
              "    // Use a chunked sending to avoid message size limits. See b/62115660.\n",
              "    let position = 0;\n",
              "    do {\n",
              "      const length = Math.min(fileData.byteLength - position, MAX_PAYLOAD_SIZE);\n",
              "      const chunk = new Uint8Array(fileData, position, length);\n",
              "      position += length;\n",
              "\n",
              "      const base64 = btoa(String.fromCharCode.apply(null, chunk));\n",
              "      yield {\n",
              "        response: {\n",
              "          action: 'append',\n",
              "          file: file.name,\n",
              "          data: base64,\n",
              "        },\n",
              "      };\n",
              "\n",
              "      let percentDone = fileData.byteLength === 0 ?\n",
              "          100 :\n",
              "          Math.round((position / fileData.byteLength) * 100);\n",
              "      percent.textContent = `${percentDone}% done`;\n",
              "\n",
              "    } while (position < fileData.byteLength);\n",
              "  }\n",
              "\n",
              "  // All done.\n",
              "  yield {\n",
              "    response: {\n",
              "      action: 'complete',\n",
              "    }\n",
              "  };\n",
              "}\n",
              "\n",
              "scope.google = scope.google || {};\n",
              "scope.google.colab = scope.google.colab || {};\n",
              "scope.google.colab._files = {\n",
              "  _uploadFiles,\n",
              "  _uploadFilesContinue,\n",
              "};\n",
              "})(self);\n",
              "</script> "
            ]
          },
          "metadata": {}
        },
        {
          "output_type": "stream",
          "name": "stdout",
          "text": [
            "Saving sonar.csv to sonar (2).csv\n",
            " sample_data  'sonar (1).csv'  'sonar (2).csv'\t sonar.csv\n"
          ]
        }
      ]
    },
    {
      "cell_type": "markdown",
      "metadata": {
        "id": "WnVRLr2cZtVW"
      },
      "source": [
        "## Загрузка данных"
      ]
    },
    {
      "cell_type": "code",
      "metadata": {
        "id": "_uO8Fnn3ZsfN",
        "colab": {
          "base_uri": "https://localhost:8080/"
        },
        "outputId": "d09fa411-759a-4ede-ad62-5c3812aac7ee"
      },
      "source": [
        "# Загружаем данные из файла sonar.csv\n",
        "df = pd.read_csv(\"sonar.csv\", header=None)   # header=None, когда данные не имеют строки с заголовками\n",
        "df.head()                                    # Выводим первые 5 строк наших данных"
      ],
      "execution_count": null,
      "outputs": [
        {
          "output_type": "execute_result",
          "data": {
            "text/plain": [
              "       0       1       2       3       4       5       6       7       8   \\\n",
              "0  0.0200  0.0371  0.0428  0.0207  0.0954  0.0986  0.1539  0.1601  0.3109   \n",
              "1  0.0453  0.0523  0.0843  0.0689  0.1183  0.2583  0.2156  0.3481  0.3337   \n",
              "2  0.0262  0.0582  0.1099  0.1083  0.0974  0.2280  0.2431  0.3771  0.5598   \n",
              "3  0.0100  0.0171  0.0623  0.0205  0.0205  0.0368  0.1098  0.1276  0.0598   \n",
              "4  0.0762  0.0666  0.0481  0.0394  0.0590  0.0649  0.1209  0.2467  0.3564   \n",
              "\n",
              "       9   ...      51      52      53      54      55      56      57  \\\n",
              "0  0.2111  ...  0.0027  0.0065  0.0159  0.0072  0.0167  0.0180  0.0084   \n",
              "1  0.2872  ...  0.0084  0.0089  0.0048  0.0094  0.0191  0.0140  0.0049   \n",
              "2  0.6194  ...  0.0232  0.0166  0.0095  0.0180  0.0244  0.0316  0.0164   \n",
              "3  0.1264  ...  0.0121  0.0036  0.0150  0.0085  0.0073  0.0050  0.0044   \n",
              "4  0.4459  ...  0.0031  0.0054  0.0105  0.0110  0.0015  0.0072  0.0048   \n",
              "\n",
              "       58      59  60  \n",
              "0  0.0090  0.0032   R  \n",
              "1  0.0052  0.0044   R  \n",
              "2  0.0095  0.0078   R  \n",
              "3  0.0040  0.0117   R  \n",
              "4  0.0107  0.0094   R  \n",
              "\n",
              "[5 rows x 61 columns]"
            ],
            "text/html": [
              "\n",
              "  <div id=\"df-8f971c5b-48fe-48e8-b9c1-44e7a99c2828\">\n",
              "    <div class=\"colab-df-container\">\n",
              "      <div>\n",
              "<style scoped>\n",
              "    .dataframe tbody tr th:only-of-type {\n",
              "        vertical-align: middle;\n",
              "    }\n",
              "\n",
              "    .dataframe tbody tr th {\n",
              "        vertical-align: top;\n",
              "    }\n",
              "\n",
              "    .dataframe thead th {\n",
              "        text-align: right;\n",
              "    }\n",
              "</style>\n",
              "<table border=\"1\" class=\"dataframe\">\n",
              "  <thead>\n",
              "    <tr style=\"text-align: right;\">\n",
              "      <th></th>\n",
              "      <th>0</th>\n",
              "      <th>1</th>\n",
              "      <th>2</th>\n",
              "      <th>3</th>\n",
              "      <th>4</th>\n",
              "      <th>5</th>\n",
              "      <th>6</th>\n",
              "      <th>7</th>\n",
              "      <th>8</th>\n",
              "      <th>9</th>\n",
              "      <th>...</th>\n",
              "      <th>51</th>\n",
              "      <th>52</th>\n",
              "      <th>53</th>\n",
              "      <th>54</th>\n",
              "      <th>55</th>\n",
              "      <th>56</th>\n",
              "      <th>57</th>\n",
              "      <th>58</th>\n",
              "      <th>59</th>\n",
              "      <th>60</th>\n",
              "    </tr>\n",
              "  </thead>\n",
              "  <tbody>\n",
              "    <tr>\n",
              "      <th>0</th>\n",
              "      <td>0.0200</td>\n",
              "      <td>0.0371</td>\n",
              "      <td>0.0428</td>\n",
              "      <td>0.0207</td>\n",
              "      <td>0.0954</td>\n",
              "      <td>0.0986</td>\n",
              "      <td>0.1539</td>\n",
              "      <td>0.1601</td>\n",
              "      <td>0.3109</td>\n",
              "      <td>0.2111</td>\n",
              "      <td>...</td>\n",
              "      <td>0.0027</td>\n",
              "      <td>0.0065</td>\n",
              "      <td>0.0159</td>\n",
              "      <td>0.0072</td>\n",
              "      <td>0.0167</td>\n",
              "      <td>0.0180</td>\n",
              "      <td>0.0084</td>\n",
              "      <td>0.0090</td>\n",
              "      <td>0.0032</td>\n",
              "      <td>R</td>\n",
              "    </tr>\n",
              "    <tr>\n",
              "      <th>1</th>\n",
              "      <td>0.0453</td>\n",
              "      <td>0.0523</td>\n",
              "      <td>0.0843</td>\n",
              "      <td>0.0689</td>\n",
              "      <td>0.1183</td>\n",
              "      <td>0.2583</td>\n",
              "      <td>0.2156</td>\n",
              "      <td>0.3481</td>\n",
              "      <td>0.3337</td>\n",
              "      <td>0.2872</td>\n",
              "      <td>...</td>\n",
              "      <td>0.0084</td>\n",
              "      <td>0.0089</td>\n",
              "      <td>0.0048</td>\n",
              "      <td>0.0094</td>\n",
              "      <td>0.0191</td>\n",
              "      <td>0.0140</td>\n",
              "      <td>0.0049</td>\n",
              "      <td>0.0052</td>\n",
              "      <td>0.0044</td>\n",
              "      <td>R</td>\n",
              "    </tr>\n",
              "    <tr>\n",
              "      <th>2</th>\n",
              "      <td>0.0262</td>\n",
              "      <td>0.0582</td>\n",
              "      <td>0.1099</td>\n",
              "      <td>0.1083</td>\n",
              "      <td>0.0974</td>\n",
              "      <td>0.2280</td>\n",
              "      <td>0.2431</td>\n",
              "      <td>0.3771</td>\n",
              "      <td>0.5598</td>\n",
              "      <td>0.6194</td>\n",
              "      <td>...</td>\n",
              "      <td>0.0232</td>\n",
              "      <td>0.0166</td>\n",
              "      <td>0.0095</td>\n",
              "      <td>0.0180</td>\n",
              "      <td>0.0244</td>\n",
              "      <td>0.0316</td>\n",
              "      <td>0.0164</td>\n",
              "      <td>0.0095</td>\n",
              "      <td>0.0078</td>\n",
              "      <td>R</td>\n",
              "    </tr>\n",
              "    <tr>\n",
              "      <th>3</th>\n",
              "      <td>0.0100</td>\n",
              "      <td>0.0171</td>\n",
              "      <td>0.0623</td>\n",
              "      <td>0.0205</td>\n",
              "      <td>0.0205</td>\n",
              "      <td>0.0368</td>\n",
              "      <td>0.1098</td>\n",
              "      <td>0.1276</td>\n",
              "      <td>0.0598</td>\n",
              "      <td>0.1264</td>\n",
              "      <td>...</td>\n",
              "      <td>0.0121</td>\n",
              "      <td>0.0036</td>\n",
              "      <td>0.0150</td>\n",
              "      <td>0.0085</td>\n",
              "      <td>0.0073</td>\n",
              "      <td>0.0050</td>\n",
              "      <td>0.0044</td>\n",
              "      <td>0.0040</td>\n",
              "      <td>0.0117</td>\n",
              "      <td>R</td>\n",
              "    </tr>\n",
              "    <tr>\n",
              "      <th>4</th>\n",
              "      <td>0.0762</td>\n",
              "      <td>0.0666</td>\n",
              "      <td>0.0481</td>\n",
              "      <td>0.0394</td>\n",
              "      <td>0.0590</td>\n",
              "      <td>0.0649</td>\n",
              "      <td>0.1209</td>\n",
              "      <td>0.2467</td>\n",
              "      <td>0.3564</td>\n",
              "      <td>0.4459</td>\n",
              "      <td>...</td>\n",
              "      <td>0.0031</td>\n",
              "      <td>0.0054</td>\n",
              "      <td>0.0105</td>\n",
              "      <td>0.0110</td>\n",
              "      <td>0.0015</td>\n",
              "      <td>0.0072</td>\n",
              "      <td>0.0048</td>\n",
              "      <td>0.0107</td>\n",
              "      <td>0.0094</td>\n",
              "      <td>R</td>\n",
              "    </tr>\n",
              "  </tbody>\n",
              "</table>\n",
              "<p>5 rows × 61 columns</p>\n",
              "</div>\n",
              "      <button class=\"colab-df-convert\" onclick=\"convertToInteractive('df-8f971c5b-48fe-48e8-b9c1-44e7a99c2828')\"\n",
              "              title=\"Convert this dataframe to an interactive table.\"\n",
              "              style=\"display:none;\">\n",
              "        \n",
              "  <svg xmlns=\"http://www.w3.org/2000/svg\" height=\"24px\"viewBox=\"0 0 24 24\"\n",
              "       width=\"24px\">\n",
              "    <path d=\"M0 0h24v24H0V0z\" fill=\"none\"/>\n",
              "    <path d=\"M18.56 5.44l.94 2.06.94-2.06 2.06-.94-2.06-.94-.94-2.06-.94 2.06-2.06.94zm-11 1L8.5 8.5l.94-2.06 2.06-.94-2.06-.94L8.5 2.5l-.94 2.06-2.06.94zm10 10l.94 2.06.94-2.06 2.06-.94-2.06-.94-.94-2.06-.94 2.06-2.06.94z\"/><path d=\"M17.41 7.96l-1.37-1.37c-.4-.4-.92-.59-1.43-.59-.52 0-1.04.2-1.43.59L10.3 9.45l-7.72 7.72c-.78.78-.78 2.05 0 2.83L4 21.41c.39.39.9.59 1.41.59.51 0 1.02-.2 1.41-.59l7.78-7.78 2.81-2.81c.8-.78.8-2.07 0-2.86zM5.41 20L4 18.59l7.72-7.72 1.47 1.35L5.41 20z\"/>\n",
              "  </svg>\n",
              "      </button>\n",
              "      \n",
              "  <style>\n",
              "    .colab-df-container {\n",
              "      display:flex;\n",
              "      flex-wrap:wrap;\n",
              "      gap: 12px;\n",
              "    }\n",
              "\n",
              "    .colab-df-convert {\n",
              "      background-color: #E8F0FE;\n",
              "      border: none;\n",
              "      border-radius: 50%;\n",
              "      cursor: pointer;\n",
              "      display: none;\n",
              "      fill: #1967D2;\n",
              "      height: 32px;\n",
              "      padding: 0 0 0 0;\n",
              "      width: 32px;\n",
              "    }\n",
              "\n",
              "    .colab-df-convert:hover {\n",
              "      background-color: #E2EBFA;\n",
              "      box-shadow: 0px 1px 2px rgba(60, 64, 67, 0.3), 0px 1px 3px 1px rgba(60, 64, 67, 0.15);\n",
              "      fill: #174EA6;\n",
              "    }\n",
              "\n",
              "    [theme=dark] .colab-df-convert {\n",
              "      background-color: #3B4455;\n",
              "      fill: #D2E3FC;\n",
              "    }\n",
              "\n",
              "    [theme=dark] .colab-df-convert:hover {\n",
              "      background-color: #434B5C;\n",
              "      box-shadow: 0px 1px 3px 1px rgba(0, 0, 0, 0.15);\n",
              "      filter: drop-shadow(0px 1px 2px rgba(0, 0, 0, 0.3));\n",
              "      fill: #FFFFFF;\n",
              "    }\n",
              "  </style>\n",
              "\n",
              "      <script>\n",
              "        const buttonEl =\n",
              "          document.querySelector('#df-8f971c5b-48fe-48e8-b9c1-44e7a99c2828 button.colab-df-convert');\n",
              "        buttonEl.style.display =\n",
              "          google.colab.kernel.accessAllowed ? 'block' : 'none';\n",
              "\n",
              "        async function convertToInteractive(key) {\n",
              "          const element = document.querySelector('#df-8f971c5b-48fe-48e8-b9c1-44e7a99c2828');\n",
              "          const dataTable =\n",
              "            await google.colab.kernel.invokeFunction('convertToInteractive',\n",
              "                                                     [key], {});\n",
              "          if (!dataTable) return;\n",
              "\n",
              "          const docLinkHtml = 'Like what you see? Visit the ' +\n",
              "            '<a target=\"_blank\" href=https://colab.research.google.com/notebooks/data_table.ipynb>data table notebook</a>'\n",
              "            + ' to learn more about interactive tables.';\n",
              "          element.innerHTML = '';\n",
              "          dataTable['output_type'] = 'display_data';\n",
              "          await google.colab.output.renderOutput(dataTable, element);\n",
              "          const docLink = document.createElement('div');\n",
              "          docLink.innerHTML = docLinkHtml;\n",
              "          element.appendChild(docLink);\n",
              "        }\n",
              "      </script>\n",
              "    </div>\n",
              "  </div>\n",
              "  "
            ]
          },
          "metadata": {},
          "execution_count": 5
        }
      ]
    },
    {
      "cell_type": "code",
      "metadata": {
        "id": "AfudSojo9fY8",
        "colab": {
          "base_uri": "https://localhost:8080/"
        },
        "outputId": "9a868ea5-b802-42a4-b825-b5f7eeb7b0d2"
      },
      "source": [
        "print(df.shape) # Размерность данных"
      ],
      "execution_count": null,
      "outputs": [
        {
          "output_type": "stream",
          "name": "stdout",
          "text": [
            "(208, 61)\n"
          ]
        }
      ]
    },
    {
      "cell_type": "code",
      "metadata": {
        "id": "AkBpydSVqsCI",
        "colab": {
          "base_uri": "https://localhost:8080/"
        },
        "outputId": "594ee901-8bdc-4ce9-d2bc-9e0db936877b"
      },
      "source": [
        "dataset = df.values                 # Берем только значения массива(без индексов)\n",
        "X = dataset[:,0:60].astype(float)   # Присваиваем им тип данных - float(с плавающей точкой) данным с 0 по 60 колонки\n",
        "Y = dataset[:,60]                   # Присваеваем значению Y данные из столбца с индексом 60\n",
        "Y[Y=='R']='0'                       # Если значение элемента столбца равно 'R', присваеваем ему значение '0'\n",
        "Y[Y=='M']='1'                       # Если значение элемента столбца равно 'Y', присваеваем ему значение '1'\n",
        "Y = Y.astype(int)                   # Меняем тип данных столбца на 'int'(целочисленный тип данных)\n",
        "print(X.shape)                      # Выводим размерность X\n",
        "print(Y.shape)                      # Выводим размерность Y\n",
        "print(Y)                            "
      ],
      "execution_count": null,
      "outputs": [
        {
          "output_type": "stream",
          "name": "stdout",
          "text": [
            "(208, 60)\n",
            "(208,)\n",
            "[0 0 0 0 0 0 0 0 0 0 0 0 0 0 0 0 0 0 0 0 0 0 0 0 0 0 0 0 0 0 0 0 0 0 0 0 0\n",
            " 0 0 0 0 0 0 0 0 0 0 0 0 0 0 0 0 0 0 0 0 0 0 0 0 0 0 0 0 0 0 0 0 0 0 0 0 0\n",
            " 0 0 0 0 0 0 0 0 0 0 0 0 0 0 0 0 0 0 0 0 0 0 0 1 1 1 1 1 1 1 1 1 1 1 1 1 1\n",
            " 1 1 1 1 1 1 1 1 1 1 1 1 1 1 1 1 1 1 1 1 1 1 1 1 1 1 1 1 1 1 1 1 1 1 1 1 1\n",
            " 1 1 1 1 1 1 1 1 1 1 1 1 1 1 1 1 1 1 1 1 1 1 1 1 1 1 1 1 1 1 1 1 1 1 1 1 1\n",
            " 1 1 1 1 1 1 1 1 1 1 1 1 1 1 1 1 1 1 1 1 1 1 1]\n"
          ]
        }
      ]
    },
    {
      "cell_type": "markdown",
      "metadata": {
        "id": "wX02lsWcfeza"
      },
      "source": [
        "## Создание обучающей, проверочной и тестовой выборки\n",
        "\n"
      ]
    },
    {
      "cell_type": "code",
      "metadata": {
        "id": "BMenuxjkazgh",
        "colab": {
          "base_uri": "https://localhost:8080/"
        },
        "outputId": "a8708670-a9ad-45b6-915b-21b6bbfca885"
      },
      "source": [
        "# sklearn - популярная библиотека для машинного обучения\n",
        "# train_test_split - функция разделения на обучающую и проверочную/тестовую выборку\n",
        "from sklearn.model_selection import train_test_split\n",
        "\n",
        "\n",
        "# test_size=0.2 - будет выделено 20% от тренировочных данных \n",
        "# shuffle=True - перемешать данные\n",
        "# x_train - данные для обучения\n",
        "# x_test - данные для проверки\n",
        "# y_train - правильные ответы для обучения\n",
        "# y_test - правильные ответы для проверки\n",
        "x_train, x_test, y_train, y_test = train_test_split(X, Y, test_size=0.2, shuffle=True)    \n",
        "print (x_train.shape)\n",
        "print (x_test.shape)\n",
        "print (y_train.shape)\n",
        "print (y_test.shape)"
      ],
      "execution_count": null,
      "outputs": [
        {
          "output_type": "stream",
          "name": "stdout",
          "text": [
            "(166, 60)\n",
            "(42, 60)\n",
            "(166,)\n",
            "(42,)\n"
          ]
        }
      ]
    },
    {
      "cell_type": "markdown",
      "metadata": {
        "id": "BmTr_lXTKNbN"
      },
      "source": [
        "## Создание нейронной сети\n",
        "\n"
      ]
    },
    {
      "cell_type": "code",
      "source": [
        "def createModelDrop():\n",
        "  # Создаем сеть\n",
        "  model = Sequential()\n",
        "\n",
        "  model.add(Dense(60, input_dim=60, activation='linear'))\n",
        "  model.add(BatchNormalization()) # добавляем слой BatchNormalization\n",
        "  model.add(Dropout(0.2)) # добавляем слой Dropout\n",
        "  model.add(Dense(30, activation='relu'))\n",
        "  model.add(BatchNormalization()) # добавляем слой BatchNormalization\n",
        "  model.add(Dropout(0.2)) # добавляем слой Dropout\n",
        "  model.add(Dense(1, activation='sigmoid'))\n",
        "\n",
        "# Компилируем сеть\n",
        "# lr=0.001 - размер шага обучения\n",
        "  model.compile(loss='binary_crossentropy', optimizer=Adam(learning_rate=0.001), metrics=['accuracy'])\n",
        "  return model # Возвращаем созданную сеть"
      ],
      "metadata": {
        "id": "4Nq0rVcidWq5"
      },
      "execution_count": null,
      "outputs": []
    },
    {
      "cell_type": "code",
      "metadata": {
        "id": "jxBv2gXWa8fZ",
        "colab": {
          "base_uri": "https://localhost:8080/"
        },
        "outputId": "0c3df801-132a-4fa5-9bca-f36ef55fc49e"
      },
      "source": [
        "model = createModelDrop()\n",
        "\n",
        "# Обучаем сеть\n",
        "model.fit(x_train,         \n",
        "          y_train,         \n",
        "          batch_size=16,    # Размер батча\n",
        "          epochs=200,      # Количество эпох\n",
        "          verbose=1)       # Выводить процесс обучения на каждой эпохе"
      ],
      "execution_count": null,
      "outputs": [
        {
          "output_type": "stream",
          "name": "stdout",
          "text": [
            "Epoch 1/200\n",
            "11/11 [==============================] - 3s 5ms/step - loss: 0.9533 - accuracy: 0.4458\n",
            "Epoch 2/200\n",
            "11/11 [==============================] - 0s 4ms/step - loss: 0.7484 - accuracy: 0.6145\n",
            "Epoch 3/200\n",
            "11/11 [==============================] - 0s 4ms/step - loss: 0.5755 - accuracy: 0.7229\n",
            "Epoch 4/200\n",
            "11/11 [==============================] - 0s 4ms/step - loss: 0.5414 - accuracy: 0.7229\n",
            "Epoch 5/200\n",
            "11/11 [==============================] - 0s 4ms/step - loss: 0.4942 - accuracy: 0.7530\n",
            "Epoch 6/200\n",
            "11/11 [==============================] - 0s 5ms/step - loss: 0.4938 - accuracy: 0.7590\n",
            "Epoch 7/200\n",
            "11/11 [==============================] - 0s 4ms/step - loss: 0.4685 - accuracy: 0.7651\n",
            "Epoch 8/200\n",
            "11/11 [==============================] - 0s 5ms/step - loss: 0.4090 - accuracy: 0.8193\n",
            "Epoch 9/200\n",
            "11/11 [==============================] - 0s 5ms/step - loss: 0.3650 - accuracy: 0.8253\n",
            "Epoch 10/200\n",
            "11/11 [==============================] - 0s 5ms/step - loss: 0.3621 - accuracy: 0.8373\n",
            "Epoch 11/200\n",
            "11/11 [==============================] - 0s 4ms/step - loss: 0.4128 - accuracy: 0.8072\n",
            "Epoch 12/200\n",
            "11/11 [==============================] - 0s 7ms/step - loss: 0.3767 - accuracy: 0.8313\n",
            "Epoch 13/200\n",
            "11/11 [==============================] - 0s 6ms/step - loss: 0.3897 - accuracy: 0.8133\n",
            "Epoch 14/200\n",
            "11/11 [==============================] - 0s 6ms/step - loss: 0.3510 - accuracy: 0.8313\n",
            "Epoch 15/200\n",
            "11/11 [==============================] - 0s 6ms/step - loss: 0.3276 - accuracy: 0.8735\n",
            "Epoch 16/200\n",
            "11/11 [==============================] - 0s 8ms/step - loss: 0.3588 - accuracy: 0.8373\n",
            "Epoch 17/200\n",
            "11/11 [==============================] - 0s 7ms/step - loss: 0.2953 - accuracy: 0.8614\n",
            "Epoch 18/200\n",
            "11/11 [==============================] - 0s 6ms/step - loss: 0.3781 - accuracy: 0.8193\n",
            "Epoch 19/200\n",
            "11/11 [==============================] - 0s 7ms/step - loss: 0.3460 - accuracy: 0.8494\n",
            "Epoch 20/200\n",
            "11/11 [==============================] - 0s 7ms/step - loss: 0.2940 - accuracy: 0.9157\n",
            "Epoch 21/200\n",
            "11/11 [==============================] - 0s 6ms/step - loss: 0.3195 - accuracy: 0.8494\n",
            "Epoch 22/200\n",
            "11/11 [==============================] - 0s 6ms/step - loss: 0.3441 - accuracy: 0.8735\n",
            "Epoch 23/200\n",
            "11/11 [==============================] - 0s 8ms/step - loss: 0.3010 - accuracy: 0.8916\n",
            "Epoch 24/200\n",
            "11/11 [==============================] - 0s 6ms/step - loss: 0.2976 - accuracy: 0.8554\n",
            "Epoch 25/200\n",
            "11/11 [==============================] - 0s 6ms/step - loss: 0.3184 - accuracy: 0.8373\n",
            "Epoch 26/200\n",
            "11/11 [==============================] - 0s 7ms/step - loss: 0.3155 - accuracy: 0.8554\n",
            "Epoch 27/200\n",
            "11/11 [==============================] - 0s 7ms/step - loss: 0.3374 - accuracy: 0.8494\n",
            "Epoch 28/200\n",
            "11/11 [==============================] - 0s 6ms/step - loss: 0.2341 - accuracy: 0.8916\n",
            "Epoch 29/200\n",
            "11/11 [==============================] - 0s 6ms/step - loss: 0.3363 - accuracy: 0.8313\n",
            "Epoch 30/200\n",
            "11/11 [==============================] - 0s 6ms/step - loss: 0.3569 - accuracy: 0.8795\n",
            "Epoch 31/200\n",
            "11/11 [==============================] - 0s 6ms/step - loss: 0.2664 - accuracy: 0.8855\n",
            "Epoch 32/200\n",
            "11/11 [==============================] - 0s 6ms/step - loss: 0.2290 - accuracy: 0.9217\n",
            "Epoch 33/200\n",
            "11/11 [==============================] - 0s 7ms/step - loss: 0.2476 - accuracy: 0.9036\n",
            "Epoch 34/200\n",
            "11/11 [==============================] - 0s 7ms/step - loss: 0.2082 - accuracy: 0.9337\n",
            "Epoch 35/200\n",
            "11/11 [==============================] - 0s 7ms/step - loss: 0.2933 - accuracy: 0.8916\n",
            "Epoch 36/200\n",
            "11/11 [==============================] - 0s 8ms/step - loss: 0.2192 - accuracy: 0.9217\n",
            "Epoch 37/200\n",
            "11/11 [==============================] - 0s 7ms/step - loss: 0.1858 - accuracy: 0.9578\n",
            "Epoch 38/200\n",
            "11/11 [==============================] - 0s 7ms/step - loss: 0.2628 - accuracy: 0.8976\n",
            "Epoch 39/200\n",
            "11/11 [==============================] - 0s 7ms/step - loss: 0.1855 - accuracy: 0.9337\n",
            "Epoch 40/200\n",
            "11/11 [==============================] - 0s 8ms/step - loss: 0.3160 - accuracy: 0.8675\n",
            "Epoch 41/200\n",
            "11/11 [==============================] - 0s 7ms/step - loss: 0.2188 - accuracy: 0.9096\n",
            "Epoch 42/200\n",
            "11/11 [==============================] - 0s 7ms/step - loss: 0.2503 - accuracy: 0.9096\n",
            "Epoch 43/200\n",
            "11/11 [==============================] - 0s 4ms/step - loss: 0.2031 - accuracy: 0.9096\n",
            "Epoch 44/200\n",
            "11/11 [==============================] - 0s 4ms/step - loss: 0.2486 - accuracy: 0.9096\n",
            "Epoch 45/200\n",
            "11/11 [==============================] - 0s 4ms/step - loss: 0.1905 - accuracy: 0.9398\n",
            "Epoch 46/200\n",
            "11/11 [==============================] - 0s 4ms/step - loss: 0.2243 - accuracy: 0.9157\n",
            "Epoch 47/200\n",
            "11/11 [==============================] - 0s 5ms/step - loss: 0.1939 - accuracy: 0.9277\n",
            "Epoch 48/200\n",
            "11/11 [==============================] - 0s 4ms/step - loss: 0.2006 - accuracy: 0.9277\n",
            "Epoch 49/200\n",
            "11/11 [==============================] - 0s 4ms/step - loss: 0.1948 - accuracy: 0.9217\n",
            "Epoch 50/200\n",
            "11/11 [==============================] - 0s 6ms/step - loss: 0.1745 - accuracy: 0.9458\n",
            "Epoch 51/200\n",
            "11/11 [==============================] - 0s 5ms/step - loss: 0.1813 - accuracy: 0.9458\n",
            "Epoch 52/200\n",
            "11/11 [==============================] - 0s 5ms/step - loss: 0.1732 - accuracy: 0.9518\n",
            "Epoch 53/200\n",
            "11/11 [==============================] - 0s 4ms/step - loss: 0.1999 - accuracy: 0.9398\n",
            "Epoch 54/200\n",
            "11/11 [==============================] - 0s 5ms/step - loss: 0.1774 - accuracy: 0.9277\n",
            "Epoch 55/200\n",
            "11/11 [==============================] - 0s 4ms/step - loss: 0.2152 - accuracy: 0.9217\n",
            "Epoch 56/200\n",
            "11/11 [==============================] - 0s 4ms/step - loss: 0.1465 - accuracy: 0.9578\n",
            "Epoch 57/200\n",
            "11/11 [==============================] - 0s 5ms/step - loss: 0.1369 - accuracy: 0.9759\n",
            "Epoch 58/200\n",
            "11/11 [==============================] - 0s 4ms/step - loss: 0.1687 - accuracy: 0.9458\n",
            "Epoch 59/200\n",
            "11/11 [==============================] - 0s 4ms/step - loss: 0.1443 - accuracy: 0.9518\n",
            "Epoch 60/200\n",
            "11/11 [==============================] - 0s 4ms/step - loss: 0.1724 - accuracy: 0.9398\n",
            "Epoch 61/200\n",
            "11/11 [==============================] - 0s 5ms/step - loss: 0.1817 - accuracy: 0.9277\n",
            "Epoch 62/200\n",
            "11/11 [==============================] - 0s 4ms/step - loss: 0.1449 - accuracy: 0.9458\n",
            "Epoch 63/200\n",
            "11/11 [==============================] - 0s 4ms/step - loss: 0.1899 - accuracy: 0.9398\n",
            "Epoch 64/200\n",
            "11/11 [==============================] - 0s 4ms/step - loss: 0.1609 - accuracy: 0.9458\n",
            "Epoch 65/200\n",
            "11/11 [==============================] - 0s 4ms/step - loss: 0.1681 - accuracy: 0.9337\n",
            "Epoch 66/200\n",
            "11/11 [==============================] - 0s 4ms/step - loss: 0.1732 - accuracy: 0.9398\n",
            "Epoch 67/200\n",
            "11/11 [==============================] - 0s 4ms/step - loss: 0.1201 - accuracy: 0.9699\n",
            "Epoch 68/200\n",
            "11/11 [==============================] - 0s 5ms/step - loss: 0.1485 - accuracy: 0.9639\n",
            "Epoch 69/200\n",
            "11/11 [==============================] - 0s 5ms/step - loss: 0.1876 - accuracy: 0.9277\n",
            "Epoch 70/200\n",
            "11/11 [==============================] - 0s 5ms/step - loss: 0.1939 - accuracy: 0.9337\n",
            "Epoch 71/200\n",
            "11/11 [==============================] - 0s 6ms/step - loss: 0.1689 - accuracy: 0.9458\n",
            "Epoch 72/200\n",
            "11/11 [==============================] - 0s 4ms/step - loss: 0.1572 - accuracy: 0.9578\n",
            "Epoch 73/200\n",
            "11/11 [==============================] - 0s 4ms/step - loss: 0.1487 - accuracy: 0.9398\n",
            "Epoch 74/200\n",
            "11/11 [==============================] - 0s 4ms/step - loss: 0.1945 - accuracy: 0.9277\n",
            "Epoch 75/200\n",
            "11/11 [==============================] - 0s 4ms/step - loss: 0.1198 - accuracy: 0.9699\n",
            "Epoch 76/200\n",
            "11/11 [==============================] - 0s 5ms/step - loss: 0.1339 - accuracy: 0.9578\n",
            "Epoch 77/200\n",
            "11/11 [==============================] - 0s 4ms/step - loss: 0.1378 - accuracy: 0.9518\n",
            "Epoch 78/200\n",
            "11/11 [==============================] - 0s 5ms/step - loss: 0.0852 - accuracy: 0.9819\n",
            "Epoch 79/200\n",
            "11/11 [==============================] - 0s 4ms/step - loss: 0.0903 - accuracy: 0.9880\n",
            "Epoch 80/200\n",
            "11/11 [==============================] - 0s 4ms/step - loss: 0.1388 - accuracy: 0.9398\n",
            "Epoch 81/200\n",
            "11/11 [==============================] - 0s 4ms/step - loss: 0.1662 - accuracy: 0.9217\n",
            "Epoch 82/200\n",
            "11/11 [==============================] - 0s 4ms/step - loss: 0.1551 - accuracy: 0.9518\n",
            "Epoch 83/200\n",
            "11/11 [==============================] - 0s 4ms/step - loss: 0.1260 - accuracy: 0.9518\n",
            "Epoch 84/200\n",
            "11/11 [==============================] - 0s 4ms/step - loss: 0.1379 - accuracy: 0.9518\n",
            "Epoch 85/200\n",
            "11/11 [==============================] - 0s 5ms/step - loss: 0.0886 - accuracy: 0.9699\n",
            "Epoch 86/200\n",
            "11/11 [==============================] - 0s 5ms/step - loss: 0.1260 - accuracy: 0.9639\n",
            "Epoch 87/200\n",
            "11/11 [==============================] - 0s 5ms/step - loss: 0.1041 - accuracy: 0.9639\n",
            "Epoch 88/200\n",
            "11/11 [==============================] - 0s 4ms/step - loss: 0.1450 - accuracy: 0.9398\n",
            "Epoch 89/200\n",
            "11/11 [==============================] - 0s 4ms/step - loss: 0.1519 - accuracy: 0.9458\n",
            "Epoch 90/200\n",
            "11/11 [==============================] - 0s 4ms/step - loss: 0.1325 - accuracy: 0.9518\n",
            "Epoch 91/200\n",
            "11/11 [==============================] - 0s 4ms/step - loss: 0.1357 - accuracy: 0.9518\n",
            "Epoch 92/200\n",
            "11/11 [==============================] - 0s 4ms/step - loss: 0.0979 - accuracy: 0.9759\n",
            "Epoch 93/200\n",
            "11/11 [==============================] - 0s 5ms/step - loss: 0.1778 - accuracy: 0.9337\n",
            "Epoch 94/200\n",
            "11/11 [==============================] - 0s 4ms/step - loss: 0.1341 - accuracy: 0.9518\n",
            "Epoch 95/200\n",
            "11/11 [==============================] - 0s 4ms/step - loss: 0.1024 - accuracy: 0.9759\n",
            "Epoch 96/200\n",
            "11/11 [==============================] - 0s 4ms/step - loss: 0.1294 - accuracy: 0.9578\n",
            "Epoch 97/200\n",
            "11/11 [==============================] - 0s 5ms/step - loss: 0.1574 - accuracy: 0.9639\n",
            "Epoch 98/200\n",
            "11/11 [==============================] - 0s 5ms/step - loss: 0.1389 - accuracy: 0.9458\n",
            "Epoch 99/200\n",
            "11/11 [==============================] - 0s 4ms/step - loss: 0.1096 - accuracy: 0.9759\n",
            "Epoch 100/200\n",
            "11/11 [==============================] - 0s 4ms/step - loss: 0.1384 - accuracy: 0.9458\n",
            "Epoch 101/200\n",
            "11/11 [==============================] - 0s 4ms/step - loss: 0.1223 - accuracy: 0.9819\n",
            "Epoch 102/200\n",
            "11/11 [==============================] - 0s 5ms/step - loss: 0.1821 - accuracy: 0.9217\n",
            "Epoch 103/200\n",
            "11/11 [==============================] - 0s 6ms/step - loss: 0.0925 - accuracy: 0.9699\n",
            "Epoch 104/200\n",
            "11/11 [==============================] - 0s 4ms/step - loss: 0.1443 - accuracy: 0.9518\n",
            "Epoch 105/200\n",
            "11/11 [==============================] - 0s 4ms/step - loss: 0.0929 - accuracy: 0.9759\n",
            "Epoch 106/200\n",
            "11/11 [==============================] - 0s 4ms/step - loss: 0.1113 - accuracy: 0.9578\n",
            "Epoch 107/200\n",
            "11/11 [==============================] - 0s 5ms/step - loss: 0.0986 - accuracy: 0.9759\n",
            "Epoch 108/200\n",
            "11/11 [==============================] - 0s 4ms/step - loss: 0.0797 - accuracy: 0.9759\n",
            "Epoch 109/200\n",
            "11/11 [==============================] - 0s 5ms/step - loss: 0.0837 - accuracy: 0.9759\n",
            "Epoch 110/200\n",
            "11/11 [==============================] - 0s 6ms/step - loss: 0.1414 - accuracy: 0.9518\n",
            "Epoch 111/200\n",
            "11/11 [==============================] - 0s 4ms/step - loss: 0.1130 - accuracy: 0.9578\n",
            "Epoch 112/200\n",
            "11/11 [==============================] - 0s 4ms/step - loss: 0.0774 - accuracy: 0.9819\n",
            "Epoch 113/200\n",
            "11/11 [==============================] - 0s 4ms/step - loss: 0.1184 - accuracy: 0.9578\n",
            "Epoch 114/200\n",
            "11/11 [==============================] - 0s 5ms/step - loss: 0.0824 - accuracy: 0.9819\n",
            "Epoch 115/200\n",
            "11/11 [==============================] - 0s 4ms/step - loss: 0.0968 - accuracy: 0.9639\n",
            "Epoch 116/200\n",
            "11/11 [==============================] - 0s 6ms/step - loss: 0.0863 - accuracy: 0.9699\n",
            "Epoch 117/200\n",
            "11/11 [==============================] - 0s 4ms/step - loss: 0.1155 - accuracy: 0.9578\n",
            "Epoch 118/200\n",
            "11/11 [==============================] - 0s 4ms/step - loss: 0.0921 - accuracy: 0.9578\n",
            "Epoch 119/200\n",
            "11/11 [==============================] - 0s 4ms/step - loss: 0.0864 - accuracy: 0.9759\n",
            "Epoch 120/200\n",
            "11/11 [==============================] - 0s 6ms/step - loss: 0.1160 - accuracy: 0.9578\n",
            "Epoch 121/200\n",
            "11/11 [==============================] - 0s 4ms/step - loss: 0.0705 - accuracy: 0.9819\n",
            "Epoch 122/200\n",
            "11/11 [==============================] - 0s 5ms/step - loss: 0.0872 - accuracy: 0.9578\n",
            "Epoch 123/200\n",
            "11/11 [==============================] - 0s 4ms/step - loss: 0.0910 - accuracy: 0.9699\n",
            "Epoch 124/200\n",
            "11/11 [==============================] - 0s 7ms/step - loss: 0.0926 - accuracy: 0.9699\n",
            "Epoch 125/200\n",
            "11/11 [==============================] - 0s 4ms/step - loss: 0.0693 - accuracy: 0.9699\n",
            "Epoch 126/200\n",
            "11/11 [==============================] - 0s 4ms/step - loss: 0.0823 - accuracy: 0.9880\n",
            "Epoch 127/200\n",
            "11/11 [==============================] - 0s 4ms/step - loss: 0.0744 - accuracy: 0.9819\n",
            "Epoch 128/200\n",
            "11/11 [==============================] - 0s 4ms/step - loss: 0.0480 - accuracy: 0.9940\n",
            "Epoch 129/200\n",
            "11/11 [==============================] - 0s 5ms/step - loss: 0.0593 - accuracy: 0.9880\n",
            "Epoch 130/200\n",
            "11/11 [==============================] - 0s 5ms/step - loss: 0.0828 - accuracy: 0.9819\n",
            "Epoch 131/200\n",
            "11/11 [==============================] - 0s 5ms/step - loss: 0.0967 - accuracy: 0.9578\n",
            "Epoch 132/200\n",
            "11/11 [==============================] - 0s 5ms/step - loss: 0.0983 - accuracy: 0.9639\n",
            "Epoch 133/200\n",
            "11/11 [==============================] - 0s 4ms/step - loss: 0.0981 - accuracy: 0.9699\n",
            "Epoch 134/200\n",
            "11/11 [==============================] - 0s 4ms/step - loss: 0.0751 - accuracy: 0.9699\n",
            "Epoch 135/200\n",
            "11/11 [==============================] - 0s 4ms/step - loss: 0.0885 - accuracy: 0.9639\n",
            "Epoch 136/200\n",
            "11/11 [==============================] - 0s 4ms/step - loss: 0.0458 - accuracy: 0.9819\n",
            "Epoch 137/200\n",
            "11/11 [==============================] - 0s 6ms/step - loss: 0.1181 - accuracy: 0.9518\n",
            "Epoch 138/200\n",
            "11/11 [==============================] - 0s 5ms/step - loss: 0.1075 - accuracy: 0.9759\n",
            "Epoch 139/200\n",
            "11/11 [==============================] - 0s 5ms/step - loss: 0.0888 - accuracy: 0.9759\n",
            "Epoch 140/200\n",
            "11/11 [==============================] - 0s 5ms/step - loss: 0.0995 - accuracy: 0.9639\n",
            "Epoch 141/200\n",
            "11/11 [==============================] - 0s 4ms/step - loss: 0.0980 - accuracy: 0.9819\n",
            "Epoch 142/200\n",
            "11/11 [==============================] - 0s 4ms/step - loss: 0.1301 - accuracy: 0.9699\n",
            "Epoch 143/200\n",
            "11/11 [==============================] - 0s 4ms/step - loss: 0.0727 - accuracy: 0.9759\n",
            "Epoch 144/200\n",
            "11/11 [==============================] - 0s 4ms/step - loss: 0.0688 - accuracy: 0.9759\n",
            "Epoch 145/200\n",
            "11/11 [==============================] - 0s 4ms/step - loss: 0.0887 - accuracy: 0.9578\n",
            "Epoch 146/200\n",
            "11/11 [==============================] - 0s 7ms/step - loss: 0.1014 - accuracy: 0.9578\n",
            "Epoch 147/200\n",
            "11/11 [==============================] - 0s 5ms/step - loss: 0.1009 - accuracy: 0.9819\n",
            "Epoch 148/200\n",
            "11/11 [==============================] - 0s 5ms/step - loss: 0.0569 - accuracy: 0.9880\n",
            "Epoch 149/200\n",
            "11/11 [==============================] - 0s 4ms/step - loss: 0.0465 - accuracy: 0.9819\n",
            "Epoch 150/200\n",
            "11/11 [==============================] - 0s 4ms/step - loss: 0.1484 - accuracy: 0.9458\n",
            "Epoch 151/200\n",
            "11/11 [==============================] - 0s 5ms/step - loss: 0.0622 - accuracy: 0.9880\n",
            "Epoch 152/200\n",
            "11/11 [==============================] - 0s 5ms/step - loss: 0.0909 - accuracy: 0.9759\n",
            "Epoch 153/200\n",
            "11/11 [==============================] - 0s 4ms/step - loss: 0.1009 - accuracy: 0.9578\n",
            "Epoch 154/200\n",
            "11/11 [==============================] - 0s 5ms/step - loss: 0.1176 - accuracy: 0.9518\n",
            "Epoch 155/200\n",
            "11/11 [==============================] - 0s 6ms/step - loss: 0.0479 - accuracy: 0.9819\n",
            "Epoch 156/200\n",
            "11/11 [==============================] - 0s 5ms/step - loss: 0.0757 - accuracy: 0.9699\n",
            "Epoch 157/200\n",
            "11/11 [==============================] - 0s 4ms/step - loss: 0.0884 - accuracy: 0.9639\n",
            "Epoch 158/200\n",
            "11/11 [==============================] - 0s 4ms/step - loss: 0.0646 - accuracy: 0.9759\n",
            "Epoch 159/200\n",
            "11/11 [==============================] - 0s 5ms/step - loss: 0.0487 - accuracy: 0.9880\n",
            "Epoch 160/200\n",
            "11/11 [==============================] - 0s 4ms/step - loss: 0.0959 - accuracy: 0.9639\n",
            "Epoch 161/200\n",
            "11/11 [==============================] - 0s 4ms/step - loss: 0.0440 - accuracy: 0.9880\n",
            "Epoch 162/200\n",
            "11/11 [==============================] - 0s 4ms/step - loss: 0.0928 - accuracy: 0.9759\n",
            "Epoch 163/200\n",
            "11/11 [==============================] - 0s 4ms/step - loss: 0.0637 - accuracy: 0.9759\n",
            "Epoch 164/200\n",
            "11/11 [==============================] - 0s 5ms/step - loss: 0.1580 - accuracy: 0.9578\n",
            "Epoch 165/200\n",
            "11/11 [==============================] - 0s 5ms/step - loss: 0.0416 - accuracy: 0.9940\n",
            "Epoch 166/200\n",
            "11/11 [==============================] - 0s 4ms/step - loss: 0.0561 - accuracy: 0.9819\n",
            "Epoch 167/200\n",
            "11/11 [==============================] - 0s 5ms/step - loss: 0.1108 - accuracy: 0.9518\n",
            "Epoch 168/200\n",
            "11/11 [==============================] - 0s 6ms/step - loss: 0.0717 - accuracy: 0.9699\n",
            "Epoch 169/200\n",
            "11/11 [==============================] - 0s 5ms/step - loss: 0.0490 - accuracy: 0.9940\n",
            "Epoch 170/200\n",
            "11/11 [==============================] - 0s 5ms/step - loss: 0.0648 - accuracy: 0.9759\n",
            "Epoch 171/200\n",
            "11/11 [==============================] - 0s 5ms/step - loss: 0.0774 - accuracy: 0.9759\n",
            "Epoch 172/200\n",
            "11/11 [==============================] - 0s 4ms/step - loss: 0.0871 - accuracy: 0.9639\n",
            "Epoch 173/200\n",
            "11/11 [==============================] - 0s 4ms/step - loss: 0.0808 - accuracy: 0.9699\n",
            "Epoch 174/200\n",
            "11/11 [==============================] - 0s 4ms/step - loss: 0.2194 - accuracy: 0.9518\n",
            "Epoch 175/200\n",
            "11/11 [==============================] - 0s 5ms/step - loss: 0.0312 - accuracy: 1.0000\n",
            "Epoch 176/200\n",
            "11/11 [==============================] - 0s 5ms/step - loss: 0.0645 - accuracy: 0.9819\n",
            "Epoch 177/200\n",
            "11/11 [==============================] - 0s 4ms/step - loss: 0.0738 - accuracy: 0.9759\n",
            "Epoch 178/200\n",
            "11/11 [==============================] - 0s 4ms/step - loss: 0.0939 - accuracy: 0.9759\n",
            "Epoch 179/200\n",
            "11/11 [==============================] - 0s 4ms/step - loss: 0.1424 - accuracy: 0.9337\n",
            "Epoch 180/200\n",
            "11/11 [==============================] - 0s 4ms/step - loss: 0.0914 - accuracy: 0.9819\n",
            "Epoch 181/200\n",
            "11/11 [==============================] - 0s 4ms/step - loss: 0.0429 - accuracy: 0.9940\n",
            "Epoch 182/200\n",
            "11/11 [==============================] - 0s 4ms/step - loss: 0.0917 - accuracy: 0.9639\n",
            "Epoch 183/200\n",
            "11/11 [==============================] - 0s 5ms/step - loss: 0.0540 - accuracy: 0.9819\n",
            "Epoch 184/200\n",
            "11/11 [==============================] - 0s 5ms/step - loss: 0.0368 - accuracy: 0.9940\n",
            "Epoch 185/200\n",
            "11/11 [==============================] - 0s 4ms/step - loss: 0.1457 - accuracy: 0.9398\n",
            "Epoch 186/200\n",
            "11/11 [==============================] - 0s 4ms/step - loss: 0.1107 - accuracy: 0.9518\n",
            "Epoch 187/200\n",
            "11/11 [==============================] - 0s 4ms/step - loss: 0.1616 - accuracy: 0.9398\n",
            "Epoch 188/200\n",
            "11/11 [==============================] - 0s 5ms/step - loss: 0.0434 - accuracy: 1.0000\n",
            "Epoch 189/200\n",
            "11/11 [==============================] - 0s 5ms/step - loss: 0.0644 - accuracy: 0.9759\n",
            "Epoch 190/200\n",
            "11/11 [==============================] - 0s 5ms/step - loss: 0.0573 - accuracy: 0.9819\n",
            "Epoch 191/200\n",
            "11/11 [==============================] - 0s 5ms/step - loss: 0.1403 - accuracy: 0.9337\n",
            "Epoch 192/200\n",
            "11/11 [==============================] - 0s 4ms/step - loss: 0.0518 - accuracy: 0.9880\n",
            "Epoch 193/200\n",
            "11/11 [==============================] - 0s 5ms/step - loss: 0.1392 - accuracy: 0.9578\n",
            "Epoch 194/200\n",
            "11/11 [==============================] - 0s 6ms/step - loss: 0.1491 - accuracy: 0.9458\n",
            "Epoch 195/200\n",
            "11/11 [==============================] - 0s 4ms/step - loss: 0.1285 - accuracy: 0.9458\n",
            "Epoch 196/200\n",
            "11/11 [==============================] - 0s 4ms/step - loss: 0.1047 - accuracy: 0.9639\n",
            "Epoch 197/200\n",
            "11/11 [==============================] - 0s 5ms/step - loss: 0.0625 - accuracy: 0.9819\n",
            "Epoch 198/200\n",
            "11/11 [==============================] - 0s 4ms/step - loss: 0.0519 - accuracy: 0.9819\n",
            "Epoch 199/200\n",
            "11/11 [==============================] - 0s 4ms/step - loss: 0.1205 - accuracy: 0.9639\n",
            "Epoch 200/200\n",
            "11/11 [==============================] - 0s 4ms/step - loss: 0.0583 - accuracy: 0.9819\n"
          ]
        },
        {
          "output_type": "execute_result",
          "data": {
            "text/plain": [
              "<keras.callbacks.History at 0x7fb69002f820>"
            ]
          },
          "metadata": {},
          "execution_count": 10
        }
      ]
    },
    {
      "cell_type": "markdown",
      "source": [
        "## ТЕСТ"
      ],
      "metadata": {
        "id": "Kz1rjFemTFh6"
      }
    },
    {
      "cell_type": "code",
      "source": [
        "# Вычисляем результаты сети на тестовом наборе\n",
        "scores = model.evaluate(x_test, y_test, verbose=1)\n",
        "\n",
        "# scores состоит из двух знанчений\n",
        "# scores[0] - loss сети на тестовой выборке\n",
        "# scores[1] - процент правильно распознанных примеров на тестовой выборке\n",
        "print(scores)\n",
        "print(\"Доля верных ответов на тестовых данных, в процентах: \", round(scores[1] * 100, 4), \"%\", sep=\"\")"
      ],
      "metadata": {
        "colab": {
          "base_uri": "https://localhost:8080/"
        },
        "id": "1qDyGLI7TMrm",
        "outputId": "d8c491b8-2a1d-44de-9ea0-c26d4d00ae1a"
      },
      "execution_count": null,
      "outputs": [
        {
          "output_type": "stream",
          "name": "stdout",
          "text": [
            "2/2 [==============================] - 0s 8ms/step - loss: 0.4746 - accuracy: 0.9048\n",
            "[0.4745807647705078, 0.9047619104385376]\n",
            "Доля верных ответов на тестовых данных, в процентах: 90.4762%\n"
          ]
        }
      ]
    },
    {
      "cell_type": "markdown",
      "source": [
        "# 4. Сложно"
      ],
      "metadata": {
        "id": "6ipkFMbSxLPi"
      }
    },
    {
      "cell_type": "markdown",
      "metadata": {
        "id": "Sx9naxEGycrZ"
      },
      "source": [
        "## Предсказание цен машин с Юлы\n",
        "\n"
      ]
    },
    {
      "cell_type": "code",
      "source": [
        "from tensorflow.keras.models import Sequential # НС прямого распространения\n",
        "from tensorflow.keras.layers import Dense, Activation, Dropout, BatchNormalization # Основные слои\n",
        "from tensorflow.keras import utils # Утилиты для to_categorical\n",
        "from tensorflow.keras.preprocessing import image # Для отрисовки изображения\n",
        "from tensorflow.keras.optimizers import Adam, Adadelta # Алгоритмы оптимизации, для настройки скорости обучения\n",
        "import numpy as np # Библиотека работы с массивами\n",
        "import matplotlib.pyplot as plt # Отрисовка изображений\n",
        "from PIL import Image # Отрисовка изображений\n",
        "import pandas as pd # Библиотека pandas\n",
        "from google.colab import files # Импорт файлов\n",
        "from sklearn.preprocessing import LabelEncoder, StandardScaler # Функции для нормализации данных\n",
        "from sklearn import preprocessing # Пакет предварительной обработки данных\n",
        "\n",
        "# Отрисовывать изображения в ноутбуке, а не в консоль или файл\n",
        "%matplotlib inline"
      ],
      "metadata": {
        "id": "tHi41CPCXl2V"
      },
      "execution_count": null,
      "outputs": []
    },
    {
      "cell_type": "code",
      "metadata": {
        "id": "dtb_6dZxyf4r",
        "colab": {
          "base_uri": "https://localhost:8080/",
          "height": 56
        },
        "outputId": "b1b86949-0b37-4415-a64f-253756f59d4e"
      },
      "source": [
        "# Загружаем файлы\n",
        "files.upload()\n",
        "!ls # Выводим содержимое корневой папки"
      ],
      "execution_count": null,
      "outputs": [
        {
          "output_type": "display_data",
          "data": {
            "text/plain": [
              "<IPython.core.display.HTML object>"
            ],
            "text/html": [
              "\n",
              "     <input type=\"file\" id=\"files-61af64e5-5ec2-46ff-8233-ccc2bbaef9e0\" name=\"files[]\" multiple disabled\n",
              "        style=\"border:none\" />\n",
              "     <output id=\"result-61af64e5-5ec2-46ff-8233-ccc2bbaef9e0\">\n",
              "      Upload widget is only available when the cell has been executed in the\n",
              "      current browser session. Please rerun this cell to enable.\n",
              "      </output>\n",
              "      <script>// Copyright 2017 Google LLC\n",
              "//\n",
              "// Licensed under the Apache License, Version 2.0 (the \"License\");\n",
              "// you may not use this file except in compliance with the License.\n",
              "// You may obtain a copy of the License at\n",
              "//\n",
              "//      http://www.apache.org/licenses/LICENSE-2.0\n",
              "//\n",
              "// Unless required by applicable law or agreed to in writing, software\n",
              "// distributed under the License is distributed on an \"AS IS\" BASIS,\n",
              "// WITHOUT WARRANTIES OR CONDITIONS OF ANY KIND, either express or implied.\n",
              "// See the License for the specific language governing permissions and\n",
              "// limitations under the License.\n",
              "\n",
              "/**\n",
              " * @fileoverview Helpers for google.colab Python module.\n",
              " */\n",
              "(function(scope) {\n",
              "function span(text, styleAttributes = {}) {\n",
              "  const element = document.createElement('span');\n",
              "  element.textContent = text;\n",
              "  for (const key of Object.keys(styleAttributes)) {\n",
              "    element.style[key] = styleAttributes[key];\n",
              "  }\n",
              "  return element;\n",
              "}\n",
              "\n",
              "// Max number of bytes which will be uploaded at a time.\n",
              "const MAX_PAYLOAD_SIZE = 100 * 1024;\n",
              "\n",
              "function _uploadFiles(inputId, outputId) {\n",
              "  const steps = uploadFilesStep(inputId, outputId);\n",
              "  const outputElement = document.getElementById(outputId);\n",
              "  // Cache steps on the outputElement to make it available for the next call\n",
              "  // to uploadFilesContinue from Python.\n",
              "  outputElement.steps = steps;\n",
              "\n",
              "  return _uploadFilesContinue(outputId);\n",
              "}\n",
              "\n",
              "// This is roughly an async generator (not supported in the browser yet),\n",
              "// where there are multiple asynchronous steps and the Python side is going\n",
              "// to poll for completion of each step.\n",
              "// This uses a Promise to block the python side on completion of each step,\n",
              "// then passes the result of the previous step as the input to the next step.\n",
              "function _uploadFilesContinue(outputId) {\n",
              "  const outputElement = document.getElementById(outputId);\n",
              "  const steps = outputElement.steps;\n",
              "\n",
              "  const next = steps.next(outputElement.lastPromiseValue);\n",
              "  return Promise.resolve(next.value.promise).then((value) => {\n",
              "    // Cache the last promise value to make it available to the next\n",
              "    // step of the generator.\n",
              "    outputElement.lastPromiseValue = value;\n",
              "    return next.value.response;\n",
              "  });\n",
              "}\n",
              "\n",
              "/**\n",
              " * Generator function which is called between each async step of the upload\n",
              " * process.\n",
              " * @param {string} inputId Element ID of the input file picker element.\n",
              " * @param {string} outputId Element ID of the output display.\n",
              " * @return {!Iterable<!Object>} Iterable of next steps.\n",
              " */\n",
              "function* uploadFilesStep(inputId, outputId) {\n",
              "  const inputElement = document.getElementById(inputId);\n",
              "  inputElement.disabled = false;\n",
              "\n",
              "  const outputElement = document.getElementById(outputId);\n",
              "  outputElement.innerHTML = '';\n",
              "\n",
              "  const pickedPromise = new Promise((resolve) => {\n",
              "    inputElement.addEventListener('change', (e) => {\n",
              "      resolve(e.target.files);\n",
              "    });\n",
              "  });\n",
              "\n",
              "  const cancel = document.createElement('button');\n",
              "  inputElement.parentElement.appendChild(cancel);\n",
              "  cancel.textContent = 'Cancel upload';\n",
              "  const cancelPromise = new Promise((resolve) => {\n",
              "    cancel.onclick = () => {\n",
              "      resolve(null);\n",
              "    };\n",
              "  });\n",
              "\n",
              "  // Wait for the user to pick the files.\n",
              "  const files = yield {\n",
              "    promise: Promise.race([pickedPromise, cancelPromise]),\n",
              "    response: {\n",
              "      action: 'starting',\n",
              "    }\n",
              "  };\n",
              "\n",
              "  cancel.remove();\n",
              "\n",
              "  // Disable the input element since further picks are not allowed.\n",
              "  inputElement.disabled = true;\n",
              "\n",
              "  if (!files) {\n",
              "    return {\n",
              "      response: {\n",
              "        action: 'complete',\n",
              "      }\n",
              "    };\n",
              "  }\n",
              "\n",
              "  for (const file of files) {\n",
              "    const li = document.createElement('li');\n",
              "    li.append(span(file.name, {fontWeight: 'bold'}));\n",
              "    li.append(span(\n",
              "        `(${file.type || 'n/a'}) - ${file.size} bytes, ` +\n",
              "        `last modified: ${\n",
              "            file.lastModifiedDate ? file.lastModifiedDate.toLocaleDateString() :\n",
              "                                    'n/a'} - `));\n",
              "    const percent = span('0% done');\n",
              "    li.appendChild(percent);\n",
              "\n",
              "    outputElement.appendChild(li);\n",
              "\n",
              "    const fileDataPromise = new Promise((resolve) => {\n",
              "      const reader = new FileReader();\n",
              "      reader.onload = (e) => {\n",
              "        resolve(e.target.result);\n",
              "      };\n",
              "      reader.readAsArrayBuffer(file);\n",
              "    });\n",
              "    // Wait for the data to be ready.\n",
              "    let fileData = yield {\n",
              "      promise: fileDataPromise,\n",
              "      response: {\n",
              "        action: 'continue',\n",
              "      }\n",
              "    };\n",
              "\n",
              "    // Use a chunked sending to avoid message size limits. See b/62115660.\n",
              "    let position = 0;\n",
              "    do {\n",
              "      const length = Math.min(fileData.byteLength - position, MAX_PAYLOAD_SIZE);\n",
              "      const chunk = new Uint8Array(fileData, position, length);\n",
              "      position += length;\n",
              "\n",
              "      const base64 = btoa(String.fromCharCode.apply(null, chunk));\n",
              "      yield {\n",
              "        response: {\n",
              "          action: 'append',\n",
              "          file: file.name,\n",
              "          data: base64,\n",
              "        },\n",
              "      };\n",
              "\n",
              "      let percentDone = fileData.byteLength === 0 ?\n",
              "          100 :\n",
              "          Math.round((position / fileData.byteLength) * 100);\n",
              "      percent.textContent = `${percentDone}% done`;\n",
              "\n",
              "    } while (position < fileData.byteLength);\n",
              "  }\n",
              "\n",
              "  // All done.\n",
              "  yield {\n",
              "    response: {\n",
              "      action: 'complete',\n",
              "    }\n",
              "  };\n",
              "}\n",
              "\n",
              "scope.google = scope.google || {};\n",
              "scope.google.colab = scope.google.colab || {};\n",
              "scope.google.colab._files = {\n",
              "  _uploadFiles,\n",
              "  _uploadFilesContinue,\n",
              "};\n",
              "})(self);\n",
              "</script> "
            ]
          },
          "metadata": {}
        },
        {
          "output_type": "stream",
          "name": "stdout",
          "text": [
            "cars_new.csv  sample_data\n"
          ]
        }
      ]
    },
    {
      "cell_type": "code",
      "metadata": {
        "id": "5v7Vz9VWynjF",
        "colab": {
          "base_uri": "https://localhost:8080/",
          "height": 206
        },
        "outputId": "f6ed7951-0a1d-49a2-f189-0f416aaa0e81"
      },
      "source": [
        "# Считываем csv с помощью pandas\n",
        "cars = pd.read_csv('cars_new.csv', sep=',')\n",
        "cars[:5] # Выводим первые 5 машин "
      ],
      "execution_count": null,
      "outputs": [
        {
          "output_type": "execute_result",
          "data": {
            "text/plain": [
              "        mark                               model   price  year  mileage  \\\n",
              "0        kia                              cerato  996000  2018    28000   \n",
              "1     daewoo  nexia 1 поколение [2-й рестайлинг]  140200  2012    60500   \n",
              "2     suzuki      jimny 3 поколение [рестайлинг]  750000  2011    29000   \n",
              "3        bmw              x1 18 e84 [рестайлинг]  970000  2014    49500   \n",
              "4  chevrolet                 lacetti 1 поколение  205000  2007   151445   \n",
              "\n",
              "          body       kpp    fuel  volume  power  \n",
              "0        седан   автомат  бензин     2.0  150.0  \n",
              "1        седан  механика  бензин     1.5   80.0  \n",
              "2  внедорожник   автомат  бензин     1.3   85.0  \n",
              "3    кроссовер   автомат  бензин     2.0  150.0  \n",
              "4        седан  механика  бензин     1.4   95.0  "
            ],
            "text/html": [
              "\n",
              "  <div id=\"df-58c5bc83-7207-4869-b1f5-34f0fb5c93a9\">\n",
              "    <div class=\"colab-df-container\">\n",
              "      <div>\n",
              "<style scoped>\n",
              "    .dataframe tbody tr th:only-of-type {\n",
              "        vertical-align: middle;\n",
              "    }\n",
              "\n",
              "    .dataframe tbody tr th {\n",
              "        vertical-align: top;\n",
              "    }\n",
              "\n",
              "    .dataframe thead th {\n",
              "        text-align: right;\n",
              "    }\n",
              "</style>\n",
              "<table border=\"1\" class=\"dataframe\">\n",
              "  <thead>\n",
              "    <tr style=\"text-align: right;\">\n",
              "      <th></th>\n",
              "      <th>mark</th>\n",
              "      <th>model</th>\n",
              "      <th>price</th>\n",
              "      <th>year</th>\n",
              "      <th>mileage</th>\n",
              "      <th>body</th>\n",
              "      <th>kpp</th>\n",
              "      <th>fuel</th>\n",
              "      <th>volume</th>\n",
              "      <th>power</th>\n",
              "    </tr>\n",
              "  </thead>\n",
              "  <tbody>\n",
              "    <tr>\n",
              "      <th>0</th>\n",
              "      <td>kia</td>\n",
              "      <td>cerato</td>\n",
              "      <td>996000</td>\n",
              "      <td>2018</td>\n",
              "      <td>28000</td>\n",
              "      <td>седан</td>\n",
              "      <td>автомат</td>\n",
              "      <td>бензин</td>\n",
              "      <td>2.0</td>\n",
              "      <td>150.0</td>\n",
              "    </tr>\n",
              "    <tr>\n",
              "      <th>1</th>\n",
              "      <td>daewoo</td>\n",
              "      <td>nexia 1 поколение [2-й рестайлинг]</td>\n",
              "      <td>140200</td>\n",
              "      <td>2012</td>\n",
              "      <td>60500</td>\n",
              "      <td>седан</td>\n",
              "      <td>механика</td>\n",
              "      <td>бензин</td>\n",
              "      <td>1.5</td>\n",
              "      <td>80.0</td>\n",
              "    </tr>\n",
              "    <tr>\n",
              "      <th>2</th>\n",
              "      <td>suzuki</td>\n",
              "      <td>jimny 3 поколение [рестайлинг]</td>\n",
              "      <td>750000</td>\n",
              "      <td>2011</td>\n",
              "      <td>29000</td>\n",
              "      <td>внедорожник</td>\n",
              "      <td>автомат</td>\n",
              "      <td>бензин</td>\n",
              "      <td>1.3</td>\n",
              "      <td>85.0</td>\n",
              "    </tr>\n",
              "    <tr>\n",
              "      <th>3</th>\n",
              "      <td>bmw</td>\n",
              "      <td>x1 18 e84 [рестайлинг]</td>\n",
              "      <td>970000</td>\n",
              "      <td>2014</td>\n",
              "      <td>49500</td>\n",
              "      <td>кроссовер</td>\n",
              "      <td>автомат</td>\n",
              "      <td>бензин</td>\n",
              "      <td>2.0</td>\n",
              "      <td>150.0</td>\n",
              "    </tr>\n",
              "    <tr>\n",
              "      <th>4</th>\n",
              "      <td>chevrolet</td>\n",
              "      <td>lacetti 1 поколение</td>\n",
              "      <td>205000</td>\n",
              "      <td>2007</td>\n",
              "      <td>151445</td>\n",
              "      <td>седан</td>\n",
              "      <td>механика</td>\n",
              "      <td>бензин</td>\n",
              "      <td>1.4</td>\n",
              "      <td>95.0</td>\n",
              "    </tr>\n",
              "  </tbody>\n",
              "</table>\n",
              "</div>\n",
              "      <button class=\"colab-df-convert\" onclick=\"convertToInteractive('df-58c5bc83-7207-4869-b1f5-34f0fb5c93a9')\"\n",
              "              title=\"Convert this dataframe to an interactive table.\"\n",
              "              style=\"display:none;\">\n",
              "        \n",
              "  <svg xmlns=\"http://www.w3.org/2000/svg\" height=\"24px\"viewBox=\"0 0 24 24\"\n",
              "       width=\"24px\">\n",
              "    <path d=\"M0 0h24v24H0V0z\" fill=\"none\"/>\n",
              "    <path d=\"M18.56 5.44l.94 2.06.94-2.06 2.06-.94-2.06-.94-.94-2.06-.94 2.06-2.06.94zm-11 1L8.5 8.5l.94-2.06 2.06-.94-2.06-.94L8.5 2.5l-.94 2.06-2.06.94zm10 10l.94 2.06.94-2.06 2.06-.94-2.06-.94-.94-2.06-.94 2.06-2.06.94z\"/><path d=\"M17.41 7.96l-1.37-1.37c-.4-.4-.92-.59-1.43-.59-.52 0-1.04.2-1.43.59L10.3 9.45l-7.72 7.72c-.78.78-.78 2.05 0 2.83L4 21.41c.39.39.9.59 1.41.59.51 0 1.02-.2 1.41-.59l7.78-7.78 2.81-2.81c.8-.78.8-2.07 0-2.86zM5.41 20L4 18.59l7.72-7.72 1.47 1.35L5.41 20z\"/>\n",
              "  </svg>\n",
              "      </button>\n",
              "      \n",
              "  <style>\n",
              "    .colab-df-container {\n",
              "      display:flex;\n",
              "      flex-wrap:wrap;\n",
              "      gap: 12px;\n",
              "    }\n",
              "\n",
              "    .colab-df-convert {\n",
              "      background-color: #E8F0FE;\n",
              "      border: none;\n",
              "      border-radius: 50%;\n",
              "      cursor: pointer;\n",
              "      display: none;\n",
              "      fill: #1967D2;\n",
              "      height: 32px;\n",
              "      padding: 0 0 0 0;\n",
              "      width: 32px;\n",
              "    }\n",
              "\n",
              "    .colab-df-convert:hover {\n",
              "      background-color: #E2EBFA;\n",
              "      box-shadow: 0px 1px 2px rgba(60, 64, 67, 0.3), 0px 1px 3px 1px rgba(60, 64, 67, 0.15);\n",
              "      fill: #174EA6;\n",
              "    }\n",
              "\n",
              "    [theme=dark] .colab-df-convert {\n",
              "      background-color: #3B4455;\n",
              "      fill: #D2E3FC;\n",
              "    }\n",
              "\n",
              "    [theme=dark] .colab-df-convert:hover {\n",
              "      background-color: #434B5C;\n",
              "      box-shadow: 0px 1px 3px 1px rgba(0, 0, 0, 0.15);\n",
              "      filter: drop-shadow(0px 1px 2px rgba(0, 0, 0, 0.3));\n",
              "      fill: #FFFFFF;\n",
              "    }\n",
              "  </style>\n",
              "\n",
              "      <script>\n",
              "        const buttonEl =\n",
              "          document.querySelector('#df-58c5bc83-7207-4869-b1f5-34f0fb5c93a9 button.colab-df-convert');\n",
              "        buttonEl.style.display =\n",
              "          google.colab.kernel.accessAllowed ? 'block' : 'none';\n",
              "\n",
              "        async function convertToInteractive(key) {\n",
              "          const element = document.querySelector('#df-58c5bc83-7207-4869-b1f5-34f0fb5c93a9');\n",
              "          const dataTable =\n",
              "            await google.colab.kernel.invokeFunction('convertToInteractive',\n",
              "                                                     [key], {});\n",
              "          if (!dataTable) return;\n",
              "\n",
              "          const docLinkHtml = 'Like what you see? Visit the ' +\n",
              "            '<a target=\"_blank\" href=https://colab.research.google.com/notebooks/data_table.ipynb>data table notebook</a>'\n",
              "            + ' to learn more about interactive tables.';\n",
              "          element.innerHTML = '';\n",
              "          dataTable['output_type'] = 'display_data';\n",
              "          await google.colab.output.renderOutput(dataTable, element);\n",
              "          const docLink = document.createElement('div');\n",
              "          docLink.innerHTML = docLinkHtml;\n",
              "          element.appendChild(docLink);\n",
              "        }\n",
              "      </script>\n",
              "    </div>\n",
              "  </div>\n",
              "  "
            ]
          },
          "metadata": {},
          "execution_count": 7
        }
      ]
    },
    {
      "cell_type": "code",
      "metadata": {
        "id": "-2014jPoywVZ",
        "colab": {
          "base_uri": "https://localhost:8080/"
        },
        "outputId": "3b926faf-7d61-449f-a6dd-df08560ee273"
      },
      "source": [
        "print(cars.values.shape)"
      ],
      "execution_count": null,
      "outputs": [
        {
          "output_type": "stream",
          "name": "stdout",
          "text": [
            "(70119, 10)\n"
          ]
        }
      ]
    },
    {
      "cell_type": "code",
      "metadata": {
        "id": "w_3Pk5XeyxsT"
      },
      "source": [
        "# Создаём словарь поле - его индекс\n",
        "def create_dict(s):\n",
        "  ret = {}                          # Создаём пустой словарь\n",
        "  for _id, name in enumerate(s):    # Проходим по всем парам - id и название\n",
        "    ret.update({name: _id})         # Добавляем в словарь\n",
        "  return ret\n",
        "\n",
        "# Функция преобразования в one hot encoding\n",
        "def to_ohe(value, d):\n",
        "  arr = [0] * len(d)\n",
        "  arr[d[value]] = 1\n",
        "  return arr"
      ],
      "execution_count": null,
      "outputs": []
    },
    {
      "cell_type": "code",
      "metadata": {
        "id": "bUyCBzyYyz8s",
        "colab": {
          "base_uri": "https://localhost:8080/"
        },
        "outputId": "af0a3159-aaac-4385-c3a5-3a114099941e"
      },
      "source": [
        "# Создаём словари по всем текстовым колонкам\n",
        "marks_dict = create_dict(set(cars['mark']))\n",
        "models_dict = create_dict(set(cars['model']))\n",
        "bodies_dict = create_dict(set(cars['body']))\n",
        "kpps_dict = create_dict(set(cars['kpp']))\n",
        "fuels_dict = create_dict(set(cars['fuel']))\n",
        "\n",
        "# Запоминаем цены\n",
        "prices = np.array(cars['price'], dtype=np.float)\n",
        "\n",
        "# Запоминаем числовые параметры\n",
        "# и нормируем\n",
        "years = preprocessing.scale(cars['year'])\n",
        "mileages = preprocessing.scale(cars['mileage'])\n",
        "volumes = preprocessing.scale(cars['volume'])\n",
        "powers = preprocessing.scale(cars['power'])"
      ],
      "execution_count": null,
      "outputs": [
        {
          "output_type": "stream",
          "name": "stderr",
          "text": [
            "<ipython-input-10-006031011196>:9: DeprecationWarning: `np.float` is a deprecated alias for the builtin `float`. To silence this warning, use `float` by itself. Doing this will not modify any behavior and is safe. If you specifically wanted the numpy scalar type, use `np.float64` here.\n",
            "Deprecated in NumPy 1.20; for more details and guidance: https://numpy.org/devdocs/release/1.20.0-notes.html#deprecations\n",
            "  prices = np.array(cars['price'], dtype=np.float)\n"
          ]
        }
      ]
    },
    {
      "cell_type": "code",
      "metadata": {
        "id": "E_W73oeey1TF",
        "colab": {
          "base_uri": "https://localhost:8080/"
        },
        "outputId": "f0f099f9-be4a-4118-b738-da4b33bf90f7"
      },
      "source": [
        "print(marks_dict)"
      ],
      "execution_count": null,
      "outputs": [
        {
          "output_type": "stream",
          "name": "stdout",
          "text": [
            "{'honda': 0, 'opel': 1, 'suzuki': 2, 'chevrolet': 3, 'ford': 4, 'bmw': 5, 'audi': 6, 'subaru': 7, 'skoda': 8, 'mercedes-benz': 9, 'mazda': 10, 'toyota': 11, 'nissan': 12, 'renault': 13, 'kia': 14, 'peugeot': 15, 'daewoo': 16, 'chery': 17, 'volkswagen': 18, 'hyundai': 19, 'mitsubishi': 20}\n"
          ]
        }
      ]
    },
    {
      "cell_type": "code",
      "metadata": {
        "id": "ZnAwYOCmLbQc",
        "colab": {
          "base_uri": "https://localhost:8080/"
        },
        "outputId": "a3c257b4-c948-417b-8351-b119a8334ec1"
      },
      "source": [
        "years.mean()"
      ],
      "execution_count": null,
      "outputs": [
        {
          "output_type": "execute_result",
          "data": {
            "text/plain": [
              "7.129646144783743e-15"
            ]
          },
          "metadata": {},
          "execution_count": 12
        }
      ]
    },
    {
      "cell_type": "code",
      "metadata": {
        "id": "_PJLhc-HLdDI",
        "colab": {
          "base_uri": "https://localhost:8080/"
        },
        "outputId": "12eaf0c3-9352-4660-fb30-d556300014b9"
      },
      "source": [
        "years.std()"
      ],
      "execution_count": null,
      "outputs": [
        {
          "output_type": "execute_result",
          "data": {
            "text/plain": [
              "1.0"
            ]
          },
          "metadata": {},
          "execution_count": 13
        }
      ]
    },
    {
      "cell_type": "code",
      "metadata": {
        "id": "jHEPEcKfy4MV",
        "colab": {
          "base_uri": "https://localhost:8080/"
        },
        "outputId": "0df5291b-edd3-43d6-a6ad-cafa8251321f"
      },
      "source": [
        "print(powers)"
      ],
      "execution_count": null,
      "outputs": [
        {
          "output_type": "stream",
          "name": "stdout",
          "text": [
            "[ 0.22905575 -0.95630346 -0.87163494 ...  0.22905575 -0.75309902\n",
            "  2.34576862]\n"
          ]
        }
      ]
    },
    {
      "cell_type": "code",
      "metadata": {
        "id": "fq_m4WUny4k3",
        "colab": {
          "base_uri": "https://localhost:8080/"
        },
        "outputId": "37ae90f4-14cc-4f0b-e3a6-0d8c41397dd6"
      },
      "source": [
        "# Создаём пустую обучающую выборку\n",
        "x_train = []\n",
        "y_train = []\n",
        "\n",
        "# Проходам по всем машинам\n",
        "for _id, car in enumerate(np.array(cars)):\n",
        "  # В y_train добавляем цену\n",
        "  y_train.append(prices[_id])\n",
        "  \n",
        "  # В x_train объединяем все параметры\n",
        "  # Категорийные параметры добавляем в виде ohe\n",
        "  # Числовые параметры добавляем напрямую\n",
        "  x_tr = to_ohe(car[0], marks_dict) + \\\n",
        "        to_ohe(car[1], models_dict) + \\\n",
        "        to_ohe(car[5], bodies_dict) + \\\n",
        "        to_ohe(car[6], kpps_dict) + \\\n",
        "        to_ohe(car[7], fuels_dict) + \\\n",
        "        [years[_id]] + \\\n",
        "        [mileages[_id]] + \\\n",
        "        [volumes[_id]] + \\\n",
        "        [powers[_id]]\n",
        "  \n",
        "  # Добавляем текущую строку в общий x_train\n",
        "  x_train.append(x_tr)\n",
        "\n",
        "# Превращаем лист в numpy.array\n",
        "x_train = np.array(x_train, dtype=np.float)\n",
        "y_train = np.array(y_train, dtype=np.float)"
      ],
      "execution_count": null,
      "outputs": [
        {
          "output_type": "stream",
          "name": "stderr",
          "text": [
            "<ipython-input-15-d75b95df0e5f>:27: DeprecationWarning: `np.float` is a deprecated alias for the builtin `float`. To silence this warning, use `float` by itself. Doing this will not modify any behavior and is safe. If you specifically wanted the numpy scalar type, use `np.float64` here.\n",
            "Deprecated in NumPy 1.20; for more details and guidance: https://numpy.org/devdocs/release/1.20.0-notes.html#deprecations\n",
            "  x_train = np.array(x_train, dtype=np.float)\n",
            "<ipython-input-15-d75b95df0e5f>:28: DeprecationWarning: `np.float` is a deprecated alias for the builtin `float`. To silence this warning, use `float` by itself. Doing this will not modify any behavior and is safe. If you specifically wanted the numpy scalar type, use `np.float64` here.\n",
            "Deprecated in NumPy 1.20; for more details and guidance: https://numpy.org/devdocs/release/1.20.0-notes.html#deprecations\n",
            "  y_train = np.array(y_train, dtype=np.float)\n"
          ]
        }
      ]
    },
    {
      "cell_type": "code",
      "metadata": {
        "id": "S2IuqIWPy-nr",
        "colab": {
          "base_uri": "https://localhost:8080/"
        },
        "outputId": "26792a87-a2c0-4073-f24c-eabbd90d1117"
      },
      "source": [
        "# Выводим размеры выборок\n",
        "print(x_train.shape)\n",
        "print(y_train.shape)"
      ],
      "execution_count": null,
      "outputs": [
        {
          "output_type": "stream",
          "name": "stdout",
          "text": [
            "(70119, 3208)\n",
            "(70119,)\n"
          ]
        }
      ]
    },
    {
      "cell_type": "code",
      "metadata": {
        "id": "tyNIVawgzDX6",
        "colab": {
          "base_uri": "https://localhost:8080/"
        },
        "outputId": "36d3b99e-9fb9-4f3b-94c0-76fbcf839400"
      },
      "source": [
        "# Выводим один x_train\n",
        "print(x_train[0,:20])\n",
        "print(x_train[0,-20:])"
      ],
      "execution_count": null,
      "outputs": [
        {
          "output_type": "stream",
          "name": "stdout",
          "text": [
            "[0. 0. 0. 0. 0. 0. 0. 0. 0. 0. 0. 0. 0. 0. 1. 0. 0. 0. 0. 0.]\n",
            "[ 1.          0.          0.          0.          0.          0.\n",
            "  0.          0.          1.          0.          0.          0.\n",
            "  0.          1.          0.          0.          1.5200145  -1.40018212\n",
            "  0.12288486  0.22905575]\n"
          ]
        }
      ]
    },
    {
      "cell_type": "code",
      "metadata": {
        "id": "E06CfFFtzE4b",
        "colab": {
          "base_uri": "https://localhost:8080/"
        },
        "outputId": "acfb2dda-952e-413b-f0ee-edfb26ded342"
      },
      "source": [
        "# Выводим y_train\n",
        "print(y_train[:10])"
      ],
      "execution_count": null,
      "outputs": [
        {
          "output_type": "stream",
          "name": "stdout",
          "text": [
            "[ 996000.  140200.  750000.  970000.  205000.  985000.  589000.  500000.\n",
            " 1320000.  270000.]\n"
          ]
        }
      ]
    },
    {
      "cell_type": "code",
      "metadata": {
        "id": "tetSCI-BzITK"
      },
      "source": [
        "# Нормализуем y_train\n",
        "y_scaler = StandardScaler()\n",
        "y_train_scaled = y_scaler.fit_transform(y_train.reshape(-1,1)).flatten()\n",
        "\n",
        "# y_train.reshape(-1,1) добавляет одну размерность\n",
        "# Это нужно потому, что y_scaler.fit_transform\n",
        "# Требует двумерны вектор, массив примеров, которые надо нормализовать\n",
        "# Он не умеет работать с одним примеров\n",
        "# Поэтому мы делаем массив из одного примера\n",
        "# На выходе он так же выдаёт массив примеров\n",
        "# Но нам нужен только первый пример\n",
        "# Поэтому мы делаем flatten() - уменьшение размерности"
      ],
      "execution_count": null,
      "outputs": []
    },
    {
      "cell_type": "code",
      "metadata": {
        "id": "n3hq9mYkOEGK",
        "colab": {
          "base_uri": "https://localhost:8080/"
        },
        "outputId": "2167669e-06cc-49cc-ef89-e1c36009da6a"
      },
      "source": [
        "y_train_scaled.shape"
      ],
      "execution_count": null,
      "outputs": [
        {
          "output_type": "execute_result",
          "data": {
            "text/plain": [
              "(70119,)"
            ]
          },
          "metadata": {},
          "execution_count": 20
        }
      ]
    },
    {
      "cell_type": "code",
      "metadata": {
        "id": "v2k03NYbzI6q",
        "colab": {
          "base_uri": "https://localhost:8080/"
        },
        "outputId": "0a022e6e-a36e-440d-dd9b-7409b11f5605"
      },
      "source": [
        "# Выводим базовый и нормированный y_train\n",
        "print(y_train[:10])\n",
        "print(y_train_scaled[:10])"
      ],
      "execution_count": null,
      "outputs": [
        {
          "output_type": "stream",
          "name": "stdout",
          "text": [
            "[ 996000.  140200.  750000.  970000.  205000.  985000.  589000.  500000.\n",
            " 1320000.  270000.]\n",
            "[ 0.75082432 -0.62135434  0.3563911   0.70913625 -0.51745486  0.73318706\n",
            "  0.09824578 -0.04445567  1.27032173 -0.4132347 ]\n"
          ]
        }
      ]
    },
    {
      "cell_type": "markdown",
      "source": [
        "## Обучающая и тестовая выборка"
      ],
      "metadata": {
        "id": "Z7h_vIYzWlPV"
      }
    },
    {
      "cell_type": "code",
      "source": [
        "# sklearn - популярная библиотека для машинного обучения\n",
        "# train_test_split - функция разделения на обучающую и проверочную/тестовую выборку\n",
        "from sklearn.model_selection import train_test_split\n",
        "\n",
        "\n",
        "# test_size=0.2 - будет выделено 20% от тренировочных данных \n",
        "# shuffle=True - перемешать данные\n",
        "# x_train - данные для обучения\n",
        "# x_test - данные для проверки\n",
        "# y_train - правильные ответы для обучения\n",
        "# y_test - правильные ответы для проверки\n",
        "x_train, x_test, y_train, y_test = train_test_split(y_train_scaled, x_train, test_size=0.2, shuffle=True)    \n",
        "print (\"дата для обучения:\", x_train.shape,\"лейблы для обучения: \", y_train.shape, \"дата для теста:\", x_test.shape, \"лейблы для теста:\", y_test.shape, sep=\"\\n\")\n",
        "y_test.shape"
      ],
      "metadata": {
        "colab": {
          "base_uri": "https://localhost:8080/"
        },
        "id": "TdopzmXLRZ2l",
        "outputId": "f7390725-4c35-4da8-87a6-4e52daf1cc27"
      },
      "execution_count": null,
      "outputs": [
        {
          "output_type": "stream",
          "name": "stdout",
          "text": [
            "дата для обучения:\n",
            "(56095,)\n",
            "лейблы для обучения: \n",
            "(56095, 3208)\n",
            "дата для теста:\n",
            "(14024,)\n",
            "лейблы для теста:\n",
            "(14024, 3208)\n"
          ]
        },
        {
          "output_type": "execute_result",
          "data": {
            "text/plain": [
              "(14024, 3208)"
            ]
          },
          "metadata": {},
          "execution_count": 22
        }
      ]
    },
    {
      "cell_type": "code",
      "metadata": {
        "id": "nRhXUb0TCbUp"
      },
      "source": [
        "def createModel():\n",
        "  model = Sequential()\n",
        "  model.add(Dense(300, activation = 'relu', input_shape = x_train.shape[1:]))\n",
        "  \n",
        "  model.add(Dense(100, activation = 'relu'))\n",
        "  model.add(Dense(1))\n",
        "  model.compile(optimizer = 'adam', loss = 'mse', metrics = ['mae'])\n",
        "\n",
        "  return model"
      ],
      "execution_count": null,
      "outputs": []
    },
    {
      "cell_type": "code",
      "source": [
        "x_train = x_train.reshape(x_train.shape[0], -1)\n",
        "x_train"
      ],
      "metadata": {
        "id": "PPGgr2Kb2y26",
        "colab": {
          "base_uri": "https://localhost:8080/"
        },
        "outputId": "da34b28b-22ed-4c90-c99a-2babbf76cc68"
      },
      "execution_count": null,
      "outputs": [
        {
          "output_type": "execute_result",
          "data": {
            "text/plain": [
              "array([[-0.04445567],\n",
              "       [ 0.19140257],\n",
              "       [-0.04445567],\n",
              "       ...,\n",
              "       [-0.6858105 ],\n",
              "       [-0.42926857],\n",
              "       [-0.74192905]])"
            ]
          },
          "metadata": {},
          "execution_count": 24
        }
      ]
    },
    {
      "cell_type": "code",
      "source": [
        "x_test = x_test.reshape(x_test.shape[0],-1)\n",
        "x_test"
      ],
      "metadata": {
        "colab": {
          "base_uri": "https://localhost:8080/"
        },
        "id": "6kQAj2jIXkHc",
        "outputId": "0b0e4022-284a-47b0-d8e2-9026fbf86df2"
      },
      "execution_count": null,
      "outputs": [
        {
          "output_type": "execute_result",
          "data": {
            "text/plain": [
              "array([[-0.49340406],\n",
              "       [-0.1647097 ],\n",
              "       [-0.48538712],\n",
              "       ...,\n",
              "       [-0.21281132],\n",
              "       [-0.28656712],\n",
              "       [ 0.36440803]])"
            ]
          },
          "metadata": {},
          "execution_count": 25
        }
      ]
    },
    {
      "cell_type": "code",
      "source": [
        "def createModelDrop():\n",
        "\n",
        "  model = Sequential()\n",
        "  model.add(Dense(300, activation = 'relu', input_shape = x_train.shape[1:]))\n",
        "  model.add(Dropout(0.2)) # добавляем слой Dropout\n",
        "  model.add(Dense(100, activation = 'relu'))\n",
        "  model.add(Dropout(0.2)) # добавляем слой Dropout\n",
        "  model.add(Dense(1))\n",
        "  model.compile(optimizer = 'adam', loss = 'mse', metrics = ['mae'])\n",
        "\n",
        "  return model"
      ],
      "metadata": {
        "id": "W32ceSAotfZ7"
      },
      "execution_count": null,
      "outputs": []
    },
    {
      "cell_type": "code",
      "source": [
        "# training\n",
        "model = createModelDrop()\n",
        "model.fit(x_train, y_train, epochs =20, batch_size = 32, validation_split = 0.2)"
      ],
      "metadata": {
        "colab": {
          "base_uri": "https://localhost:8080/"
        },
        "id": "i33oEHlFW-jN",
        "outputId": "e3db460e-37d1-458e-8925-2ed274201551"
      },
      "execution_count": null,
      "outputs": [
        {
          "output_type": "stream",
          "name": "stdout",
          "text": [
            "Epoch 1/20\n",
            "1403/1403 [==============================] - 8s 5ms/step - loss: 0.0036 - mae: 0.0078 - val_loss: 0.0028 - val_mae: 0.0039\n",
            "Epoch 2/20\n",
            "1403/1403 [==============================] - 8s 6ms/step - loss: 0.0028 - mae: 0.0041 - val_loss: 0.0028 - val_mae: 0.0040\n",
            "Epoch 3/20\n",
            "1403/1403 [==============================] - 7s 5ms/step - loss: 0.0028 - mae: 0.0040 - val_loss: 0.0028 - val_mae: 0.0040\n",
            "Epoch 4/20\n",
            "1403/1403 [==============================] - 8s 6ms/step - loss: 0.0028 - mae: 0.0040 - val_loss: 0.0028 - val_mae: 0.0040\n",
            "Epoch 5/20\n",
            "1403/1403 [==============================] - 6s 5ms/step - loss: 0.0028 - mae: 0.0040 - val_loss: 0.0028 - val_mae: 0.0039\n",
            "Epoch 6/20\n",
            "1403/1403 [==============================] - 7s 5ms/step - loss: 0.0028 - mae: 0.0040 - val_loss: 0.0028 - val_mae: 0.0042\n",
            "Epoch 7/20\n",
            "1403/1403 [==============================] - 7s 5ms/step - loss: 0.0028 - mae: 0.0040 - val_loss: 0.0028 - val_mae: 0.0039\n",
            "Epoch 8/20\n",
            "1403/1403 [==============================] - 7s 5ms/step - loss: 0.0028 - mae: 0.0040 - val_loss: 0.0028 - val_mae: 0.0042\n",
            "Epoch 9/20\n",
            "1403/1403 [==============================] - 7s 5ms/step - loss: 0.0028 - mae: 0.0040 - val_loss: 0.0028 - val_mae: 0.0042\n",
            "Epoch 10/20\n",
            "1403/1403 [==============================] - 6s 4ms/step - loss: 0.0028 - mae: 0.0040 - val_loss: 0.0028 - val_mae: 0.0040\n",
            "Epoch 11/20\n",
            "1403/1403 [==============================] - 7s 5ms/step - loss: 0.0028 - mae: 0.0040 - val_loss: 0.0028 - val_mae: 0.0038\n",
            "Epoch 12/20\n",
            "1403/1403 [==============================] - 6s 4ms/step - loss: 0.0028 - mae: 0.0040 - val_loss: 0.0028 - val_mae: 0.0039\n",
            "Epoch 13/20\n",
            "1403/1403 [==============================] - 7s 5ms/step - loss: 0.0028 - mae: 0.0040 - val_loss: 0.0028 - val_mae: 0.0042\n",
            "Epoch 14/20\n",
            "1403/1403 [==============================] - 6s 4ms/step - loss: 0.0028 - mae: 0.0040 - val_loss: 0.0028 - val_mae: 0.0039\n",
            "Epoch 15/20\n",
            "1403/1403 [==============================] - 7s 5ms/step - loss: 0.0028 - mae: 0.0040 - val_loss: 0.0028 - val_mae: 0.0038\n",
            "Epoch 16/20\n",
            "1403/1403 [==============================] - 7s 5ms/step - loss: 0.0028 - mae: 0.0040 - val_loss: 0.0028 - val_mae: 0.0040\n",
            "Epoch 17/20\n",
            "1403/1403 [==============================] - 8s 6ms/step - loss: 0.0028 - mae: 0.0040 - val_loss: 0.0028 - val_mae: 0.0045\n",
            "Epoch 18/20\n",
            "1403/1403 [==============================] - 7s 5ms/step - loss: 0.0028 - mae: 0.0040 - val_loss: 0.0028 - val_mae: 0.0043\n",
            "Epoch 19/20\n",
            "1403/1403 [==============================] - 7s 5ms/step - loss: 0.0028 - mae: 0.0040 - val_loss: 0.0028 - val_mae: 0.0044\n",
            "Epoch 20/20\n",
            "1403/1403 [==============================] - 7s 5ms/step - loss: 0.0028 - mae: 0.0040 - val_loss: 0.0028 - val_mae: 0.0044\n"
          ]
        },
        {
          "output_type": "execute_result",
          "data": {
            "text/plain": [
              "<keras.callbacks.History at 0x7fcede7a6c70>"
            ]
          },
          "metadata": {},
          "execution_count": 27
        }
      ]
    },
    {
      "cell_type": "markdown",
      "source": [
        "## ТЕСТ"
      ],
      "metadata": {
        "id": "5HgEbE1GXb8e"
      }
    },
    {
      "cell_type": "code",
      "source": [
        "predict = model.predict(x_test) "
      ],
      "metadata": {
        "colab": {
          "base_uri": "https://localhost:8080/"
        },
        "id": "nG_xZqccXhVs",
        "outputId": "7f3b31a5-aa35-439c-daeb-1451bdcd85c9"
      },
      "execution_count": null,
      "outputs": [
        {
          "output_type": "stream",
          "name": "stdout",
          "text": [
            "439/439 [==============================] - 1s 2ms/step\n"
          ]
        }
      ]
    },
    {
      "cell_type": "code",
      "source": [
        "history = test_loss, test_acc=model.evaluate(x_test, y_test)"
      ],
      "metadata": {
        "colab": {
          "base_uri": "https://localhost:8080/"
        },
        "id": "He12NAp1cLcy",
        "outputId": "e4aa70d6-555b-4cdb-ef85-f27215024af0"
      },
      "execution_count": null,
      "outputs": [
        {
          "output_type": "stream",
          "name": "stdout",
          "text": [
            "439/439 [==============================] - 2s 5ms/step - loss: 0.0028 - mae: 0.0044\n"
          ]
        }
      ]
    },
    {
      "cell_type": "code",
      "source": [
        "history # тут показывается mae, но не уверен что это нужно"
      ],
      "metadata": {
        "colab": {
          "base_uri": "https://localhost:8080/"
        },
        "id": "utEei5pC4NQ0",
        "outputId": "672cd0e2-10d0-4f94-8cf3-1c11933db5f8"
      },
      "execution_count": null,
      "outputs": [
        {
          "output_type": "execute_result",
          "data": {
            "text/plain": [
              "[0.002800979884341359, 0.004376718308776617]"
            ]
          },
          "metadata": {},
          "execution_count": 33
        }
      ]
    },
    {
      "cell_type": "code",
      "source": [
        "predict_inverse = y_scaler.inverse_transform(predict).flatten()\n",
        "print(predict_inverse.shape)\n",
        "y_test.shape"
      ],
      "metadata": {
        "colab": {
          "base_uri": "https://localhost:8080/"
        },
        "id": "KNExXnYOeree",
        "outputId": "bfecfcf5-ca30-45c6-86e6-527722b40972"
      },
      "execution_count": null,
      "outputs": [
        {
          "output_type": "stream",
          "name": "stdout",
          "text": [
            "(14024,)\n"
          ]
        },
        {
          "output_type": "execute_result",
          "data": {
            "text/plain": [
              "(14024, 3208)"
            ]
          },
          "metadata": {},
          "execution_count": 38
        }
      ]
    },
    {
      "cell_type": "code",
      "source": [
        "predict_inverse"
      ],
      "metadata": {
        "colab": {
          "base_uri": "https://localhost:8080/"
        },
        "id": "yW1HFkocfjfQ",
        "outputId": "44640ed4-003f-4d79-e84d-57b8209217a6"
      },
      "execution_count": null,
      "outputs": [
        {
          "output_type": "execute_result",
          "data": {
            "text/plain": [
              "array([528806.94, 528942.44, 528812.06, ..., 528926.4 , 528900.9 ,\n",
              "       529170.8 ], dtype=float32)"
            ]
          },
          "metadata": {},
          "execution_count": 39
        }
      ]
    },
    {
      "cell_type": "code",
      "source": [
        "y_test= y_scaler.inverse_transform(y_test.reshape(-1,1)).flatten()\n",
        "y_test"
      ],
      "metadata": {
        "colab": {
          "base_uri": "https://localhost:8080/"
        },
        "id": "2NzBVmdYfmKT",
        "outputId": "063f1fa8-c3bf-4dfd-d117-a3fcebe12d08"
      },
      "execution_count": null,
      "outputs": [
        {
          "output_type": "execute_result",
          "data": {
            "text/plain": [
              "array([ 527726.10142757,  527726.10142757, 1151405.81816743, ...,\n",
              "        109947.67002734,  604366.89708649,  881807.66726893])"
            ]
          },
          "metadata": {},
          "execution_count": 41
        }
      ]
    },
    {
      "cell_type": "code",
      "source": [
        "predict_inverse = predict_inverse.astype(np.float64)\n",
        "predict_inverse"
      ],
      "metadata": {
        "colab": {
          "base_uri": "https://localhost:8080/"
        },
        "id": "ieYMnwImgGcx",
        "outputId": "3fef3a2a-a9ca-42ff-e94b-f372d214f8db"
      },
      "execution_count": null,
      "outputs": [
        {
          "output_type": "execute_result",
          "data": {
            "text/plain": [
              "array([528806.9375, 528942.4375, 528812.0625, ..., 528926.375 ,\n",
              "       528900.875 , 529170.8125])"
            ]
          },
          "metadata": {},
          "execution_count": 43
        }
      ]
    },
    {
      "cell_type": "code",
      "source": [
        "y_test = y_test[:predict_inverse.shape[0]]"
      ],
      "metadata": {
        "id": "t6bJ32nWgtuv"
      },
      "execution_count": null,
      "outputs": []
    },
    {
      "cell_type": "code",
      "source": [
        "from sklearn.metrics import mean_absolute_error, mean_squared_error\n",
        "mae = mean_absolute_error(y_test, predict_inverse)\n",
        "mse = mean_squared_error(y_test, predict_inverse)\n",
        "\n",
        "print(\"MAE: {:.2f}\".format(mae))\n",
        "print(\"MSE: {:.2f}\".format(mse))"
      ],
      "metadata": {
        "colab": {
          "base_uri": "https://localhost:8080/"
        },
        "id": "PSlhirsFfbBq",
        "outputId": "1a57886f-ee45-4fb2-da55-8d61e6d0e376"
      },
      "execution_count": null,
      "outputs": [
        {
          "output_type": "stream",
          "name": "stdout",
          "text": [
            "MAE: 2647.60\n",
            "MSE: 923026009.53\n"
          ]
        }
      ]
    },
    {
      "cell_type": "code",
      "source": [
        "y_test.shape"
      ],
      "metadata": {
        "colab": {
          "base_uri": "https://localhost:8080/"
        },
        "id": "bNvkTSmnNWVp",
        "outputId": "5d02b2f6-eae6-4164-dd6b-4e2def4adc1b"
      },
      "execution_count": null,
      "outputs": [
        {
          "output_type": "execute_result",
          "data": {
            "text/plain": [
              "(44988992,)"
            ]
          },
          "metadata": {},
          "execution_count": 45
        }
      ]
    },
    {
      "cell_type": "code",
      "source": [
        "predict_inverse.shape"
      ],
      "metadata": {
        "colab": {
          "base_uri": "https://localhost:8080/"
        },
        "id": "JRVgufTTgoxU",
        "outputId": "2e65c2d4-174c-4a8c-d08f-80344ea2a31f"
      },
      "execution_count": null,
      "outputs": [
        {
          "output_type": "execute_result",
          "data": {
            "text/plain": [
              "(14024,)"
            ]
          },
          "metadata": {},
          "execution_count": 46
        }
      ]
    }
  ]
}