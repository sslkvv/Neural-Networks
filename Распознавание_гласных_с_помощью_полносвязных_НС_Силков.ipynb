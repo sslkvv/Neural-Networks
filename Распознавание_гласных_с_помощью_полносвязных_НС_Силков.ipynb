{
  "cells": [
    {
      "cell_type": "markdown",
      "metadata": {
        "id": "view-in-github",
        "colab_type": "text"
      },
      "source": [
        "<a href=\"https://colab.research.google.com/github/sslkvv/Neural-Networks/blob/main/%D0%A0%D0%B0%D1%81%D0%BF%D0%BE%D0%B7%D0%BD%D0%B0%D0%B2%D0%B0%D0%BD%D0%B8%D0%B5_%D0%B3%D0%BB%D0%B0%D1%81%D0%BD%D1%8B%D1%85_%D1%81_%D0%BF%D0%BE%D0%BC%D0%BE%D1%89%D1%8C%D1%8E_%D0%BF%D0%BE%D0%BB%D0%BD%D0%BE%D1%81%D0%B2%D1%8F%D0%B7%D0%BD%D1%8B%D1%85_%D0%9D%D0%A1_%D0%A1%D0%B8%D0%BB%D0%BA%D0%BE%D0%B2.ipynb\" target=\"_parent\"><img src=\"https://colab.research.google.com/assets/colab-badge.svg\" alt=\"Open In Colab\"/></a>"
      ]
    },
    {
      "cell_type": "markdown",
      "metadata": {
        "id": "AnOOa2aQzGDk"
      },
      "source": [
        "#Задание\n",
        "- полносвязная НС, распознающая гласные русского языка;\n",
        "- материал - выборка из двухсот файлов CORPRESS;\n",
        "- единообразные признаки на выбор;\n",
        "- информация о качестве работы модели, о том, сколько аллофонов в обучающей выборке, в тестовой;\n",
        "- статистика по контекстам, где система даёт сбой.\n",
        "\n",
        "#План работы\n",
        "1. Читаем файлы seg_B1 - берём границы звуков, используя метки, размечаем данные (0 - согласные, 1-6 - гласные)\n",
        "2. Используя файлы seg_G1 и sbl, получаем признаки для наших звуков:\n",
        "- длительность\n",
        "- minf0\n",
        "- maxf0\n",
        "- mfcc\n",
        "- контекст\n",
        "3. Полученные в виде списков показатели загружаем в DataFrame\n",
        "4. Делим на X и Y, train и test\n",
        "5. Строим НС, обучаем, анализируем результат\n",
        "6. Оценка модели. Описание полученных результатов\n",
        "\n",
        "\n"
      ]
    },
    {
      "cell_type": "markdown",
      "metadata": {
        "id": "CfOUpN497dqC"
      },
      "source": [
        "###0. Подготовка данных, импорт библиотек, ввод функций\n",
        "\n"
      ]
    },
    {
      "cell_type": "code",
      "source": [
        "from google.colab import drive\n",
        "drive.mount('/content/drive')"
      ],
      "metadata": {
        "colab": {
          "base_uri": "https://localhost:8080/"
        },
        "id": "4MvsoTzZw6Sl",
        "outputId": "f4a73009-564b-43f3-d0d1-06384e0c8285"
      },
      "execution_count": null,
      "outputs": [
        {
          "output_type": "stream",
          "name": "stdout",
          "text": [
            "Mounted at /content/drive\n"
          ]
        }
      ]
    },
    {
      "cell_type": "code",
      "execution_count": null,
      "metadata": {
        "colab": {
          "base_uri": "https://localhost:8080/"
        },
        "id": "Je6D1K31v4T7",
        "outputId": "853bcff4-c840-4b80-dbc8-c6163aba6b1d"
      },
      "outputs": [
        {
          "output_type": "stream",
          "name": "stdout",
          "text": [
            "Looking in indexes: https://pypi.org/simple, https://us-python.pkg.dev/colab-wheels/public/simple/\n",
            "Requirement already satisfied: librosa in /usr/local/lib/python3.10/dist-packages (0.10.0.post2)\n",
            "Requirement already satisfied: audioread>=2.1.9 in /usr/local/lib/python3.10/dist-packages (from librosa) (3.0.0)\n",
            "Requirement already satisfied: numpy!=1.22.0,!=1.22.1,!=1.22.2,>=1.20.3 in /usr/local/lib/python3.10/dist-packages (from librosa) (1.22.4)\n",
            "Requirement already satisfied: scipy>=1.2.0 in /usr/local/lib/python3.10/dist-packages (from librosa) (1.10.1)\n",
            "Requirement already satisfied: scikit-learn>=0.20.0 in /usr/local/lib/python3.10/dist-packages (from librosa) (1.2.2)\n",
            "Requirement already satisfied: joblib>=0.14 in /usr/local/lib/python3.10/dist-packages (from librosa) (1.2.0)\n",
            "Requirement already satisfied: decorator>=4.3.0 in /usr/local/lib/python3.10/dist-packages (from librosa) (4.4.2)\n",
            "Requirement already satisfied: numba>=0.51.0 in /usr/local/lib/python3.10/dist-packages (from librosa) (0.56.4)\n",
            "Requirement already satisfied: soundfile>=0.12.1 in /usr/local/lib/python3.10/dist-packages (from librosa) (0.12.1)\n",
            "Requirement already satisfied: pooch<1.7,>=1.0 in /usr/local/lib/python3.10/dist-packages (from librosa) (1.6.0)\n",
            "Requirement already satisfied: soxr>=0.3.2 in /usr/local/lib/python3.10/dist-packages (from librosa) (0.3.5)\n",
            "Requirement already satisfied: typing-extensions>=4.1.1 in /usr/local/lib/python3.10/dist-packages (from librosa) (4.5.0)\n",
            "Requirement already satisfied: lazy-loader>=0.1 in /usr/local/lib/python3.10/dist-packages (from librosa) (0.2)\n",
            "Requirement already satisfied: msgpack>=1.0 in /usr/local/lib/python3.10/dist-packages (from librosa) (1.0.5)\n",
            "Requirement already satisfied: llvmlite<0.40,>=0.39.0dev0 in /usr/local/lib/python3.10/dist-packages (from numba>=0.51.0->librosa) (0.39.1)\n",
            "Requirement already satisfied: setuptools in /usr/local/lib/python3.10/dist-packages (from numba>=0.51.0->librosa) (67.7.2)\n",
            "Requirement already satisfied: appdirs>=1.3.0 in /usr/local/lib/python3.10/dist-packages (from pooch<1.7,>=1.0->librosa) (1.4.4)\n",
            "Requirement already satisfied: packaging>=20.0 in /usr/local/lib/python3.10/dist-packages (from pooch<1.7,>=1.0->librosa) (23.1)\n",
            "Requirement already satisfied: requests>=2.19.0 in /usr/local/lib/python3.10/dist-packages (from pooch<1.7,>=1.0->librosa) (2.27.1)\n",
            "Requirement already satisfied: threadpoolctl>=2.0.0 in /usr/local/lib/python3.10/dist-packages (from scikit-learn>=0.20.0->librosa) (3.1.0)\n",
            "Requirement already satisfied: cffi>=1.0 in /usr/local/lib/python3.10/dist-packages (from soundfile>=0.12.1->librosa) (1.15.1)\n",
            "Requirement already satisfied: pycparser in /usr/local/lib/python3.10/dist-packages (from cffi>=1.0->soundfile>=0.12.1->librosa) (2.21)\n",
            "Requirement already satisfied: urllib3<1.27,>=1.21.1 in /usr/local/lib/python3.10/dist-packages (from requests>=2.19.0->pooch<1.7,>=1.0->librosa) (1.26.15)\n",
            "Requirement already satisfied: certifi>=2017.4.17 in /usr/local/lib/python3.10/dist-packages (from requests>=2.19.0->pooch<1.7,>=1.0->librosa) (2022.12.7)\n",
            "Requirement already satisfied: charset-normalizer~=2.0.0 in /usr/local/lib/python3.10/dist-packages (from requests>=2.19.0->pooch<1.7,>=1.0->librosa) (2.0.12)\n",
            "Requirement already satisfied: idna<4,>=2.5 in /usr/local/lib/python3.10/dist-packages (from requests>=2.19.0->pooch<1.7,>=1.0->librosa) (3.4)\n"
          ]
        }
      ],
      "source": [
        "!pip install librosa"
      ]
    },
    {
      "cell_type": "code",
      "execution_count": null,
      "metadata": {
        "id": "f9kV9LKzOrAn"
      },
      "outputs": [],
      "source": [
        "import math\n",
        "import matplotlib.pyplot as plt\n",
        "from matplotlib.ticker import MultipleLocator\n",
        "import seaborn as sns\n",
        "from PIL import Image, ImageDraw, ImageFont\n",
        "from glob import glob\n",
        "import pandas as pd\n",
        "import librosa\n",
        "import re\n",
        "import numpy as np\n",
        "import matplotlib.pyplot as plt\n",
        "import os\n",
        "import os.path\n",
        "import math\n",
        "import os\n",
        "import re\n",
        "import struct\n",
        "import zipfile\n",
        "from math import log2\n",
        "import statistics\n",
        "from keras.models import Sequential\n",
        "from keras.layers import Dense\n",
        "from keras.layers import Dropout, BatchNormalization\n",
        "from keras.callbacks import EarlyStopping\n",
        "from sklearn.preprocessing import LabelEncoder, MinMaxScaler\n",
        "from sklearn.model_selection import train_test_split\n",
        "from sklearn.metrics import confusion_matrix"
      ]
    },
    {
      "cell_type": "code",
      "execution_count": null,
      "metadata": {
        "id": "xdH7HI4QvQGA"
      },
      "outputs": [],
      "source": [
        "# распакуем архивы\n",
        "def unzip_files_from_directory(directory_path, output_dir):\n",
        "    for file_name in os.listdir(directory_path):\n",
        "        file_path = os.path.join(directory_path, file_name)\n",
        "        if file_name.endswith('.zip'):\n",
        "            with zipfile.ZipFile(file_path, 'r') as zip_ref:\n",
        "                zip_ref.extractall(output_dir)\n",
        "            print(\"File unzipped successfully:\", file_path)"
      ]
    },
    {
      "cell_type": "code",
      "execution_count": null,
      "metadata": {
        "colab": {
          "base_uri": "https://localhost:8080/"
        },
        "id": "LlXsSc95vy1U",
        "outputId": "a40ccac1-c4a1-42ed-ee5f-9c9a548eefe6"
      },
      "outputs": [
        {
          "output_type": "stream",
          "name": "stdout",
          "text": [
            "File unzipped successfully: /content/drive/MyDrive/Базы/corpress/cta.zip\n",
            "File unzipped successfully: /content/drive/MyDrive/Базы/corpress/ata.zip\n"
          ]
        }
      ],
      "source": [
        "# распаковка архивов\n",
        "file_path = \"/content/drive/MyDrive/Базы/corpress\"\n",
        "output_dir = \"/content/drive/MyDrive/Базы/corpress/new\"\n",
        "\n",
        "unzip_files_from_directory(file_path, output_dir)"
      ]
    },
    {
      "cell_type": "code",
      "execution_count": null,
      "metadata": {
        "id": "3nambduVvzS-"
      },
      "outputs": [],
      "source": [
        "# функция, в которую подаётся адрес директории, а на выходе получаем аллофоны и их признаки (время, длительность, ЧОТ)\n",
        "def get_values(directory):\n",
        "    filename = []\n",
        "    allophone = []\n",
        "    duration = []\n",
        "    start_time = []\n",
        "    end_time = []\n",
        "    filename_sbl = []\n",
        "    semitones = []\n",
        "    maxF0 = []\n",
        "    minF0 = []\n",
        "    class_val = []\n",
        "    contexts = []\n",
        "\n",
        "    for root, dirs, files in os.walk(directory):\n",
        "      # проходим по директории с сегами, заполняем список с соответствующими sbl, находим файл Y1\n",
        "        for file_name in files:\n",
        "            if file_name.endswith(\".seg_B1\"):\n",
        "                filenames = file_name.replace(\".seg_B1\", \"\") + \".sbl\"\n",
        "                filename_sbl.append(os.path.join(root, filenames))\n",
        "                file_path = os.path.join(root, file_name)\n",
        "                filename_Y1 = os.path.join(root, file_name.replace(\".seg_B1\", \"\") + \".seg_Y1\")\n",
        "\n",
        "              # читаем seg\n",
        "                with open(file_path, 'r') as file:\n",
        "                    lines = file.readlines()\n",
        "                    sounds = [i.strip().split(',') for i in lines[7:]]\n",
        "\n",
        "              # берём все метки за исключением последней, сохраняем значение аллофона\n",
        "                    for i, line in enumerate(sounds[:-1]):\n",
        "                        allophone_value = line[2]\n",
        "                        allophone.append(allophone_value)\n",
        "\n",
        "              # задаём контекст (строка - предыдущий и следующий звук, _ - граница слова)\n",
        "                        if i != 0 and sounds[i + 1] == '':\n",
        "                          cntx = sounds[i - 1][2] + \"_\"\n",
        "                        elif i != 0  and sounds[i + 1] != '':\n",
        "                          cntx = sounds[i - 1][2] + sounds[i + 1][2]\n",
        "                        elif i == 0  and sounds[i + 1] == '':\n",
        "                          cntx = \"_\" + \"_\"\n",
        "                        elif i == 0  and sounds[i + 1] != '':\n",
        "                          cntx = \"_\" + sounds[i + 1][2]\n",
        "\n",
        "                        contexts.append(cntx)\n",
        "\n",
        "              # размечаем таргет признак: согласным соответствует 0, гласным - значения от 1 до 6, которые берём из словаря (задан далее)\n",
        "                        if len(allophone_value) > 0 and allophone_value[0] in vowel_codes.keys():\n",
        "                          first_sym = allophone_value[0]\n",
        "                          code = vowel_codes[first_sym]\n",
        "                          class_val.append(code)\n",
        "                        else:\n",
        "                          class_val.append(0)\n",
        "\n",
        "               # проставим время начала и конца  (в отсчетах)\n",
        "                        start_time.append(int(line[0]))\n",
        "                        end_time.append(int(sounds[i + 1][0]))\n",
        "\n",
        "               # проставим длительность (в секундах)\n",
        "                        prev_time = int(line[0])\n",
        "                        next_time = int(sounds[i + 1][0])\n",
        "                        sound_duration = int(next_time - prev_time) / 22050 / 2\n",
        "                        duration.append(sound_duration)\n",
        "\n",
        "               # сохраняем имена файлов\n",
        "                        filename.append(os.path.basename(file_name))\n",
        "\n",
        "\n",
        "# из файлов G1 берём значения максимальной и минимальной ЧОТ, разницу в полутонах\n",
        "            elif file_name.endswith(\".seg_G1\"):\n",
        "                file_path = os.path.join(root, file_name)\n",
        "\n",
        "              #  открываем сеги\n",
        "                with open(file_path, \"r\", encoding=\"utf-8-sig\") as G1:\n",
        "                    lines_pitch = G1.readlines()\n",
        "                    pitch = [i.strip().split(',') for i in lines_pitch[7:]]\n",
        "                    result = []\n",
        "                    sublist = []\n",
        "\n",
        "              #  в sublist сохраним метки ЧОТ, соответствующие данному звуку\n",
        "                    for x, sound in enumerate(sounds[:-1]):\n",
        "                        for j in pitch:\n",
        "                            if int(sounds[x-1][0]) <= int(j[0]) <= int(sounds[x][0]):\n",
        "                                sublist.append(int(j[0]))\n",
        "                        result.append(sublist)\n",
        "                        sublist = []\n",
        "\n",
        "              # считаем мин и макс ЧОТ, разницу сохраняем в полутонах\n",
        "                    for sound_pitch in result:\n",
        "                        if sound_pitch:\n",
        "                            pairs = []\n",
        "                            for pitch1, pitch2 in zip(sound_pitch, sound_pitch[1:]):\n",
        "                                pairs.append(1 / (pitch2 - pitch1))\n",
        "                            pairs = pairs[1 : -1]\n",
        "                            if not pairs:\n",
        "                                maxF0.append(0)\n",
        "                                minF0.append(0)\n",
        "                                semitones.append(0)\n",
        "                            else:\n",
        "                                maxF0.append(max(pairs))\n",
        "                                minF0.append(min(pairs))\n",
        "                                semitones.append(12 * log2(max(pairs) / min(pairs)))\n",
        "                        else:\n",
        "                            maxF0.append(0)\n",
        "                            minF0.append(0)\n",
        "                            semitones.append(0)\n",
        "\n",
        "    return filename, class_val, allophone, contexts, duration, start_time, end_time, filename_sbl, maxF0, minF0, semitones"
      ]
    },
    {
      "cell_type": "code",
      "execution_count": null,
      "metadata": {
        "id": "0gH9kNqAE7Uj"
      },
      "outputs": [],
      "source": [
        "# функция для чтения sbl-файлов\n",
        "\n",
        "def readSbl(f_name, sampling_quant = 2):\n",
        "    try:\n",
        "        f = open(f_name, \"rb\")\n",
        "        file_len = os.path.getsize(f_name)\n",
        "        if sampling_quant == 2:\n",
        "            fmt = \"h\"*int(file_len/2)\n",
        "        elif sampling_quant == 4:\n",
        "            fmt = \"i\"*int(file_len/4)\n",
        "        elif sampling_quant == 6:\n",
        "            fmt = \"q\"*int(file_len/6)\n",
        "        else:\n",
        "            print(\"Ошибка\")\n",
        "            return\n",
        "        num = struct.unpack(fmt, f.read(file_len))\n",
        "        return list(num)\n",
        "    except Exception as err:\n",
        "        print(err)\n",
        "        return None"
      ]
    },
    {
      "cell_type": "code",
      "execution_count": null,
      "metadata": {
        "id": "5XU5MfiNEycn"
      },
      "outputs": [],
      "source": [
        "# рабочая функция для вычисления mfcc\n",
        "def mfcc(sbl_files, filename, allophones, start_times, end_times, n_mfcc=15):\n",
        "    mfccs = []\n",
        "    filtered_sbl_files = []\n",
        "\n",
        "    for name in filename:\n",
        "      for sbl_file in sbl_files:\n",
        "        if name in sbl_file:\n",
        "            filtered_sbl_files.append(sbl_file)\n",
        "            break\n",
        "\n",
        "    for i, sbl_file in enumerate(filtered_sbl_files):\n",
        "        if i == 0 or sbl_file != current_sbl_file:\n",
        "          signal = readSbl(sbl_file)\n",
        "          current_sbl_file = sbl_file\n",
        "\n",
        "        allophone = allophones[i]\n",
        "        start_time = int(start_times[i] / 2)\n",
        "        end_time = int(end_times[i] / 2)\n",
        "# вычисляем четверть длительности\n",
        "        q = (end_time - start_time) / 4\n",
        "# прибавляем четверть к началу, отнимаем от конца - рассматриваем середину звука\n",
        "        start_idx = int(start_time + q)\n",
        "        end_idx = int(end_time - q)\n",
        "\n",
        "        segment = np.array(signal[start_idx : end_idx], dtype=np.float32)\n",
        "    # передаём в фунцию librosa.mfcc сегмент (отдельный звук), задаём частоту дискретизации, ширину окна и количество mfcc\n",
        "        mfcc = librosa.feature.mfcc(y=segment, sr=22050, n_fft=512, n_mfcc=n_mfcc)\n",
        "\n",
        "        mfccs.append((allophone, mfcc))\n",
        "    return mfccs"
      ]
    },
    {
      "cell_type": "markdown",
      "metadata": {
        "id": "WAgXJCFG7xYp"
      },
      "source": [
        "###1. Читаем файлы"
      ]
    },
    {
      "cell_type": "code",
      "source": [
        "# словарь для кодирования классов звуков\n",
        "vowel_codes = {'i': 1, 'e': 2, 'a': 3, 'y': 4, 'o': 5,'u': 6}"
      ],
      "metadata": {
        "id": "-oloHNAZ3NgR"
      },
      "execution_count": null,
      "outputs": []
    },
    {
      "cell_type": "code",
      "execution_count": null,
      "metadata": {
        "id": "4fHtpfMHDgr0"
      },
      "outputs": [],
      "source": [
        "directory = \"/content/drive/MyDrive/Базы/corpress/new\"\n",
        "filename, class_val, allophone, contexts, duration, start_time, end_time, filename_sbl, maxF0, minF0, semitones = get_values(directory)"
      ]
    },
    {
      "cell_type": "code",
      "source": [
        "# проверяем, что все нужные признаки получены для каждого звука\n",
        "print(len(filename), len(class_val), len(allophone), len(contexts), len(duration), len(start_time), len(end_time), len(maxF0), len(minF0), len(semitones))"
      ],
      "metadata": {
        "colab": {
          "base_uri": "https://localhost:8080/"
        },
        "id": "H6M3L2Rg1TBP",
        "outputId": "01b09f95-8a7d-41a5-d57d-16493ec659dc"
      },
      "execution_count": null,
      "outputs": [
        {
          "output_type": "stream",
          "name": "stdout",
          "text": [
            "14268 14268 14268 14268 14268 14268 14268 14268 14268 14268\n"
          ]
        }
      ]
    },
    {
      "cell_type": "markdown",
      "metadata": {
        "id": "yIGvyUx774hS"
      },
      "source": [
        "###2. Получаем признаки аллофонов"
      ]
    },
    {
      "cell_type": "code",
      "execution_count": null,
      "metadata": {
        "colab": {
          "base_uri": "https://localhost:8080/"
        },
        "id": "1VB4G6beDpqF",
        "outputId": "24a8553a-3171-4a82-d38e-55f550567ea3"
      },
      "outputs": [
        {
          "output_type": "stream",
          "name": "stdout",
          "text": [
            "s _t 0\n",
            "t so0 0\n",
            "o0 ti4 5\n",
            "i4 o0t 1\n",
            "t i4e0 0\n",
            "e0 tt 2\n",
            "t e0e4 0\n",
            "e4 tn' 2\n",
            "n' e4i1 0\n",
            "i1 n't 1\n",
            "t i1a0 0\n",
            "a0 tk 3\n",
            "k a0u4 0\n",
            "u4 kzh 6\n",
            "zh u4d 0\n",
            "d zho0 0\n",
            "o0 dr 5\n",
            "r o0a4 0\n",
            "a4 rg 3\n",
            "g a4a4 0\n"
          ]
        }
      ],
      "source": [
        "# проверим, как работает функция, какую информацию мы можем получить\n",
        "for n,x in enumerate(class_val[:20]):\n",
        "  print(allophone[n], contexts[n], x)"
      ]
    },
    {
      "cell_type": "code",
      "execution_count": null,
      "metadata": {
        "id": "SEiJ7bPRFdPj"
      },
      "outputs": [],
      "source": [
        "fn_list = [item.replace('.seg_B1', '') for item in filename]"
      ]
    },
    {
      "cell_type": "code",
      "execution_count": null,
      "metadata": {
        "id": "cuxtaSkKFQr7"
      },
      "outputs": [],
      "source": [
        "# считаем MFCC\n",
        "mfcc_values = mfcc(filename_sbl, fn_list, allophone, start_time, end_time)"
      ]
    },
    {
      "cell_type": "code",
      "execution_count": null,
      "metadata": {
        "id": "gVdEWSXDthrk",
        "colab": {
          "base_uri": "https://localhost:8080/"
        },
        "outputId": "d38dab3b-84de-4ace-d8b6-683e5a851d22"
      },
      "outputs": [
        {
          "output_type": "execute_result",
          "data": {
            "text/plain": [
              "True"
            ]
          },
          "metadata": {},
          "execution_count": 16
        }
      ],
      "source": [
        "# проверим, что количество мфсс посчитан для всех звуков\n",
        "len(mfcc_values) == len(allophone)"
      ]
    },
    {
      "cell_type": "markdown",
      "metadata": {
        "id": "orFlcLgJ7-RY"
      },
      "source": [
        "###3. Создаём датафрейм"
      ]
    },
    {
      "cell_type": "code",
      "execution_count": null,
      "metadata": {
        "colab": {
          "base_uri": "https://localhost:8080/",
          "height": 487
        },
        "id": "a4MAUN8yF11k",
        "outputId": "1a78d74e-9918-432d-bd51-f21a9c136ad6"
      },
      "outputs": [
        {
          "output_type": "display_data",
          "data": {
            "text/plain": [
              "      allophone  mfcc_column_1  mfcc_column_2  mfcc_column_3  mfcc_column_4  \\\n",
              "0             s     583.083191     -63.822926      71.923965       2.242034   \n",
              "1             t     270.680725     -13.653047      70.048401      10.641147   \n",
              "2            o0     650.281860     108.507423      37.581676      11.967784   \n",
              "3            i4     652.626465      90.035904      44.965508      22.920303   \n",
              "4             t     306.555908     148.725769      65.273651      35.357952   \n",
              "...         ...            ...            ...            ...            ...   \n",
              "14263        sh     636.991882     -37.470600     -63.405842      40.645428   \n",
              "14264        y0     622.149902     167.884399      19.169436      35.886940   \n",
              "14265         r     503.830811     143.493668      36.767147      23.205196   \n",
              "14266        m'     476.109222     141.980865      49.286743      16.367233   \n",
              "14267        e4     505.914032      99.190582       3.653590      27.983324   \n",
              "\n",
              "       mfcc_column_5  mfcc_column_6  mfcc_column_7  mfcc_column_8  \\\n",
              "0           4.479675      19.514883       8.306728      -4.097106   \n",
              "1          17.412857      22.894091      17.162796       0.370580   \n",
              "2           2.862479     -11.214475      -8.454981     -17.967768   \n",
              "3          28.867010     -38.033707     -10.763474     -21.758583   \n",
              "4          33.889015      -7.791605     -22.621460      -9.711348   \n",
              "...              ...            ...            ...            ...   \n",
              "14263      28.433060      21.634970      11.176726      13.551732   \n",
              "14264      35.487297      16.247778       2.174731     -19.264362   \n",
              "14265      42.732155       8.866025       1.498493       6.241940   \n",
              "14266      29.756903      26.242619      -0.138237      -1.659199   \n",
              "14267      44.741108     -10.816558     -23.216135     -15.775615   \n",
              "\n",
              "       mfcc_column_9  ...  mfcc_column_14  mfcc_column_15  start_time  \\\n",
              "0          18.678019  ...        8.777874        9.749883           0   \n",
              "1          15.682331  ...        9.033628        6.675737        5054   \n",
              "2         -18.073383  ...      -15.992242      -10.446782        8634   \n",
              "3          -7.254795  ...       -5.301659      -16.386471       13028   \n",
              "4           2.903988  ...        7.369506       -6.721673       16060   \n",
              "...              ...  ...             ...             ...         ...   \n",
              "14263     -10.684105  ...       -2.755269        4.556554      148896   \n",
              "14264      -7.512458  ...       -8.217190      -12.312735      153756   \n",
              "14265     -12.179645  ...        1.332692      -10.972754      157376   \n",
              "14266      16.603298  ...        8.860785      -10.408318      160668   \n",
              "14267       6.934996  ...        3.874156       13.952275      164204   \n",
              "\n",
              "       end_time  contexts  duration    min_F0    max_FO  semitones  class  \n",
              "0          5054        _t  0.114603  0.000000  0.000000   0.000000      0  \n",
              "1          8634       so0  0.081179  0.000000  0.000000   0.000000      0  \n",
              "2         13028       ti4  0.099637  0.000000  0.000000   0.000000      5  \n",
              "3         16060       o0t  0.068753  0.007042  0.007812   1.796965      1  \n",
              "4         19808      i4e0  0.084989  0.005155  0.006849   4.921059      0  \n",
              "...         ...       ...       ...       ...       ...        ...    ...  \n",
              "14263    153756       fy0  0.110204  0.000000  0.000000   0.000000      0  \n",
              "14264    157376       shr  0.082086  0.000000  0.000000   0.000000      4  \n",
              "14265    160668      y0m'  0.074649  0.001931  0.002404   3.796423      0  \n",
              "14266    164204       re4  0.080181  0.000797  0.001572  11.753264      0  \n",
              "14267    168368        m'  0.094422  0.001337  0.001618   3.305177      2  \n",
              "\n",
              "[14268 rows x 24 columns]"
            ],
            "text/html": [
              "\n",
              "  <div id=\"df-90bd0c68-2872-4770-859a-88898fb15026\">\n",
              "    <div class=\"colab-df-container\">\n",
              "      <div>\n",
              "<style scoped>\n",
              "    .dataframe tbody tr th:only-of-type {\n",
              "        vertical-align: middle;\n",
              "    }\n",
              "\n",
              "    .dataframe tbody tr th {\n",
              "        vertical-align: top;\n",
              "    }\n",
              "\n",
              "    .dataframe thead th {\n",
              "        text-align: right;\n",
              "    }\n",
              "</style>\n",
              "<table border=\"1\" class=\"dataframe\">\n",
              "  <thead>\n",
              "    <tr style=\"text-align: right;\">\n",
              "      <th></th>\n",
              "      <th>allophone</th>\n",
              "      <th>mfcc_column_1</th>\n",
              "      <th>mfcc_column_2</th>\n",
              "      <th>mfcc_column_3</th>\n",
              "      <th>mfcc_column_4</th>\n",
              "      <th>mfcc_column_5</th>\n",
              "      <th>mfcc_column_6</th>\n",
              "      <th>mfcc_column_7</th>\n",
              "      <th>mfcc_column_8</th>\n",
              "      <th>mfcc_column_9</th>\n",
              "      <th>...</th>\n",
              "      <th>mfcc_column_14</th>\n",
              "      <th>mfcc_column_15</th>\n",
              "      <th>start_time</th>\n",
              "      <th>end_time</th>\n",
              "      <th>contexts</th>\n",
              "      <th>duration</th>\n",
              "      <th>min_F0</th>\n",
              "      <th>max_FO</th>\n",
              "      <th>semitones</th>\n",
              "      <th>class</th>\n",
              "    </tr>\n",
              "  </thead>\n",
              "  <tbody>\n",
              "    <tr>\n",
              "      <th>0</th>\n",
              "      <td>s</td>\n",
              "      <td>583.083191</td>\n",
              "      <td>-63.822926</td>\n",
              "      <td>71.923965</td>\n",
              "      <td>2.242034</td>\n",
              "      <td>4.479675</td>\n",
              "      <td>19.514883</td>\n",
              "      <td>8.306728</td>\n",
              "      <td>-4.097106</td>\n",
              "      <td>18.678019</td>\n",
              "      <td>...</td>\n",
              "      <td>8.777874</td>\n",
              "      <td>9.749883</td>\n",
              "      <td>0</td>\n",
              "      <td>5054</td>\n",
              "      <td>_t</td>\n",
              "      <td>0.114603</td>\n",
              "      <td>0.000000</td>\n",
              "      <td>0.000000</td>\n",
              "      <td>0.000000</td>\n",
              "      <td>0</td>\n",
              "    </tr>\n",
              "    <tr>\n",
              "      <th>1</th>\n",
              "      <td>t</td>\n",
              "      <td>270.680725</td>\n",
              "      <td>-13.653047</td>\n",
              "      <td>70.048401</td>\n",
              "      <td>10.641147</td>\n",
              "      <td>17.412857</td>\n",
              "      <td>22.894091</td>\n",
              "      <td>17.162796</td>\n",
              "      <td>0.370580</td>\n",
              "      <td>15.682331</td>\n",
              "      <td>...</td>\n",
              "      <td>9.033628</td>\n",
              "      <td>6.675737</td>\n",
              "      <td>5054</td>\n",
              "      <td>8634</td>\n",
              "      <td>so0</td>\n",
              "      <td>0.081179</td>\n",
              "      <td>0.000000</td>\n",
              "      <td>0.000000</td>\n",
              "      <td>0.000000</td>\n",
              "      <td>0</td>\n",
              "    </tr>\n",
              "    <tr>\n",
              "      <th>2</th>\n",
              "      <td>o0</td>\n",
              "      <td>650.281860</td>\n",
              "      <td>108.507423</td>\n",
              "      <td>37.581676</td>\n",
              "      <td>11.967784</td>\n",
              "      <td>2.862479</td>\n",
              "      <td>-11.214475</td>\n",
              "      <td>-8.454981</td>\n",
              "      <td>-17.967768</td>\n",
              "      <td>-18.073383</td>\n",
              "      <td>...</td>\n",
              "      <td>-15.992242</td>\n",
              "      <td>-10.446782</td>\n",
              "      <td>8634</td>\n",
              "      <td>13028</td>\n",
              "      <td>ti4</td>\n",
              "      <td>0.099637</td>\n",
              "      <td>0.000000</td>\n",
              "      <td>0.000000</td>\n",
              "      <td>0.000000</td>\n",
              "      <td>5</td>\n",
              "    </tr>\n",
              "    <tr>\n",
              "      <th>3</th>\n",
              "      <td>i4</td>\n",
              "      <td>652.626465</td>\n",
              "      <td>90.035904</td>\n",
              "      <td>44.965508</td>\n",
              "      <td>22.920303</td>\n",
              "      <td>28.867010</td>\n",
              "      <td>-38.033707</td>\n",
              "      <td>-10.763474</td>\n",
              "      <td>-21.758583</td>\n",
              "      <td>-7.254795</td>\n",
              "      <td>...</td>\n",
              "      <td>-5.301659</td>\n",
              "      <td>-16.386471</td>\n",
              "      <td>13028</td>\n",
              "      <td>16060</td>\n",
              "      <td>o0t</td>\n",
              "      <td>0.068753</td>\n",
              "      <td>0.007042</td>\n",
              "      <td>0.007812</td>\n",
              "      <td>1.796965</td>\n",
              "      <td>1</td>\n",
              "    </tr>\n",
              "    <tr>\n",
              "      <th>4</th>\n",
              "      <td>t</td>\n",
              "      <td>306.555908</td>\n",
              "      <td>148.725769</td>\n",
              "      <td>65.273651</td>\n",
              "      <td>35.357952</td>\n",
              "      <td>33.889015</td>\n",
              "      <td>-7.791605</td>\n",
              "      <td>-22.621460</td>\n",
              "      <td>-9.711348</td>\n",
              "      <td>2.903988</td>\n",
              "      <td>...</td>\n",
              "      <td>7.369506</td>\n",
              "      <td>-6.721673</td>\n",
              "      <td>16060</td>\n",
              "      <td>19808</td>\n",
              "      <td>i4e0</td>\n",
              "      <td>0.084989</td>\n",
              "      <td>0.005155</td>\n",
              "      <td>0.006849</td>\n",
              "      <td>4.921059</td>\n",
              "      <td>0</td>\n",
              "    </tr>\n",
              "    <tr>\n",
              "      <th>...</th>\n",
              "      <td>...</td>\n",
              "      <td>...</td>\n",
              "      <td>...</td>\n",
              "      <td>...</td>\n",
              "      <td>...</td>\n",
              "      <td>...</td>\n",
              "      <td>...</td>\n",
              "      <td>...</td>\n",
              "      <td>...</td>\n",
              "      <td>...</td>\n",
              "      <td>...</td>\n",
              "      <td>...</td>\n",
              "      <td>...</td>\n",
              "      <td>...</td>\n",
              "      <td>...</td>\n",
              "      <td>...</td>\n",
              "      <td>...</td>\n",
              "      <td>...</td>\n",
              "      <td>...</td>\n",
              "      <td>...</td>\n",
              "      <td>...</td>\n",
              "    </tr>\n",
              "    <tr>\n",
              "      <th>14263</th>\n",
              "      <td>sh</td>\n",
              "      <td>636.991882</td>\n",
              "      <td>-37.470600</td>\n",
              "      <td>-63.405842</td>\n",
              "      <td>40.645428</td>\n",
              "      <td>28.433060</td>\n",
              "      <td>21.634970</td>\n",
              "      <td>11.176726</td>\n",
              "      <td>13.551732</td>\n",
              "      <td>-10.684105</td>\n",
              "      <td>...</td>\n",
              "      <td>-2.755269</td>\n",
              "      <td>4.556554</td>\n",
              "      <td>148896</td>\n",
              "      <td>153756</td>\n",
              "      <td>fy0</td>\n",
              "      <td>0.110204</td>\n",
              "      <td>0.000000</td>\n",
              "      <td>0.000000</td>\n",
              "      <td>0.000000</td>\n",
              "      <td>0</td>\n",
              "    </tr>\n",
              "    <tr>\n",
              "      <th>14264</th>\n",
              "      <td>y0</td>\n",
              "      <td>622.149902</td>\n",
              "      <td>167.884399</td>\n",
              "      <td>19.169436</td>\n",
              "      <td>35.886940</td>\n",
              "      <td>35.487297</td>\n",
              "      <td>16.247778</td>\n",
              "      <td>2.174731</td>\n",
              "      <td>-19.264362</td>\n",
              "      <td>-7.512458</td>\n",
              "      <td>...</td>\n",
              "      <td>-8.217190</td>\n",
              "      <td>-12.312735</td>\n",
              "      <td>153756</td>\n",
              "      <td>157376</td>\n",
              "      <td>shr</td>\n",
              "      <td>0.082086</td>\n",
              "      <td>0.000000</td>\n",
              "      <td>0.000000</td>\n",
              "      <td>0.000000</td>\n",
              "      <td>4</td>\n",
              "    </tr>\n",
              "    <tr>\n",
              "      <th>14265</th>\n",
              "      <td>r</td>\n",
              "      <td>503.830811</td>\n",
              "      <td>143.493668</td>\n",
              "      <td>36.767147</td>\n",
              "      <td>23.205196</td>\n",
              "      <td>42.732155</td>\n",
              "      <td>8.866025</td>\n",
              "      <td>1.498493</td>\n",
              "      <td>6.241940</td>\n",
              "      <td>-12.179645</td>\n",
              "      <td>...</td>\n",
              "      <td>1.332692</td>\n",
              "      <td>-10.972754</td>\n",
              "      <td>157376</td>\n",
              "      <td>160668</td>\n",
              "      <td>y0m'</td>\n",
              "      <td>0.074649</td>\n",
              "      <td>0.001931</td>\n",
              "      <td>0.002404</td>\n",
              "      <td>3.796423</td>\n",
              "      <td>0</td>\n",
              "    </tr>\n",
              "    <tr>\n",
              "      <th>14266</th>\n",
              "      <td>m'</td>\n",
              "      <td>476.109222</td>\n",
              "      <td>141.980865</td>\n",
              "      <td>49.286743</td>\n",
              "      <td>16.367233</td>\n",
              "      <td>29.756903</td>\n",
              "      <td>26.242619</td>\n",
              "      <td>-0.138237</td>\n",
              "      <td>-1.659199</td>\n",
              "      <td>16.603298</td>\n",
              "      <td>...</td>\n",
              "      <td>8.860785</td>\n",
              "      <td>-10.408318</td>\n",
              "      <td>160668</td>\n",
              "      <td>164204</td>\n",
              "      <td>re4</td>\n",
              "      <td>0.080181</td>\n",
              "      <td>0.000797</td>\n",
              "      <td>0.001572</td>\n",
              "      <td>11.753264</td>\n",
              "      <td>0</td>\n",
              "    </tr>\n",
              "    <tr>\n",
              "      <th>14267</th>\n",
              "      <td>e4</td>\n",
              "      <td>505.914032</td>\n",
              "      <td>99.190582</td>\n",
              "      <td>3.653590</td>\n",
              "      <td>27.983324</td>\n",
              "      <td>44.741108</td>\n",
              "      <td>-10.816558</td>\n",
              "      <td>-23.216135</td>\n",
              "      <td>-15.775615</td>\n",
              "      <td>6.934996</td>\n",
              "      <td>...</td>\n",
              "      <td>3.874156</td>\n",
              "      <td>13.952275</td>\n",
              "      <td>164204</td>\n",
              "      <td>168368</td>\n",
              "      <td>m'</td>\n",
              "      <td>0.094422</td>\n",
              "      <td>0.001337</td>\n",
              "      <td>0.001618</td>\n",
              "      <td>3.305177</td>\n",
              "      <td>2</td>\n",
              "    </tr>\n",
              "  </tbody>\n",
              "</table>\n",
              "<p>14268 rows × 24 columns</p>\n",
              "</div>\n",
              "      <button class=\"colab-df-convert\" onclick=\"convertToInteractive('df-90bd0c68-2872-4770-859a-88898fb15026')\"\n",
              "              title=\"Convert this dataframe to an interactive table.\"\n",
              "              style=\"display:none;\">\n",
              "        \n",
              "  <svg xmlns=\"http://www.w3.org/2000/svg\" height=\"24px\"viewBox=\"0 0 24 24\"\n",
              "       width=\"24px\">\n",
              "    <path d=\"M0 0h24v24H0V0z\" fill=\"none\"/>\n",
              "    <path d=\"M18.56 5.44l.94 2.06.94-2.06 2.06-.94-2.06-.94-.94-2.06-.94 2.06-2.06.94zm-11 1L8.5 8.5l.94-2.06 2.06-.94-2.06-.94L8.5 2.5l-.94 2.06-2.06.94zm10 10l.94 2.06.94-2.06 2.06-.94-2.06-.94-.94-2.06-.94 2.06-2.06.94z\"/><path d=\"M17.41 7.96l-1.37-1.37c-.4-.4-.92-.59-1.43-.59-.52 0-1.04.2-1.43.59L10.3 9.45l-7.72 7.72c-.78.78-.78 2.05 0 2.83L4 21.41c.39.39.9.59 1.41.59.51 0 1.02-.2 1.41-.59l7.78-7.78 2.81-2.81c.8-.78.8-2.07 0-2.86zM5.41 20L4 18.59l7.72-7.72 1.47 1.35L5.41 20z\"/>\n",
              "  </svg>\n",
              "      </button>\n",
              "      \n",
              "  <style>\n",
              "    .colab-df-container {\n",
              "      display:flex;\n",
              "      flex-wrap:wrap;\n",
              "      gap: 12px;\n",
              "    }\n",
              "\n",
              "    .colab-df-convert {\n",
              "      background-color: #E8F0FE;\n",
              "      border: none;\n",
              "      border-radius: 50%;\n",
              "      cursor: pointer;\n",
              "      display: none;\n",
              "      fill: #1967D2;\n",
              "      height: 32px;\n",
              "      padding: 0 0 0 0;\n",
              "      width: 32px;\n",
              "    }\n",
              "\n",
              "    .colab-df-convert:hover {\n",
              "      background-color: #E2EBFA;\n",
              "      box-shadow: 0px 1px 2px rgba(60, 64, 67, 0.3), 0px 1px 3px 1px rgba(60, 64, 67, 0.15);\n",
              "      fill: #174EA6;\n",
              "    }\n",
              "\n",
              "    [theme=dark] .colab-df-convert {\n",
              "      background-color: #3B4455;\n",
              "      fill: #D2E3FC;\n",
              "    }\n",
              "\n",
              "    [theme=dark] .colab-df-convert:hover {\n",
              "      background-color: #434B5C;\n",
              "      box-shadow: 0px 1px 3px 1px rgba(0, 0, 0, 0.15);\n",
              "      filter: drop-shadow(0px 1px 2px rgba(0, 0, 0, 0.3));\n",
              "      fill: #FFFFFF;\n",
              "    }\n",
              "  </style>\n",
              "\n",
              "      <script>\n",
              "        const buttonEl =\n",
              "          document.querySelector('#df-90bd0c68-2872-4770-859a-88898fb15026 button.colab-df-convert');\n",
              "        buttonEl.style.display =\n",
              "          google.colab.kernel.accessAllowed ? 'block' : 'none';\n",
              "\n",
              "        async function convertToInteractive(key) {\n",
              "          const element = document.querySelector('#df-90bd0c68-2872-4770-859a-88898fb15026');\n",
              "          const dataTable =\n",
              "            await google.colab.kernel.invokeFunction('convertToInteractive',\n",
              "                                                     [key], {});\n",
              "          if (!dataTable) return;\n",
              "\n",
              "          const docLinkHtml = 'Like what you see? Visit the ' +\n",
              "            '<a target=\"_blank\" href=https://colab.research.google.com/notebooks/data_table.ipynb>data table notebook</a>'\n",
              "            + ' to learn more about interactive tables.';\n",
              "          element.innerHTML = '';\n",
              "          dataTable['output_type'] = 'display_data';\n",
              "          await google.colab.output.renderOutput(dataTable, element);\n",
              "          const docLink = document.createElement('div');\n",
              "          docLink.innerHTML = docLinkHtml;\n",
              "          element.appendChild(docLink);\n",
              "        }\n",
              "      </script>\n",
              "    </div>\n",
              "  </div>\n",
              "  "
            ]
          },
          "metadata": {}
        }
      ],
      "source": [
        "# создаем датафрейм для коэффициентов mfcc, потом добавим туда другие признаки\n",
        "result = []\n",
        "for item in mfcc_values:\n",
        "    allophone, array = item\n",
        "    mean_row = np.mean(array, axis=1)\n",
        "    mean_values = mean_row.tolist() + [0] * (10 - len(mean_row))\n",
        "    result.append([allophone] + mean_values)\n",
        "\n",
        "columns = ['allophone'] + [f'mfcc_column_{i}' for i in range(1, 16)]\n",
        "df = pd.DataFrame(result, columns=columns)\n",
        "\n",
        "df['start_time'] = start_time\n",
        "df['end_time'] = end_time\n",
        "df[\"contexts\"] = contexts\n",
        "df[\"duration\"] = duration\n",
        "df[\"min_F0\"] = minF0\n",
        "df[\"max_FO\"] = maxF0\n",
        "df[\"semitones\"] = semitones\n",
        "df[\"class\"] = class_val\n",
        "\n",
        "display(df)"
      ]
    },
    {
      "cell_type": "markdown",
      "source": [
        "###4. Подготовка данных\n"
      ],
      "metadata": {
        "id": "LQjy2wXcx1jB"
      }
    },
    {
      "cell_type": "code",
      "source": [
        "# преобразование контекста в численные значения\n",
        "le = LabelEncoder()\n",
        "df['contexts'] = le.fit_transform(df['contexts'])"
      ],
      "metadata": {
        "id": "OphqF6SsA3zD"
      },
      "execution_count": null,
      "outputs": []
    },
    {
      "cell_type": "code",
      "source": [
        "# проверим, что столбец contexts изменился\n",
        "df['contexts']"
      ],
      "metadata": {
        "colab": {
          "base_uri": "https://localhost:8080/"
        },
        "id": "NYZfFxu3a7MH",
        "outputId": "59eff1f8-865c-4263-9332-026458cfea18"
      },
      "execution_count": null,
      "outputs": [
        {
          "output_type": "execute_result",
          "data": {
            "text/plain": [
              "0          23\n",
              "1        1397\n",
              "2        1472\n",
              "3        1080\n",
              "4         655\n",
              "         ... \n",
              "14263     511\n",
              "14264    1376\n",
              "14265    1696\n",
              "14266    1250\n",
              "14267     892\n",
              "Name: contexts, Length: 14268, dtype: int64"
            ]
          },
          "metadata": {},
          "execution_count": 19
        }
      ]
    },
    {
      "cell_type": "code",
      "source": [
        "# разделение на фичи и таргеты\n",
        "X_data = df.drop(['allophone', 'class'], axis=1)\n",
        "Y_data = df['class']\n",
        "\n",
        "# # разделение на тренировочные и тестовые данные\n",
        "X_train, X_test, Y_train, Y_test = train_test_split(X_data, Y_data, test_size=0.2, random_state=42)\n",
        "\n",
        "# нормализация значений\n",
        "scaler = MinMaxScaler()\n",
        "X_train = scaler.fit_transform(X_train)\n",
        "X_test = scaler.transform(X_test)"
      ],
      "metadata": {
        "id": "fSxK5Nf7yPgg"
      },
      "execution_count": null,
      "outputs": []
    },
    {
      "cell_type": "code",
      "source": [
        "# количество нейронов на выходном слове должно быть равно\n",
        "len(Y_data.unique())"
      ],
      "metadata": {
        "colab": {
          "base_uri": "https://localhost:8080/"
        },
        "id": "qZexwQ8_A-rF",
        "outputId": "e0e58610-c7a1-41c2-e0a5-dafd3c27e1c6"
      },
      "execution_count": null,
      "outputs": [
        {
          "output_type": "execute_result",
          "data": {
            "text/plain": [
              "7"
            ]
          },
          "metadata": {},
          "execution_count": 21
        }
      ]
    },
    {
      "cell_type": "markdown",
      "source": [
        "###5. Написание архитектуры и обучение модели."
      ],
      "metadata": {
        "id": "-EmvJQ-eBd4p"
      }
    },
    {
      "cell_type": "code",
      "source": [
        "# построение модели\n",
        "model = Sequential()\n",
        "\n",
        "# входной слой\n",
        "model.add(Dense(512, input_dim=X_train.shape[1], activation='sigmoid'))\n",
        "model.add(BatchNormalization())\n",
        "model.add(Dropout(0.3))\n",
        "\n",
        "# скрытый слой\n",
        "model.add(Dense(512, activation='sigmoid'))\n",
        "model.add(BatchNormalization())\n",
        "model.add(Dropout(0.3))\n",
        "\n",
        "# скрытый слой\n",
        "model.add(Dense(256, activation='relu'))\n",
        "model.add(BatchNormalization())\n",
        "model.add(Dropout(0.3))\n",
        "\n",
        "# выходной слой\n",
        "# количество нейронов на выходе равно количеству классов\n",
        "model.add(Dense(7, activation='softmax'))\n",
        "\n",
        "# компиляция модели\n",
        "model.compile(loss='sparse_categorical_crossentropy', optimizer='adam', metrics=['accuracy'])\n",
        "\n",
        "# Callbacks\n",
        "early_stopping = EarlyStopping(monitor='val_loss', patience=10)"
      ],
      "metadata": {
        "id": "bXBUsspvDAe3"
      },
      "execution_count": null,
      "outputs": []
    },
    {
      "cell_type": "code",
      "source": [
        "print(model.summary())"
      ],
      "metadata": {
        "colab": {
          "base_uri": "https://localhost:8080/"
        },
        "id": "mj0dzu3rHQ0Q",
        "outputId": "0555815e-1f8f-45f4-e045-23c7b79e3b26"
      },
      "execution_count": null,
      "outputs": [
        {
          "output_type": "stream",
          "name": "stdout",
          "text": [
            "Model: \"sequential\"\n",
            "_________________________________________________________________\n",
            " Layer (type)                Output Shape              Param #   \n",
            "=================================================================\n",
            " dense (Dense)               (None, 512)               11776     \n",
            "                                                                 \n",
            " batch_normalization (BatchN  (None, 512)              2048      \n",
            " ormalization)                                                   \n",
            "                                                                 \n",
            " dropout (Dropout)           (None, 512)               0         \n",
            "                                                                 \n",
            " dense_1 (Dense)             (None, 512)               262656    \n",
            "                                                                 \n",
            " batch_normalization_1 (Batc  (None, 512)              2048      \n",
            " hNormalization)                                                 \n",
            "                                                                 \n",
            " dropout_1 (Dropout)         (None, 512)               0         \n",
            "                                                                 \n",
            " dense_2 (Dense)             (None, 256)               131328    \n",
            "                                                                 \n",
            " batch_normalization_2 (Batc  (None, 256)              1024      \n",
            " hNormalization)                                                 \n",
            "                                                                 \n",
            " dropout_2 (Dropout)         (None, 256)               0         \n",
            "                                                                 \n",
            " dense_3 (Dense)             (None, 7)                 1799      \n",
            "                                                                 \n",
            "=================================================================\n",
            "Total params: 412,679\n",
            "Trainable params: 410,119\n",
            "Non-trainable params: 2,560\n",
            "_________________________________________________________________\n",
            "None\n"
          ]
        }
      ]
    },
    {
      "cell_type": "code",
      "source": [
        "# обучение модели\n",
        "history = model.fit(X_train, Y_train, epochs=100, batch_size=256, validation_data=(X_test, Y_test),\n",
        "          callbacks=[early_stopping])"
      ],
      "metadata": {
        "colab": {
          "base_uri": "https://localhost:8080/"
        },
        "id": "mUUSdPxEZ8Kx",
        "outputId": "67ad565f-541c-4a67-fb42-9614be0028c6"
      },
      "execution_count": null,
      "outputs": [
        {
          "output_type": "stream",
          "name": "stdout",
          "text": [
            "Epoch 1/100\n",
            "45/45 [==============================] - 4s 43ms/step - loss: 1.1252 - accuracy: 0.6640 - val_loss: 1.5439 - val_accuracy: 0.5683\n",
            "Epoch 2/100\n",
            "45/45 [==============================] - 2s 38ms/step - loss: 0.8052 - accuracy: 0.7453 - val_loss: 1.4775 - val_accuracy: 0.5683\n",
            "Epoch 3/100\n",
            "45/45 [==============================] - 2s 38ms/step - loss: 0.7420 - accuracy: 0.7591 - val_loss: 1.5230 - val_accuracy: 0.5683\n",
            "Epoch 4/100\n",
            "45/45 [==============================] - 3s 62ms/step - loss: 0.6947 - accuracy: 0.7714 - val_loss: 1.5544 - val_accuracy: 0.5683\n",
            "Epoch 5/100\n",
            "45/45 [==============================] - 3s 69ms/step - loss: 0.6600 - accuracy: 0.7783 - val_loss: 1.5649 - val_accuracy: 0.5683\n",
            "Epoch 6/100\n",
            "45/45 [==============================] - 2s 44ms/step - loss: 0.6369 - accuracy: 0.7831 - val_loss: 1.5550 - val_accuracy: 0.5736\n",
            "Epoch 7/100\n",
            "45/45 [==============================] - 2s 38ms/step - loss: 0.6181 - accuracy: 0.7817 - val_loss: 1.4736 - val_accuracy: 0.6174\n",
            "Epoch 8/100\n",
            "45/45 [==============================] - 2s 37ms/step - loss: 0.6052 - accuracy: 0.7862 - val_loss: 1.3772 - val_accuracy: 0.6149\n",
            "Epoch 9/100\n",
            "45/45 [==============================] - 2s 36ms/step - loss: 0.5949 - accuracy: 0.7925 - val_loss: 1.2992 - val_accuracy: 0.5722\n",
            "Epoch 10/100\n",
            "45/45 [==============================] - 2s 38ms/step - loss: 0.5787 - accuracy: 0.7967 - val_loss: 1.1322 - val_accuracy: 0.6174\n",
            "Epoch 11/100\n",
            "45/45 [==============================] - 2s 36ms/step - loss: 0.5713 - accuracy: 0.7976 - val_loss: 1.0421 - val_accuracy: 0.6636\n",
            "Epoch 12/100\n",
            "45/45 [==============================] - 2s 52ms/step - loss: 0.5686 - accuracy: 0.7986 - val_loss: 0.9175 - val_accuracy: 0.6955\n",
            "Epoch 13/100\n",
            "45/45 [==============================] - 3s 62ms/step - loss: 0.5570 - accuracy: 0.8024 - val_loss: 0.7995 - val_accuracy: 0.7383\n",
            "Epoch 14/100\n",
            "45/45 [==============================] - 2s 40ms/step - loss: 0.5590 - accuracy: 0.7997 - val_loss: 0.7221 - val_accuracy: 0.7600\n",
            "Epoch 15/100\n",
            "45/45 [==============================] - 2s 38ms/step - loss: 0.5459 - accuracy: 0.8049 - val_loss: 0.6729 - val_accuracy: 0.7652\n",
            "Epoch 16/100\n",
            "45/45 [==============================] - 2s 37ms/step - loss: 0.5399 - accuracy: 0.8112 - val_loss: 0.6382 - val_accuracy: 0.7761\n",
            "Epoch 17/100\n",
            "45/45 [==============================] - 2s 53ms/step - loss: 0.5463 - accuracy: 0.8048 - val_loss: 0.5959 - val_accuracy: 0.7859\n",
            "Epoch 18/100\n",
            "45/45 [==============================] - 3s 78ms/step - loss: 0.5319 - accuracy: 0.8091 - val_loss: 0.5872 - val_accuracy: 0.7898\n",
            "Epoch 19/100\n",
            "45/45 [==============================] - 5s 105ms/step - loss: 0.5236 - accuracy: 0.8149 - val_loss: 0.5744 - val_accuracy: 0.7922\n",
            "Epoch 20/100\n",
            "45/45 [==============================] - 2s 37ms/step - loss: 0.5256 - accuracy: 0.8135 - val_loss: 0.5609 - val_accuracy: 0.7954\n",
            "Epoch 21/100\n",
            "45/45 [==============================] - 2s 38ms/step - loss: 0.5286 - accuracy: 0.8141 - val_loss: 0.5775 - val_accuracy: 0.7929\n",
            "Epoch 22/100\n",
            "45/45 [==============================] - 2s 39ms/step - loss: 0.5218 - accuracy: 0.8165 - val_loss: 0.5994 - val_accuracy: 0.7842\n",
            "Epoch 23/100\n",
            "45/45 [==============================] - 2s 38ms/step - loss: 0.5215 - accuracy: 0.8159 - val_loss: 0.5778 - val_accuracy: 0.7919\n",
            "Epoch 24/100\n",
            "45/45 [==============================] - 2s 37ms/step - loss: 0.5194 - accuracy: 0.8114 - val_loss: 0.5947 - val_accuracy: 0.7870\n",
            "Epoch 25/100\n",
            "45/45 [==============================] - 2s 42ms/step - loss: 0.5137 - accuracy: 0.8172 - val_loss: 0.6161 - val_accuracy: 0.7810\n",
            "Epoch 26/100\n",
            "45/45 [==============================] - 3s 63ms/step - loss: 0.5148 - accuracy: 0.8167 - val_loss: 0.5542 - val_accuracy: 0.8024\n",
            "Epoch 27/100\n",
            "45/45 [==============================] - 3s 68ms/step - loss: 0.5106 - accuracy: 0.8139 - val_loss: 0.5743 - val_accuracy: 0.7908\n",
            "Epoch 28/100\n",
            "45/45 [==============================] - 4s 96ms/step - loss: 0.5126 - accuracy: 0.8184 - val_loss: 0.5773 - val_accuracy: 0.7898\n",
            "Epoch 29/100\n",
            "45/45 [==============================] - 3s 56ms/step - loss: 0.5099 - accuracy: 0.8164 - val_loss: 0.5761 - val_accuracy: 0.7919\n",
            "Epoch 30/100\n",
            "45/45 [==============================] - 2s 35ms/step - loss: 0.5033 - accuracy: 0.8196 - val_loss: 0.5612 - val_accuracy: 0.8006\n",
            "Epoch 31/100\n",
            "45/45 [==============================] - 2s 37ms/step - loss: 0.5030 - accuracy: 0.8187 - val_loss: 0.5664 - val_accuracy: 0.7996\n",
            "Epoch 32/100\n",
            "45/45 [==============================] - 4s 87ms/step - loss: 0.4986 - accuracy: 0.8221 - val_loss: 0.5650 - val_accuracy: 0.7996\n",
            "Epoch 33/100\n",
            "45/45 [==============================] - 3s 76ms/step - loss: 0.5016 - accuracy: 0.8171 - val_loss: 0.5380 - val_accuracy: 0.8045\n",
            "Epoch 34/100\n",
            "45/45 [==============================] - 4s 85ms/step - loss: 0.4994 - accuracy: 0.8213 - val_loss: 0.5384 - val_accuracy: 0.8059\n",
            "Epoch 35/100\n",
            "45/45 [==============================] - 4s 86ms/step - loss: 0.5007 - accuracy: 0.8208 - val_loss: 0.5281 - val_accuracy: 0.8080\n",
            "Epoch 36/100\n",
            "45/45 [==============================] - 3s 67ms/step - loss: 0.4868 - accuracy: 0.8275 - val_loss: 0.5393 - val_accuracy: 0.8031\n",
            "Epoch 37/100\n",
            "45/45 [==============================] - 3s 63ms/step - loss: 0.4920 - accuracy: 0.8217 - val_loss: 0.5541 - val_accuracy: 0.8003\n",
            "Epoch 38/100\n",
            "45/45 [==============================] - 2s 37ms/step - loss: 0.4911 - accuracy: 0.8219 - val_loss: 0.5527 - val_accuracy: 0.7999\n",
            "Epoch 39/100\n",
            "45/45 [==============================] - 2s 38ms/step - loss: 0.4939 - accuracy: 0.8239 - val_loss: 0.5290 - val_accuracy: 0.8101\n",
            "Epoch 40/100\n",
            "45/45 [==============================] - 2s 37ms/step - loss: 0.4847 - accuracy: 0.8250 - val_loss: 0.5483 - val_accuracy: 0.8027\n",
            "Epoch 41/100\n",
            "45/45 [==============================] - 2s 38ms/step - loss: 0.4887 - accuracy: 0.8241 - val_loss: 0.5221 - val_accuracy: 0.8136\n",
            "Epoch 42/100\n",
            "45/45 [==============================] - 2s 38ms/step - loss: 0.4822 - accuracy: 0.8264 - val_loss: 0.5298 - val_accuracy: 0.8073\n",
            "Epoch 43/100\n",
            "45/45 [==============================] - 2s 43ms/step - loss: 0.4817 - accuracy: 0.8270 - val_loss: 0.5410 - val_accuracy: 0.8034\n",
            "Epoch 44/100\n",
            "45/45 [==============================] - 3s 59ms/step - loss: 0.4797 - accuracy: 0.8295 - val_loss: 0.5223 - val_accuracy: 0.8083\n",
            "Epoch 45/100\n",
            "45/45 [==============================] - 2s 53ms/step - loss: 0.4757 - accuracy: 0.8294 - val_loss: 0.5211 - val_accuracy: 0.8108\n",
            "Epoch 46/100\n",
            "45/45 [==============================] - 2s 38ms/step - loss: 0.4723 - accuracy: 0.8306 - val_loss: 0.5190 - val_accuracy: 0.8125\n",
            "Epoch 47/100\n",
            "45/45 [==============================] - 2s 39ms/step - loss: 0.4715 - accuracy: 0.8287 - val_loss: 0.5256 - val_accuracy: 0.8146\n",
            "Epoch 48/100\n",
            "45/45 [==============================] - 2s 35ms/step - loss: 0.4771 - accuracy: 0.8250 - val_loss: 0.5320 - val_accuracy: 0.8076\n",
            "Epoch 49/100\n",
            "45/45 [==============================] - 2s 37ms/step - loss: 0.4638 - accuracy: 0.8319 - val_loss: 0.5173 - val_accuracy: 0.8101\n",
            "Epoch 50/100\n",
            "45/45 [==============================] - 2s 39ms/step - loss: 0.4687 - accuracy: 0.8322 - val_loss: 0.5200 - val_accuracy: 0.8069\n",
            "Epoch 51/100\n",
            "45/45 [==============================] - 2s 51ms/step - loss: 0.4681 - accuracy: 0.8290 - val_loss: 0.5210 - val_accuracy: 0.8059\n",
            "Epoch 52/100\n",
            "45/45 [==============================] - 4s 79ms/step - loss: 0.4721 - accuracy: 0.8295 - val_loss: 0.5268 - val_accuracy: 0.8104\n",
            "Epoch 53/100\n",
            "45/45 [==============================] - 3s 56ms/step - loss: 0.4654 - accuracy: 0.8340 - val_loss: 0.5139 - val_accuracy: 0.8118\n",
            "Epoch 54/100\n",
            "45/45 [==============================] - 2s 51ms/step - loss: 0.4644 - accuracy: 0.8270 - val_loss: 0.5173 - val_accuracy: 0.8034\n",
            "Epoch 55/100\n",
            "45/45 [==============================] - 3s 66ms/step - loss: 0.4579 - accuracy: 0.8346 - val_loss: 0.5192 - val_accuracy: 0.8090\n",
            "Epoch 56/100\n",
            "45/45 [==============================] - 2s 38ms/step - loss: 0.4575 - accuracy: 0.8351 - val_loss: 0.5231 - val_accuracy: 0.8132\n",
            "Epoch 57/100\n",
            "45/45 [==============================] - 2s 47ms/step - loss: 0.4619 - accuracy: 0.8328 - val_loss: 0.5151 - val_accuracy: 0.8167\n",
            "Epoch 58/100\n",
            "45/45 [==============================] - 4s 93ms/step - loss: 0.4553 - accuracy: 0.8363 - val_loss: 0.5120 - val_accuracy: 0.8139\n",
            "Epoch 59/100\n",
            "45/45 [==============================] - 4s 81ms/step - loss: 0.4586 - accuracy: 0.8362 - val_loss: 0.5259 - val_accuracy: 0.8122\n",
            "Epoch 60/100\n",
            "45/45 [==============================] - 2s 42ms/step - loss: 0.4490 - accuracy: 0.8395 - val_loss: 0.5151 - val_accuracy: 0.8164\n",
            "Epoch 61/100\n",
            "45/45 [==============================] - 2s 37ms/step - loss: 0.4531 - accuracy: 0.8353 - val_loss: 0.5254 - val_accuracy: 0.8125\n",
            "Epoch 62/100\n",
            "45/45 [==============================] - 2s 37ms/step - loss: 0.4504 - accuracy: 0.8375 - val_loss: 0.5191 - val_accuracy: 0.8132\n",
            "Epoch 63/100\n",
            "45/45 [==============================] - 2s 45ms/step - loss: 0.4466 - accuracy: 0.8376 - val_loss: 0.5196 - val_accuracy: 0.8094\n",
            "Epoch 64/100\n",
            "45/45 [==============================] - 4s 83ms/step - loss: 0.4436 - accuracy: 0.8394 - val_loss: 0.5067 - val_accuracy: 0.8181\n",
            "Epoch 65/100\n",
            "45/45 [==============================] - 3s 75ms/step - loss: 0.4432 - accuracy: 0.8402 - val_loss: 0.5121 - val_accuracy: 0.8139\n",
            "Epoch 66/100\n",
            "45/45 [==============================] - 3s 67ms/step - loss: 0.4372 - accuracy: 0.8423 - val_loss: 0.5075 - val_accuracy: 0.8104\n",
            "Epoch 67/100\n",
            "45/45 [==============================] - 3s 75ms/step - loss: 0.4409 - accuracy: 0.8385 - val_loss: 0.5414 - val_accuracy: 0.8069\n",
            "Epoch 68/100\n",
            "45/45 [==============================] - 4s 93ms/step - loss: 0.4370 - accuracy: 0.8408 - val_loss: 0.5143 - val_accuracy: 0.8104\n",
            "Epoch 69/100\n",
            "45/45 [==============================] - 4s 87ms/step - loss: 0.4272 - accuracy: 0.8441 - val_loss: 0.5325 - val_accuracy: 0.8160\n",
            "Epoch 70/100\n",
            "45/45 [==============================] - 3s 61ms/step - loss: 0.4360 - accuracy: 0.8392 - val_loss: 0.5289 - val_accuracy: 0.8108\n",
            "Epoch 71/100\n",
            "45/45 [==============================] - 2s 39ms/step - loss: 0.4320 - accuracy: 0.8454 - val_loss: 0.5187 - val_accuracy: 0.8178\n",
            "Epoch 72/100\n",
            "45/45 [==============================] - 2s 38ms/step - loss: 0.4227 - accuracy: 0.8449 - val_loss: 0.5036 - val_accuracy: 0.8115\n",
            "Epoch 73/100\n",
            "45/45 [==============================] - 2s 39ms/step - loss: 0.4291 - accuracy: 0.8439 - val_loss: 0.5168 - val_accuracy: 0.8160\n",
            "Epoch 74/100\n",
            "45/45 [==============================] - 2s 45ms/step - loss: 0.4198 - accuracy: 0.8457 - val_loss: 0.5127 - val_accuracy: 0.8153\n",
            "Epoch 75/100\n",
            "45/45 [==============================] - 3s 59ms/step - loss: 0.4230 - accuracy: 0.8486 - val_loss: 0.5085 - val_accuracy: 0.8164\n",
            "Epoch 76/100\n",
            "45/45 [==============================] - 2s 51ms/step - loss: 0.4188 - accuracy: 0.8455 - val_loss: 0.5202 - val_accuracy: 0.8104\n",
            "Epoch 77/100\n",
            "45/45 [==============================] - 2s 38ms/step - loss: 0.4133 - accuracy: 0.8499 - val_loss: 0.5165 - val_accuracy: 0.8164\n",
            "Epoch 78/100\n",
            "45/45 [==============================] - 2s 39ms/step - loss: 0.4078 - accuracy: 0.8504 - val_loss: 0.5090 - val_accuracy: 0.8157\n",
            "Epoch 79/100\n",
            "45/45 [==============================] - 2s 44ms/step - loss: 0.4082 - accuracy: 0.8549 - val_loss: 0.5089 - val_accuracy: 0.8210\n",
            "Epoch 80/100\n",
            "45/45 [==============================] - 3s 59ms/step - loss: 0.4171 - accuracy: 0.8476 - val_loss: 0.5027 - val_accuracy: 0.8157\n",
            "Epoch 81/100\n",
            "45/45 [==============================] - 2s 51ms/step - loss: 0.3948 - accuracy: 0.8559 - val_loss: 0.5331 - val_accuracy: 0.8146\n",
            "Epoch 82/100\n",
            "45/45 [==============================] - 3s 59ms/step - loss: 0.3997 - accuracy: 0.8515 - val_loss: 0.5138 - val_accuracy: 0.8196\n",
            "Epoch 83/100\n",
            "45/45 [==============================] - 2s 50ms/step - loss: 0.3973 - accuracy: 0.8557 - val_loss: 0.5060 - val_accuracy: 0.8167\n",
            "Epoch 84/100\n",
            "45/45 [==============================] - 2s 37ms/step - loss: 0.3931 - accuracy: 0.8546 - val_loss: 0.5195 - val_accuracy: 0.8150\n",
            "Epoch 85/100\n",
            "45/45 [==============================] - 2s 37ms/step - loss: 0.4069 - accuracy: 0.8539 - val_loss: 0.5056 - val_accuracy: 0.8167\n",
            "Epoch 86/100\n",
            "45/45 [==============================] - 2s 39ms/step - loss: 0.3972 - accuracy: 0.8557 - val_loss: 0.5044 - val_accuracy: 0.8160\n",
            "Epoch 87/100\n",
            "45/45 [==============================] - 2s 38ms/step - loss: 0.3885 - accuracy: 0.8544 - val_loss: 0.5158 - val_accuracy: 0.8150\n",
            "Epoch 88/100\n",
            "45/45 [==============================] - 2s 39ms/step - loss: 0.3876 - accuracy: 0.8561 - val_loss: 0.5045 - val_accuracy: 0.8213\n",
            "Epoch 89/100\n",
            "45/45 [==============================] - 2s 52ms/step - loss: 0.3886 - accuracy: 0.8560 - val_loss: 0.5078 - val_accuracy: 0.8224\n",
            "Epoch 90/100\n",
            "45/45 [==============================] - 3s 61ms/step - loss: 0.3857 - accuracy: 0.8578 - val_loss: 0.5129 - val_accuracy: 0.8171\n"
          ]
        }
      ]
    },
    {
      "cell_type": "code",
      "source": [
        "model.save_weights('/content/drive/MyDrive/Базы/model_vowels_m.h5') # Сохраняем модель"
      ],
      "metadata": {
        "id": "gZl1FC2GdHk1"
      },
      "execution_count": null,
      "outputs": []
    },
    {
      "cell_type": "code",
      "source": [
        "model.load_weights('/content/drive/MyDrive/Базы/model_vowels.h5') # Загружаем модель"
      ],
      "metadata": {
        "id": "Ly5ov8Rgda2H"
      },
      "execution_count": null,
      "outputs": []
    },
    {
      "cell_type": "markdown",
      "source": [
        "###6. Оценка модели. Описание полученных результатов."
      ],
      "metadata": {
        "id": "Ye5dvB6cBmwK"
      }
    },
    {
      "cell_type": "code",
      "source": [
        "# Проверка модели на тестовой выборке\n",
        "test_loss, test_accuracy = model.evaluate(X_test, Y_test)\n",
        "print(f'Test Loss: {test_loss}, Test Accuracy: {test_accuracy}')"
      ],
      "metadata": {
        "colab": {
          "base_uri": "https://localhost:8080/"
        },
        "id": "Y37nAj6IeinP",
        "outputId": "329a43cf-82ce-4622-d95b-120782dd7027"
      },
      "execution_count": null,
      "outputs": [
        {
          "output_type": "stream",
          "name": "stdout",
          "text": [
            "90/90 [==============================] - 1s 6ms/step - loss: 0.5129 - accuracy: 0.8171\n",
            "Test Loss: 0.51287442445755, Test Accuracy: 0.8170987963676453\n"
          ]
        }
      ]
    },
    {
      "cell_type": "code",
      "source": [
        "print(f'Размер тренировочной выборки - {len(X_train)} аллофонов.\\nРазмер тестовой выборки - {len(X_test)} аллофона.')"
      ],
      "metadata": {
        "colab": {
          "base_uri": "https://localhost:8080/"
        },
        "id": "vEB7QHkgMrlS",
        "outputId": "cce34b0b-b852-4ea6-b8e4-db79eeebb157"
      },
      "execution_count": null,
      "outputs": [
        {
          "output_type": "stream",
          "name": "stdout",
          "text": [
            "Размер тренировочной выборки - 11414 аллофонов.\n",
            "Размер тестовой выборки - 2854 аллофона.\n"
          ]
        }
      ]
    },
    {
      "cell_type": "code",
      "source": [
        "# выведем график функции ошибки для обучающей и тестовой выборки\n",
        "plt.figure(figsize = (8, 3))\n",
        "plt.plot(history.history['loss'],\n",
        "         label='Значение ошибки на обучающем наборе')\n",
        "plt.plot(history.history['val_loss'],\n",
        "         label='Значение ошибки на проверочном наборе')\n",
        "plt.xlabel('Эпоха обучения')\n",
        "plt.ylabel('Значение ошибки')\n",
        "plt.legend()\n",
        "plt.show()"
      ],
      "metadata": {
        "colab": {
          "base_uri": "https://localhost:8080/",
          "height": 312
        },
        "id": "D_Err_8OXmbJ",
        "outputId": "5ed3f3e7-9d8a-4413-fff9-dd75db7f7576"
      },
      "execution_count": null,
      "outputs": [
        {
          "output_type": "display_data",
          "data": {
            "text/plain": [
              "<Figure size 800x300 with 1 Axes>"
            ],
            "image/png": "[encoded data removed]"
          },
          "metadata": {}
        }
      ]
    },
    {
      "cell_type": "code",
      "source": [
        "# выведем график точности предсказаний на обучающем и тестовом наборе\n",
        "plt.figure(figsize = (8, 3))\n",
        "plt.plot(history.history['accuracy'],\n",
        "         label='Доля верных ответов на обучающем наборе')\n",
        "plt.plot(history.history['val_accuracy'],\n",
        "         label='Доля верных ответов на проверочном наборе')\n",
        "plt.xlabel('Эпоха обучения')\n",
        "plt.ylabel('Доля верных ответов')\n",
        "plt.legend()\n",
        "plt.show()"
      ],
      "metadata": {
        "colab": {
          "base_uri": "https://localhost:8080/",
          "height": 311
        },
        "id": "32JL0nGIYhGU",
        "outputId": "1108d084-66de-4705-ba2d-b491bb2b19a9"
      },
      "execution_count": null,
      "outputs": [
        {
          "output_type": "display_data",
          "data": {
            "text/plain": [
              "<Figure size 800x300 with 1 Axes>"
            ],
            "image/png": "[encoded data removed]"
          },
          "metadata": {}
        }
      ]
    },
    {
      "cell_type": "code",
      "source": [
        "# построим матрицу ошибок\n",
        "#\n",
        "Y_test_pred = model.predict(X_test)\n",
        "Y_test_pred = np.argmax(Y_test_pred, axis=1)\n",
        "\n",
        "# Создание матрицы ошибок\n",
        "cm = confusion_matrix(Y_test, Y_test_pred)\n",
        "\n",
        "# Преобразование значений матрицы ошибок в процентное соотношение\n",
        "cm_percent = cm.astype('float') / cm.sum(axis=1)[:, np.newaxis]\n",
        "\n",
        "plt.figure(figsize=(8, 6))\n",
        "sns.heatmap(cm_percent, annot=True, fmt=\".1%\", cmap='binary')\n",
        "\n",
        "# Получение и подписывание классов\n",
        "class_names = np.unique(Y_data)\n",
        "tick_marks = np.arange(len(class_names))\n",
        "plt.xticks(tick_marks + 0.5, class_names)\n",
        "plt.yticks(tick_marks + 0.5, class_names)\n",
        "\n",
        "# Добавление подписей к осям\n",
        "plt.xlabel('Predicted label')\n",
        "plt.ylabel('True label')\n",
        "plt.title('Confusion Matrix')\n",
        "\n",
        "# Показать график\n",
        "plt.show()"
      ],
      "metadata": {
        "colab": {
          "base_uri": "https://localhost:8080/",
          "height": 581
        },
        "id": "pqfHK_1TYqHu",
        "outputId": "96df673d-eee0-43a7-9489-09eacc4a9df2"
      },
      "execution_count": null,
      "outputs": [
        {
          "output_type": "stream",
          "name": "stdout",
          "text": [
            "90/90 [==============================] - 1s 6ms/step\n"
          ]
        },
        {
          "output_type": "display_data",
          "data": {
            "text/plain": [
              "<Figure size 800x600 with 2 Axes>"
            ],
            "image/png": "[encoded data removed]"
          },
          "metadata": {}
        }
      ]
    },
    {
      "cell_type": "code",
      "source": [
        "# vowel_codes = {'i': 1, 'e': 2, 'a': 3, 'y': 4, 'o': 5,'u': 6}"
      ],
      "metadata": {
        "id": "qvrxRCa-bJr0"
      },
      "execution_count": null,
      "outputs": []
    },
    {
      "cell_type": "markdown",
      "source": [
        "Анализ контекстов\n"
      ],
      "metadata": {
        "id": "EfkNuLpGaRcI"
      }
    },
    {
      "cell_type": "code",
      "source": [
        "# восстановим контексты из закодированного вида\n",
        "restored_contexts = list(le.inverse_transform(df['contexts']))\n",
        "# print(restored_contexts[:10])\n",
        "print(f'В корпусе всего {len(restored_contexts)} контекстов')"
      ],
      "metadata": {
        "id": "a_jKnY3QMYIu",
        "colab": {
          "base_uri": "https://localhost:8080/"
        },
        "outputId": "7d599cf8-8746-400f-b028-0d46be1aaae4"
      },
      "execution_count": null,
      "outputs": [
        {
          "output_type": "stream",
          "name": "stdout",
          "text": [
            "['_t', 'so0', 'ti4', 'o0t', 'i4e0', 'tt', 'e0e4', \"tn'\", 'e4i1', \"n't\"]\n",
            "В корпусе всего 14268 контекстов\n"
          ]
        }
      ]
    },
    {
      "cell_type": "code",
      "source": [
        "# чтобы посмотреть, в каких местах ошибается модель, построим предсказание\n",
        "Y_pred = model.predict(X_data)"
      ],
      "metadata": {
        "colab": {
          "base_uri": "https://localhost:8080/"
        },
        "id": "V67mkIF-gO6r",
        "outputId": "e8342baf-5186-4ca2-a1f8-6645ea2ab0f2"
      },
      "execution_count": null,
      "outputs": [
        {
          "output_type": "stream",
          "name": "stdout",
          "text": [
            "446/446 [==============================] - 1s 2ms/step\n"
          ]
        }
      ]
    },
    {
      "cell_type": "code",
      "source": [
        "# посчитаем количество ошибочных контекстов\n",
        "errors = []\n",
        "for i, x in enumerate(Y_pred):\n",
        "  predicted_value = np.argmax(x)\n",
        "  if predicted_value != Y_data.to_numpy()[i]:\n",
        "    errors.append(restored_contexts[i])\n",
        "\n",
        "print('Всего ошибочных контекстов:', len(errors), '\\nОшибочные контексты без повторов:', len(set(errors)))\n"
      ],
      "metadata": {
        "colab": {
          "base_uri": "https://localhost:8080/"
        },
        "id": "kxeGmT74F6Dw",
        "outputId": "92e713ef-5a3e-4013-e0d7-77282558a880"
      },
      "execution_count": null,
      "outputs": [
        {
          "output_type": "stream",
          "name": "stdout",
          "text": [
            "Всего ошибочных контекстов: 6279 \n",
            "Ошибочные контексты без повторов: 1167\n"
          ]
        }
      ]
    },
    {
      "cell_type": "code",
      "source": [
        "print(f'Из {len(set(restored_contexts))} контекстов ошибки встречаются в {len(set(errors))}')"
      ],
      "metadata": {
        "colab": {
          "base_uri": "https://localhost:8080/"
        },
        "id": "ZhvDr4MNVlof",
        "outputId": "0954c145-5e06-48aa-8ff7-35adff7722cf"
      },
      "execution_count": null,
      "outputs": [
        {
          "output_type": "stream",
          "name": "stdout",
          "text": [
            "Из 1887 контекстов ошибки встречаются в 1167\n"
          ]
        }
      ]
    },
    {
      "cell_type": "code",
      "source": [
        "# посчитаем контексты, в которых ошибки случались более 10 раз\n",
        "repeated_errors = {}\n",
        "for i, x in enumerate(errors):\n",
        "  if errors.count(x) > 10:\n",
        "    repeated_errors[x] = errors.count(x)\n",
        "print(f'Чаще ошибки встречаются в {len(repeated_errors.keys())} контекстах')"
      ],
      "metadata": {
        "colab": {
          "base_uri": "https://localhost:8080/"
        },
        "id": "UvGXAHcGg-If",
        "outputId": "1e14028f-dc37-498c-8199-57a8c01b6e65"
      },
      "execution_count": null,
      "outputs": [
        {
          "output_type": "stream",
          "name": "stdout",
          "text": [
            "Чаще ошибки встречаются в 165 контекстах\n"
          ]
        }
      ]
    },
    {
      "cell_type": "code",
      "source": [
        "repeated_errors"
      ],
      "metadata": {
        "colab": {
          "base_uri": "https://localhost:8080/"
        },
        "id": "dlkQAcDQt2l5",
        "outputId": "47db42b8-3c9f-41ad-eba1-dd80d7909641"
      },
      "execution_count": null,
      "outputs": [
        {
          "output_type": "execute_result",
          "data": {
            "text/plain": [
              "{'_t': 14,\n",
              " 'o0t': 14,\n",
              " 'tt': 26,\n",
              " \"tn'\": 18,\n",
              " \"n't\": 15,\n",
              " 'dr': 14,\n",
              " 't': 35,\n",
              " 'mk': 15,\n",
              " 'pl': 20,\n",
              " 'tr': 32,\n",
              " 'rs': 26,\n",
              " '_a0': 18,\n",
              " 'kj': 13,\n",
              " 'jv': 13,\n",
              " 'rch': 14,\n",
              " \"ns'\": 20,\n",
              " 'n': 80,\n",
              " \"n'l\": 12,\n",
              " 'lp': 12,\n",
              " 'ps': 13,\n",
              " '_a1': 20,\n",
              " 'a0t': 12,\n",
              " 'tn': 13,\n",
              " 'dsh': 12,\n",
              " 'kk': 25,\n",
              " 'lk': 12,\n",
              " '_n': 22,\n",
              " 'kz': 16,\n",
              " 'tl': 19,\n",
              " 'np': 32,\n",
              " 'pd': 11,\n",
              " 'dzh': 14,\n",
              " 'dl': 16,\n",
              " 'pk': 14,\n",
              " 'rz': 18,\n",
              " 'gv': 27,\n",
              " 'vr': 14,\n",
              " 'sm': 14,\n",
              " \"n'\": 22,\n",
              " 'nch': 26,\n",
              " 'nzh': 14,\n",
              " 'bt': 12,\n",
              " 'tm': 37,\n",
              " 'chs': 34,\n",
              " 'nd': 17,\n",
              " 'dm': 13,\n",
              " \"mt'\": 20,\n",
              " \"v't'\": 14,\n",
              " \"pn'\": 14,\n",
              " \"n'm\": 26,\n",
              " 'mj': 13,\n",
              " 'j': 19,\n",
              " \"m'n'\": 24,\n",
              " \"l'n\": 64,\n",
              " 'ns': 28,\n",
              " \"s'l'\": 13,\n",
              " 'tj': 11,\n",
              " \"chn'\": 11,\n",
              " 'rd': 14,\n",
              " \"vr'\": 19,\n",
              " 'c': 16,\n",
              " \"p'r\": 12,\n",
              " 'zhn': 21,\n",
              " 'nl': 34,\n",
              " 'lt': 15,\n",
              " 'rv': 27,\n",
              " 'zh': 11,\n",
              " 'ng': 18,\n",
              " 'nf': 12,\n",
              " 'nm': 14,\n",
              " \"r't'\": 11,\n",
              " 'vj': 17,\n",
              " 'jm': 11,\n",
              " \"m'\": 14,\n",
              " 'nj': 18,\n",
              " \"n'k\": 39,\n",
              " 'v': 32,\n",
              " 'jj': 14,\n",
              " \"vl'\": 14,\n",
              " 'i4v': 19,\n",
              " \"n'e4\": 32,\n",
              " 'tv': 23,\n",
              " \"n'p\": 14,\n",
              " '_o0': 12,\n",
              " 'pch': 16,\n",
              " 'rzh': 18,\n",
              " \"zhn'\": 14,\n",
              " \"v'n\": 13,\n",
              " \"n'd\": 15,\n",
              " 'bl': 18,\n",
              " \"ls'\": 25,\n",
              " \"r'l\": 14,\n",
              " 'rsh': 16,\n",
              " 'ml': 17,\n",
              " 'ch': 11,\n",
              " 'pt': 30,\n",
              " '_e0': 16,\n",
              " 'tsh': 16,\n",
              " 'zhl': 20,\n",
              " 'ld': 14,\n",
              " 'dv': 11,\n",
              " \"vt'\": 14,\n",
              " \"t'l'\": 18,\n",
              " 'nv': 30,\n",
              " 'shv': 13,\n",
              " 'gl': 16,\n",
              " 'lv': 14,\n",
              " \"t'r\": 12,\n",
              " \"nv'\": 12,\n",
              " \"d'n\": 16,\n",
              " 'l': 33,\n",
              " 'kt': 15,\n",
              " 're4': 11,\n",
              " \"l'\": 17,\n",
              " \"p'r'\": 16,\n",
              " 'tb': 15,\n",
              " \"n'v\": 13,\n",
              " 'vk': 17,\n",
              " \"nl'\": 12,\n",
              " \"l'l\": 16,\n",
              " 'vt': 18,\n",
              " \"n's\": 13,\n",
              " \"rv'\": 14,\n",
              " 'p': 11,\n",
              " \"m't\": 38,\n",
              " \"bl'\": 22,\n",
              " 'lz': 12,\n",
              " \"v'r\": 22,\n",
              " 'kg': 23,\n",
              " \"r'i4\": 23,\n",
              " 'i4f': 14,\n",
              " 'vp': 11,\n",
              " \"k'\": 20,\n",
              " 'd': 13,\n",
              " 'ls': 17,\n",
              " 'vl': 18,\n",
              " 'tp': 13,\n",
              " 'nt': 43,\n",
              " \"hd'\": 11,\n",
              " \"t'\": 13,\n",
              " 'mzh': 12,\n",
              " 'dch': 11,\n",
              " 'chl': 14,\n",
              " \"v'ch\": 18,\n",
              " \"d'l\": 26,\n",
              " \"t'h\": 12,\n",
              " \"lt'\": 12,\n",
              " \"m'n\": 14,\n",
              " \"tl'\": 11,\n",
              " \"l'k\": 14,\n",
              " 'chr': 14,\n",
              " \"t'r'\": 18,\n",
              " 'km': 26,\n",
              " 'vd': 11,\n",
              " 's': 12,\n",
              " 'k': 25,\n",
              " 'nk': 16,\n",
              " \"l'n'\": 12,\n",
              " 'tzh': 12,\n",
              " \"r'v\": 21,\n",
              " \"s'n'\": 16,\n",
              " 'mt': 12,\n",
              " 'ne4': 17,\n",
              " 'cs': 11,\n",
              " 'chm': 14}"
            ]
          },
          "metadata": {},
          "execution_count": 100
        }
      ]
    },
    {
      "cell_type": "code",
      "source": [
        "# посмотрим, есть ли специфичные для ошибок контексты\n",
        "VV = 0\n",
        "CC = 0\n",
        "Cpal_Cpal = 0\n",
        "C_Cpal = 0\n",
        "Cpal_C = 0\n",
        "CV = 0\n",
        "# между мягким согласным и гласным\n",
        "CV_pal = 0\n",
        "B = 0\n",
        "BV = 0\n",
        "B_pal = 0\n",
        "pal_B = 0\n",
        "\n",
        "for x in repeated_errors.keys():\n",
        "  # выделим контексты с гласными\n",
        "  V_context = re.findall(r'[0-4]', x)\n",
        "  if len(V_context) > 1:\n",
        "    VV += 1\n",
        "  elif len(V_context) == 1:\n",
        "  # между гласным и мягким согласным\n",
        "    if len(re.findall(r\"'\", x)) > 0:\n",
        "      CV_pal += 1\n",
        "  # между гласным и границей слова\n",
        "    elif len(re.findall(r\"_\", x)) > 0:\n",
        "      BV += 1\n",
        "  # между гласным и твёрдым согласным\n",
        "    else:\n",
        "      CV += 1\n",
        "  else:\n",
        "    # проверим границу слова\n",
        "    # после мягкого на конце слова\n",
        "    if len(re.findall(r\"'\", x)) > 0 and x[-1] == \"_\":\n",
        "      pal_B += 1\n",
        "    # в начале слова перед мягким согласным\n",
        "    elif len(re.findall(r\"_\", x)) > 0 and x[-1] == \"'\":\n",
        "      B_pal += 1\n",
        "    # в конце или начале слова рядом с твёрдым согласным\n",
        "    elif len(re.findall(r\"_\", x)) > 0:\n",
        "      B += 0\n",
        "    else:\n",
        "      # между мягкими\n",
        "      if len(re.findall(r\"'\", x)) > 1:\n",
        "        Cpal_Cpal += 1\n",
        "      # перед мягким\n",
        "      elif x[-1] == \"'\":\n",
        "        C_Cpal += 1\n",
        "      # после мягкого\n",
        "      elif len(re.findall(r\"'\", x)) > 0:\n",
        "        Cpal_C += 1\n",
        "      # между твёрдыми\n",
        "      else:\n",
        "        CC += 1\n",
        "\n",
        "\n",
        "\n",
        "print(f'Между гласными {VV}')\n",
        "print(f'Между твёрдыми согласными {CC}')\n",
        "print(f'Между мягкими согласными {Cpal_Cpal}')\n",
        "print(f'После твёрдого и перед мягким согласными {C_Cpal}')\n",
        "print(f'После мягкого и перед твёрдым {Cpal_C}')\n",
        "print(f'Между гласным и согласным {CV}')\n",
        "print(f'Между гласным и мягким согласным {CV_pal}')\n",
        "print(f'На границе слова {B}')\n",
        "print(f'Между гласным и границей слова {BV}')\n",
        "print(f'В начале слова перед мягким согласным {B_pal}')\n",
        "print(f'В конце слова после мягкого согласного {pal_B}')\n",
        "\n"
      ],
      "metadata": {
        "colab": {
          "base_uri": "https://localhost:8080/"
        },
        "id": "W1vVQuasOKFo",
        "outputId": "1839c35e-c29d-447c-bdd5-a2dae5d03973"
      },
      "execution_count": null,
      "outputs": [
        {
          "output_type": "stream",
          "name": "stdout",
          "text": [
            "Между гласными 0\n",
            "Между твёрдыми согласными 97\n",
            "Между мягкими согласными 9\n",
            "После твёрдого и перед мягким согласными 22\n",
            "После мягкого и перед твёрдым 23\n",
            "Между гласным и согласным 6\n",
            "Между гласным и мягким согласным 2\n",
            "На границе слова 0\n",
            "Между гласным и границей слова 4\n",
            "В начале слова перед мягким согласным 0\n",
            "В конце слова после мягкого согласного 0\n"
          ]
        }
      ]
    },
    {
      "cell_type": "code",
      "source": [
        "max_err = max(VV, CC, Cpal_Cpal, C_Cpal, Cpal_C, CV, CV_pal, B, BV, B_pal, pal_B) / len(repeated_errors.keys()) * 100\n",
        "print(f'В {round(max_err, 2)}% процентах случаев ошибка в распознавании гласного возникает между твёрдыми согласными')"
      ],
      "metadata": {
        "colab": {
          "base_uri": "https://localhost:8080/"
        },
        "id": "IeRwaRT6oxT2",
        "outputId": "1d619722-a410-42e8-f587-a9296fdf64a0"
      },
      "execution_count": null,
      "outputs": [
        {
          "output_type": "stream",
          "name": "stdout",
          "text": [
            "В 58.79% процентах случаев ошибка в распознавании гласного возникает между твёрдыми согласными\n"
          ]
        }
      ]
    }
  ],
  "metadata": {
    "colab": {
      "provenance": [],
      "include_colab_link": true
    },
    "kernelspec": {
      "display_name": "Python 3",
      "name": "python3"
    },
    "language_info": {
      "name": "python"
    }
  },
  "nbformat": 4,
  "nbformat_minor": 0
}